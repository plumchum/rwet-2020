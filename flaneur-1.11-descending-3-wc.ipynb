{
 "cells": [
  {
   "cell_type": "code",
   "execution_count": 1,
   "metadata": {},
   "outputs": [],
   "source": [
    "text_a = open(\"luster.txt\").read()\n",
    "text_b = open(\"Baudelaire.txt\").read()"
   ]
  },
  {
   "cell_type": "code",
   "execution_count": 2,
   "metadata": {},
   "outputs": [
    {
     "name": "stdout",
     "output_type": "stream",
     "text": [
      "Requirement already satisfied: markovify in /Users/plummiewummie/opt/anaconda3/lib/python3.8/site-packages (0.8.3)\r\n",
      "Requirement already satisfied: unidecode in /Users/plummiewummie/opt/anaconda3/lib/python3.8/site-packages (from markovify) (1.1.1)\r\n"
     ]
    }
   ],
   "source": [
    "import sys\n",
    "!{sys.executable} -m pip install markovify"
   ]
  },
  {
   "cell_type": "code",
   "execution_count": 3,
   "metadata": {},
   "outputs": [],
   "source": [
    "import markovify"
   ]
  },
  {
   "cell_type": "code",
   "execution_count": 4,
   "metadata": {},
   "outputs": [],
   "source": [
    "generator_a = markovify.Text(text_a)\n",
    "generator_b = markovify.Text(text_b)"
   ]
  },
  {
   "cell_type": "code",
   "execution_count": 5,
   "metadata": {},
   "outputs": [],
   "source": [
    "class SentencesByChar(markovify.Text):\n",
    "    def word_split(self, sentence):\n",
    "        return list(sentence)\n",
    "    def word_join(self, words):\n",
    "        return \"\".join(words)"
   ]
  },
  {
   "cell_type": "code",
   "execution_count": 6,
   "metadata": {},
   "outputs": [],
   "source": [
    "con_model = SentencesByChar(\"condescendences\", state_size=2)"
   ]
  },
  {
   "cell_type": "code",
   "execution_count": 7,
   "metadata": {},
   "outputs": [],
   "source": [
    "gen_a_char = SentencesByChar(text_a, state_size=10)"
   ]
  },
  {
   "cell_type": "code",
   "execution_count": 8,
   "metadata": {},
   "outputs": [],
   "source": [
    "gen_b_char = SentencesByChar(text_b, state_size=10)"
   ]
  },
  {
   "cell_type": "code",
   "execution_count": 9,
   "metadata": {},
   "outputs": [],
   "source": [
    "generator_a = markovify.Text(text_a)\n",
    "generator_b = markovify.Text(text_b)\n",
    "combo_1 = markovify.combine([generator_a, generator_b], [0.05, 0.95])\n",
    "combo_2 = markovify.combine([generator_a, generator_b], [0.08, 0.92])\n",
    "combo_3 = markovify.combine([generator_a, generator_b], [0.11, 0.89])\n",
    "combo_4 = markovify.combine([generator_a, generator_b], [0.14, 0.86])\n",
    "combo_5 = markovify.combine([generator_a, generator_b], [0.17, 0.83])"
   ]
  },
  {
   "cell_type": "code",
   "execution_count": 13,
   "metadata": {
    "scrolled": false
   },
   "outputs": [
    {
     "name": "stdout",
     "output_type": "stream",
     "text": [
      "“I’m sorry,” I say, and my purse and void thy palace--reap A golden hoard within some azure hive?\n",
      "\n",
      "The next morning Eric texts me more stories in her foot, nothing is there.\n",
      "\n",
      "I am good at parties.\n",
      "\n",
      "Like rejuvenate suns that mount up to the door and am now late.\n",
      "\n",
      "This bitter glee Of vanquished mortals, full of plastic Price Chopper bags and a damp oubliette.\n"
     ]
    }
   ],
   "source": [
    "for i in range(1):\n",
    "    print(combo_5.make_sentence())\n",
    "    print()\n",
    "    print(combo_4.make_sentence())\n",
    "    print()\n",
    "    print(combo_3.make_sentence())\n",
    "    print()\n",
    "    print(combo_2.make_sentence())\n",
    "    print()\n",
    "    print(combo_1.make_sentence())"
   ]
  }
 ],
 "metadata": {
  "kernelspec": {
   "display_name": "Python 3",
   "language": "python",
   "name": "python3"
  },
  "language_info": {
   "codemirror_mode": {
    "name": "ipython",
    "version": 3
   },
   "file_extension": ".py",
   "mimetype": "text/x-python",
   "name": "python",
   "nbconvert_exporter": "python",
   "pygments_lexer": "ipython3",
   "version": "3.8.3"
  }
 },
 "nbformat": 4,
 "nbformat_minor": 4
}
