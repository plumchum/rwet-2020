{
 "cells": [
  {
   "cell_type": "code",
   "execution_count": 1,
   "metadata": {},
   "outputs": [],
   "source": [
    "text = open(\"luster_meetings.txt\").read()"
   ]
  },
  {
   "cell_type": "code",
   "execution_count": 2,
   "metadata": {},
   "outputs": [
    {
     "name": "stdout",
     "output_type": "stream",
     "text": [
      "Collecting package metadata (current_repodata.json): done\n",
      "Solving environment: done\n",
      "\n",
      "# All requested packages already installed.\n",
      "\n",
      "\n",
      "Note: you may need to restart the kernel to use updated packages.\n"
     ]
    }
   ],
   "source": [
    "conda install -c conda-forge spacy"
   ]
  },
  {
   "cell_type": "code",
   "execution_count": 3,
   "metadata": {},
   "outputs": [],
   "source": [
    "import json\n",
    "import spacy\n",
    "import random"
   ]
  },
  {
   "cell_type": "code",
   "execution_count": 4,
   "metadata": {},
   "outputs": [],
   "source": [
    "def hex_to_int(s):\n",
    "    s = s.lstrip(\"#\")\n",
    "    return np.array([int(s[:2], 16), int(s[2:4], 16), int(s[4:6], 16)])"
   ]
  },
  {
   "cell_type": "code",
   "execution_count": 5,
   "metadata": {},
   "outputs": [
    {
     "data": {
      "text/plain": [
       "0.01290036078727234"
      ]
     },
     "execution_count": 5,
     "metadata": {},
     "output_type": "execute_result"
    }
   ],
   "source": [
    "import math\n",
    "def distance2d(a, b):\n",
    "    return math.sqrt((a[0] - b[0])**2 + (a[1] - b[1])**2)\n",
    "\n",
    "prob_lookup = dict(json.load(open(\"./wordfreq-en-25000-log.json\")))\n",
    "math.exp(prob_lookup['i'])"
   ]
  },
  {
   "cell_type": "code",
   "execution_count": 6,
   "metadata": {},
   "outputs": [],
   "source": [
    "import spacy\n",
    "nlp = spacy.load('en_core_web_md')\n",
    "n = nlp(open(\"luster_meetings.txt\").read())"
   ]
  },
  {
   "cell_type": "code",
   "execution_count": 7,
   "metadata": {},
   "outputs": [],
   "source": [
    "import numpy as np\n",
    "from numpy.linalg import norm\n",
    "\n",
    "def vec(s):\n",
    "    return nlp.vocab[s].vector\n",
    "\n",
    "def meanv(vecs):\n",
    "    total = np.sum(vecs, axis=0)\n",
    "    return total / len(vecs)\n",
    "\n",
    "from numpy.linalg import norm\n",
    "def distance(a, b):\n",
    "    return norm(a - b)"
   ]
  },
  {
   "cell_type": "code",
   "execution_count": 8,
   "metadata": {
    "scrolled": true
   },
   "outputs": [],
   "source": [
    "from simpleneighbors import SimpleNeighbors\n",
    "\n",
    "lookup = SimpleNeighbors(300)\n",
    "for word in n:\n",
    "        if word.text.lower()not in lookup.corpus:\n",
    "            lookup.add_one(word.text.lower(), word.vector)\n",
    "lookup.build()"
   ]
  },
  {
   "cell_type": "code",
   "execution_count": 9,
   "metadata": {},
   "outputs": [
    {
     "data": {
      "text/plain": [
       "['eric',\n",
       " 'phil',\n",
       " 'mister',\n",
       " 'edie',\n",
       " 'rebecca',\n",
       " 'collins',\n",
       " 'rogers',\n",
       " 'clinton',\n",
       " 'essex',\n",
       " 'mae',\n",
       " 'tweety',\n",
       " 'taz']"
      ]
     },
     "execution_count": 9,
     "metadata": {},
     "output_type": "execute_result"
    }
   ],
   "source": [
    "lookup.nearest(vec('eric'))"
   ]
  },
  {
   "cell_type": "code",
   "execution_count": 10,
   "metadata": {
    "scrolled": true
   },
   "outputs": [
    {
     "data": {
      "text/plain": [
       "['rebecca',\n",
       " 'eric',\n",
       " 'edie',\n",
       " 'mister',\n",
       " 'phil',\n",
       " 'collins',\n",
       " 'rogers',\n",
       " 'clinton',\n",
       " 'tweety',\n",
       " 'taz',\n",
       " 'essex',\n",
       " 'tuesday']"
      ]
     },
     "execution_count": 10,
     "metadata": {},
     "output_type": "execute_result"
    }
   ],
   "source": [
    "lookup.nearest(meanv([vec(\"eric\"), vec(\"rebecca\")]))"
   ]
  },
  {
   "cell_type": "code",
   "execution_count": 11,
   "metadata": {},
   "outputs": [],
   "source": [
    "chunk_lookup = SimpleNeighbors(300)\n",
    "for chunk in n.noun_chunks:\n",
    "    chunk_text = chunk.text.replace(\"\\n\", \" \")\n",
    "    if chunk_text not in chunk_lookup.corpus:\n",
    "        chunk_lookup.add_one(chunk_text, chunk.vector)\n",
    "chunk_lookup.build()"
   ]
  },
  {
   "cell_type": "code",
   "execution_count": 12,
   "metadata": {
    "scrolled": true
   },
   "outputs": [
    {
     "data": {
      "text/plain": [
       "['“Edie',\n",
       " 'Rebecca',\n",
       " 'Eric',\n",
       " '“Rebecca',\n",
       " 'Raven Leilani',\n",
       " 'how tenderly Eric',\n",
       " 'Yale',\n",
       " 'African American',\n",
       " 'fox hair',\n",
       " 'I',\n",
       " 'Eric’s flushed face',\n",
       " 'Pompeii']"
      ]
     },
     "execution_count": 12,
     "metadata": {},
     "output_type": "execute_result"
    }
   ],
   "source": [
    "chunk_lookup.nearest(nlp(\"edie\").vector)"
   ]
  },
  {
   "cell_type": "code",
   "execution_count": 13,
   "metadata": {
    "scrolled": true
   },
   "outputs": [
    {
     "data": {
      "text/plain": [
       "['Yale',\n",
       " 'Appleton',\n",
       " 'African American',\n",
       " 'Milwaukee',\n",
       " 'Eric',\n",
       " 'Rebecca',\n",
       " 'a Phil Collins joint',\n",
       " '“Edie',\n",
       " 'Pompeii',\n",
       " '“Rebecca',\n",
       " 'DMV photos',\n",
       " 'how tenderly Eric']"
      ]
     },
     "execution_count": 13,
     "metadata": {},
     "output_type": "execute_result"
    }
   ],
   "source": [
    "chunk_lookup.nearest(nlp(\"Yale\").vector)"
   ]
  },
  {
   "cell_type": "code",
   "execution_count": 14,
   "metadata": {
    "scrolled": true
   },
   "outputs": [
    {
     "data": {
      "text/plain": [
       "[' The Family Romance',\n",
       " 'p.',\n",
       " 'The empty text field',\n",
       " 'possibilities',\n",
       " 'But the risk',\n",
       " 'The thrill',\n",
       " 'The idea',\n",
       " 'the thread',\n",
       " 'the sand',\n",
       " 'the soft recession',\n",
       " 'the photo',\n",
       " 'the train']"
      ]
     },
     "execution_count": 14,
     "metadata": {},
     "output_type": "execute_result"
    }
   ],
   "source": [
    "chunk_lookup.nearest(nlp(\"Akila\").vector)"
   ]
  },
  {
   "cell_type": "code",
   "execution_count": 15,
   "metadata": {},
   "outputs": [],
   "source": [
    "sentence_lookup = SimpleNeighbors(300)\n",
    "for sent in n.sents:\n",
    "    sentence_lookup.add_one(sent.text.replace(\"\\n\", \" \"), sent.vector)\n",
    "sentence_lookup.build()"
   ]
  },
  {
   "cell_type": "code",
   "execution_count": 16,
   "metadata": {},
   "outputs": [
    {
     "data": {
      "text/plain": [
       "['“Does Eric drink when he’s with you?”  ',\n",
       " 'I can tell you’ve never owned anything,” she says, and then she withdraws and says it’s time to bring out the cake.',\n",
       " 'He tells me what he ate for lunch and asks if I can manage to take off my underwear in my cubicle without anyone noticing.',\n",
       " '’s feelings deeply because of something I say or a face I make, which I will of course think about when I ride the train home, and actually, forever, even though I tried to be merry and keep the conversation light, even though I can’t sleep and I can’t shit, and someone is dying but that one song tells you to slide to the left',\n",
       " '“I know who you are but I don’t want to discuss it, if that’s all right with you,” she says, dusting herself off.',\n",
       " 'Eric says he’s sorry, and the apology feels like it is not about only the diaper, but more how this choice of location is turning out.',\n",
       " 'All I want is for him to have what he wants.',\n",
       " 'There is a moment when I think she is preparing to punch me.',\n",
       " 'and I think how strange it would be to say her name, to acknowledge that I know who she is even as she and Eric have taken such care to arrange our separation.',\n",
       " '—I can’t say what it is, but I get this feeling that this is actually his most honest form, and it really pisses me off.   ',\n",
       " 'She raises her arm above her head on the segue into it’s no stranger to you and me, and as one is wont to do after this verse, the whole room is braced for the breakdown, which Rebecca accommodates with a pause so sustained that I hear someone across the street scream, Where is the dog!',\n",
       " 'Rebecca’s omission of this information makes me wonder if she is, in fact, fucking with me.']"
      ]
     },
     "execution_count": 16,
     "metadata": {},
     "output_type": "execute_result"
    }
   ],
   "source": [
    "sentence_lookup.nearest(nlp(\"Does Eric drink when he’s with you?\").vector)"
   ]
  },
  {
   "cell_type": "markdown",
   "metadata": {},
   "source": [
    "# \"parts of speech\""
   ]
  },
  {
   "cell_type": "code",
   "execution_count": 17,
   "metadata": {},
   "outputs": [],
   "source": [
    "noun_lookup = SimpleNeighbors(300)\n",
    "for word in n:\n",
    "    if word.tag_ == 'NN' and word.text.lower() not in noun_lookup.corpus:\n",
    "        noun_lookup.add_one(word.text.lower(), word.vector)\n",
    "noun_lookup.build()"
   ]
  },
  {
   "cell_type": "code",
   "execution_count": 18,
   "metadata": {
    "scrolled": false
   },
   "outputs": [
    {
     "data": {
      "text/plain": [
       "['fox',\n",
       " 'moss',\n",
       " 'aunt',\n",
       " 'laugh',\n",
       " 'girl',\n",
       " 'doll',\n",
       " 'voodoo',\n",
       " 'daddy',\n",
       " 'husk',\n",
       " 'dress',\n",
       " 'makeup',\n",
       " 'haircut']"
      ]
     },
     "execution_count": 18,
     "metadata": {},
     "output_type": "execute_result"
    }
   ],
   "source": [
    "noun_lookup.nearest(vec(\"Edie\"))"
   ]
  },
  {
   "cell_type": "code",
   "execution_count": 19,
   "metadata": {},
   "outputs": [],
   "source": [
    "adj_lookup = SimpleNeighbors(300)\n",
    "for word in n:\n",
    "    if word.tag_ == 'JJ' and word.text.lower() not in adj_lookup.corpus:\n",
    "        adj_lookup.add_one(word.text.lower(), word.vector)\n",
    "adj_lookup.build()"
   ]
  },
  {
   "cell_type": "code",
   "execution_count": 20,
   "metadata": {},
   "outputs": [
    {
     "data": {
      "text/plain": [
       "['first',\n",
       " 'blue',\n",
       " 'uptown',\n",
       " 'new',\n",
       " 'impeccable',\n",
       " 'fond',\n",
       " 'empty',\n",
       " 'full',\n",
       " 'disciplinary',\n",
       " 'third',\n",
       " 'unseen',\n",
       " 'sweet']"
      ]
     },
     "execution_count": 20,
     "metadata": {},
     "output_type": "execute_result"
    }
   ],
   "source": [
    "adj_lookup.nearest(vec(\"Akila\"))"
   ]
  },
  {
   "cell_type": "code",
   "execution_count": 21,
   "metadata": {
    "scrolled": true
   },
   "outputs": [
    {
     "name": "stdout",
     "output_type": "stream",
     "text": [
      "yale\n",
      "\n",
      "tweety\n",
      "\n",
      "edie\n",
      "\n",
      "mae\n",
      "rebecca\n",
      "\n",
      "phil\n",
      "\n",
      "tuesday\n",
      "\n",
      "sallie\n",
      "eric\n",
      "\n",
      "phil\n",
      "\n",
      "taz\n",
      "\n",
      "rogers\n"
     ]
    }
   ],
   "source": [
    "for i in range(3):\n",
    "    print(random.choice(lookup.nearest(vec('Edie'))))\n",
    "    print()\n",
    "    print(random.choice(lookup.nearest(vec('Eric'))))\n",
    "    print()\n",
    "    print(random.choice(lookup.nearest(vec('Rebecca'))))\n",
    "    print()\n",
    "    print(random.choice(lookup.nearest(vec('Alika'))))"
   ]
  },
  {
   "cell_type": "code",
   "execution_count": 22,
   "metadata": {
    "scrolled": false
   },
   "outputs": [
    {
     "name": "stdout",
     "output_type": "stream",
     "text": [
      "old\n",
      "\n",
      "sex\n",
      "few\n",
      "\n",
      "child\n",
      "long\n",
      "\n",
      "body\n"
     ]
    }
   ],
   "source": [
    "for i in range(3):\n",
    "    print(random.choice(adj_lookup.nearest(vec(\"old\"))))\n",
    "    print()\n",
    "    print(random.choice(noun_lookup.nearest(vec(\"animal\"))))"
   ]
  },
  {
   "cell_type": "code",
   "execution_count": 24,
   "metadata": {},
   "outputs": [
    {
     "name": "stdout",
     "output_type": "stream",
     "text": [
      "9\n"
     ]
    }
   ],
   "source": [
    "stanza_count = random.randint(5,10)\n",
    "print(stanza_count)"
   ]
  },
  {
   "cell_type": "code",
   "execution_count": 25,
   "metadata": {
    "scrolled": false
   },
   "outputs": [
    {
     "name": "stdout",
     "output_type": "stream",
     "text": [
      "Some Meetings\n",
      "\n",
      "\n",
      "    pity\n",
      "    a\n",
      "    moment\n",
      "    dignity\n",
      "    u\n",
      "\n",
      "    e\n",
      "    p\n",
      "\n",
      "    e\n",
      "    y\n",
      "    i\n",
      "    v\n",
      "    b\n",
      "\n",
      "    l\n",
      "    everyone\n",
      "    moment\n",
      "    dignity\n",
      "    m\n",
      "\n",
      "    occasion\n",
      "    yearning\n",
      "    promise\n",
      "    everyone\n",
      "    yearning\n",
      "\n",
      "\n",
      "\n",
      "    pity\n",
      "    sympathy\n",
      "    i\n",
      "\n",
      "    a\n",
      "    occasion\n",
      "    a\n"
     ]
    }
   ],
   "source": [
    "print(\"Some Meetings\")\n",
    "print()\n",
    "\n",
    "for i in range(stanza_count):\n",
    "    print()\n",
    "    for i in range(random.randint(0,6)): #random chunk count\n",
    "        print(\"   \",random.choice(noun_lookup.nearest(vec(\"blessing\")) if random.random() > 0.5 else random.choice(noun_lookup.nearest(vec(\"curse\")))))\n",
    "              "
   ]
  },
  {
   "cell_type": "code",
   "execution_count": 26,
   "metadata": {},
   "outputs": [
    {
     "name": "stdout",
     "output_type": "stream",
     "text": [
      "10\n"
     ]
    }
   ],
   "source": [
    "stanza_count = random.randint(5,10)\n",
    "print(stanza_count)"
   ]
  },
  {
   "cell_type": "code",
   "execution_count": 27,
   "metadata": {
    "scrolled": false
   },
   "outputs": [
    {
     "name": "stdout",
     "output_type": "stream",
     "text": [
      "Some Meetings\n",
      "\n",
      "\n",
      "...\n",
      "    voodoo\n",
      "    dress\n",
      "    girl\n",
      "    p\n",
      "    d\n",
      "...\n",
      "    a\n",
      "    v\n",
      "...\n",
      "    b\n",
      "    s\n",
      "    doll\n",
      "    dress\n",
      "    makeup\n",
      "...\n",
      "    husk\n",
      "    u\n",
      "\n",
      "...\n",
      "    dress\n",
      "    doll\n",
      "    dress\n",
      "    l\n",
      "...\n",
      "    fox\n",
      "    o\n",
      "...\n",
      "    b\n",
      "    fox\n",
      "    husk\n",
      "    dress\n",
      "    e\n",
      "...\n",
      "    t\n",
      "    o\n",
      "    aunt\n",
      "    s\n",
      "\n",
      "...\n",
      "    v\n",
      "    fox\n",
      "    haircut\n",
      "    l\n",
      "...\n",
      "    aunt\n",
      "    d\n",
      "    v\n",
      "    f\n",
      "...\n",
      "    d\n",
      "    voodoo\n",
      "    l\n",
      "    t\n",
      "    moss\n",
      "...\n",
      "    d\n",
      "    voodoo\n",
      "    k\n",
      "\n",
      "...\n",
      "    aunt\n",
      "    doll\n",
      "    k\n",
      "    l\n",
      "    t\n",
      "...\n",
      "    daddy\n",
      "    c\n",
      "...\n",
      "    n\n",
      "    moss\n",
      "...\n",
      "    o\n",
      "    makeup\n",
      "    y\n",
      "\n",
      "...\n",
      "    voodoo\n",
      "    d\n",
      "    daddy\n",
      "...\n",
      "    husk\n",
      "    r\n",
      "    doll\n",
      "    d\n",
      "...\n",
      "    i\n",
      "    s\n",
      "    s\n",
      "...\n",
      "    haircut\n",
      "    a\n",
      "    d\n",
      "    laugh\n",
      "\n",
      "...\n",
      "    haircut\n",
      "...\n",
      "    moss\n",
      "...\n",
      "    moss\n",
      "    m\n",
      "    husk\n",
      "    r\n",
      "...\n",
      "    l\n",
      "    i\n",
      "\n",
      "...\n",
      "    husk\n",
      "    t\n",
      "    f\n",
      "    i\n",
      "    f\n",
      "...\n",
      "    e\n",
      "    a\n",
      "    fox\n",
      "    aunt\n",
      "    o\n",
      "...\n",
      "    haircut\n",
      "    b\n",
      "    makeup\n",
      "    t\n",
      "    d\n",
      "...\n",
      "    m\n",
      "    k\n",
      "\n",
      "...\n",
      "    dress\n",
      "    o\n",
      "    makeup\n",
      "    voodoo\n",
      "...\n",
      "    d\n",
      "    fox\n",
      "...\n",
      "    t\n",
      "    girl\n",
      "    daddy\n",
      "    aunt\n",
      "    s\n",
      "...\n",
      "    o\n",
      "    x\n",
      "    e\n",
      "\n",
      "...\n",
      "    moss\n",
      "...\n",
      "    v\n",
      "    voodoo\n",
      "...\n",
      "    husk\n",
      "    b\n",
      "    husk\n",
      "    k\n",
      "...\n",
      "    girl\n",
      "    l\n",
      "    l\n",
      "    girl\n",
      "    daddy\n",
      "\n",
      "...\n",
      "    y\n",
      "    fox\n",
      "...\n",
      "    fox\n",
      "    dress\n",
      "    e\n",
      "    laugh\n",
      "    y\n",
      "...\n",
      "    p\n",
      "    girl\n",
      "    s\n",
      "    n\n",
      "    girl\n",
      "...\n",
      "    fox\n",
      "    husk\n",
      "    moss\n"
     ]
    }
   ],
   "source": [
    "print(\"Some Meetings\")\n",
    "print()\n",
    "\n",
    "for i in range(stanza_count):\n",
    "    print()\n",
    "    print(\"...\")\n",
    "    for i in range(random.randint(1,5)): #random chunk count\n",
    "        print(\"   \",random.choice(noun_lookup.nearest(vec(\"edie\")) if random.random() > 0.5 else random.choice(noun_lookup.nearest(vec(\"eric\")))))\n",
    "    print(\"...\")\n",
    "    for i in range(random.randint(1,5)): #random chunk count\n",
    "        print(\"   \",random.choice(noun_lookup.nearest(vec(\"edie\")) if random.random() > 0.5 else random.choice(noun_lookup.nearest(vec(\"rebecca\")))))\n",
    "    print(\"...\")\n",
    "    for i in range(random.randint(1,5)): #random chunk count\n",
    "        print(\"   \",random.choice(noun_lookup.nearest(vec(\"edie\")) if random.random() > 0.5 else random.choice(noun_lookup.nearest(vec(\"akila\")))))\n",
    "    print(\"...\")\n",
    "    for i in range(random.randint(1,5)): \n",
    "        print(\"   \",random.choice(noun_lookup.nearest(vec(\"edie\")) if random.random() > 0.5 else random.choice(noun_lookup.nearest(vec(\"edie\")))))"
   ]
  }
 ],
 "metadata": {
  "kernelspec": {
   "display_name": "Python 3",
   "language": "python",
   "name": "python3"
  },
  "language_info": {
   "codemirror_mode": {
    "name": "ipython",
    "version": 3
   },
   "file_extension": ".py",
   "mimetype": "text/x-python",
   "name": "python",
   "nbconvert_exporter": "python",
   "pygments_lexer": "ipython3",
   "version": "3.8.3"
  }
 },
 "nbformat": 4,
 "nbformat_minor": 4
}
