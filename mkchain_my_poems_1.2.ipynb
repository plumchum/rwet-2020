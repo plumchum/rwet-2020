{
 "cells": [
  {
   "cell_type": "markdown",
   "metadata": {},
   "source": [
    "# playing with a couple of my poems"
   ]
  },
  {
   "cell_type": "code",
   "execution_count": 1,
   "metadata": {},
   "outputs": [
    {
     "name": "stdout",
     "output_type": "stream",
     "text": [
      "Requirement already satisfied: markovify in /Users/plummiewummie/opt/anaconda3/lib/python3.8/site-packages (0.8.3)\r\n",
      "Requirement already satisfied: unidecode in /Users/plummiewummie/opt/anaconda3/lib/python3.8/site-packages (from markovify) (1.1.1)\r\n"
     ]
    }
   ],
   "source": [
    "import sys\n",
    "!{sys.executable} -m pip install markovify"
   ]
  },
  {
   "cell_type": "code",
   "execution_count": 2,
   "metadata": {},
   "outputs": [],
   "source": [
    "import markovify"
   ]
  },
  {
   "cell_type": "code",
   "execution_count": 3,
   "metadata": {},
   "outputs": [],
   "source": [
    "poems_txt = open(\"several-plum-poems.txt\").read()\n",
    "poems_model = markovify.NewlineText(poems_txt, state_size=1)"
   ]
  },
  {
   "cell_type": "markdown",
   "metadata": {},
   "source": [
    "## a few of these sentences because i'm kinda shook"
   ]
  },
  {
   "cell_type": "code",
   "execution_count": 12,
   "metadata": {
    "scrolled": true
   },
   "outputs": [
    {
     "data": {
      "text/plain": [
       "'frothing and whistling as'"
      ]
     },
     "execution_count": 12,
     "metadata": {},
     "output_type": "execute_result"
    }
   ],
   "source": [
    "poems_model.make_sentence()"
   ]
  },
  {
   "cell_type": "code",
   "execution_count": 14,
   "metadata": {
    "scrolled": false
   },
   "outputs": [
    {
     "data": {
      "text/plain": [
       "'romance, the wave of blood'"
      ]
     },
     "execution_count": 14,
     "metadata": {},
     "output_type": "execute_result"
    }
   ],
   "source": [
    "poems_model.make_sentence()"
   ]
  },
  {
   "cell_type": "code",
   "execution_count": 19,
   "metadata": {
    "scrolled": true
   },
   "outputs": [
    {
     "data": {
      "text/plain": [
       "'and still, to eat today? I wish to help me'"
      ]
     },
     "execution_count": 19,
     "metadata": {},
     "output_type": "execute_result"
    }
   ],
   "source": [
    "poems_model.make_sentence()"
   ]
  },
  {
   "cell_type": "code",
   "execution_count": 20,
   "metadata": {
    "scrolled": false
   },
   "outputs": [
    {
     "data": {
      "text/plain": [
       "'others. occasionally a man lying on a wife'"
      ]
     },
     "execution_count": 20,
     "metadata": {},
     "output_type": "execute_result"
    }
   ],
   "source": [
    "poems_model.make_sentence()"
   ]
  },
  {
   "cell_type": "code",
   "execution_count": 21,
   "metadata": {},
   "outputs": [
    {
     "name": "stdout",
     "output_type": "stream",
     "text": [
      "morning when i have the birds\n",
      "falling on my teen years, out of blood\n",
      "It is a question i could only answer\n",
      "others. occasionally a small price to feel any other way.\n",
      "It is named watcher-of some head of that, take my prideful heart.\n",
      "For the kind only answer\n",
      "morning when i was in the early morning when i crossed my side at least. battling my prideful heart.\n"
     ]
    }
   ],
   "source": [
    "for i in range(7):\n",
    "    print(poems_model.make_sentence())"
   ]
  },
  {
   "cell_type": "code",
   "execution_count": 6,
   "metadata": {},
   "outputs": [],
   "source": [
    "class LinesByChar(markovify.NewlineText):\n",
    "    def word_split(self, sentence):\n",
    "        return list(sentence)\n",
    "    def word_join(self, words):\n",
    "        return \"\".join(words)"
   ]
  },
  {
   "cell_type": "code",
   "execution_count": 7,
   "metadata": {},
   "outputs": [],
   "source": [
    "poems_char_model = LinesByChar(poems_txt, state_size=4)"
   ]
  },
  {
   "cell_type": "code",
   "execution_count": 22,
   "metadata": {
    "scrolled": false
   },
   "outputs": [
    {
     "name": "stdout",
     "output_type": "stream",
     "text": [
      "both sides. admirers, out of\n",
      "   morning. come heart.\n",
      "     “together way.\n",
      "   in my not slept,\n",
      "in my countrysides. bullies\n",
      "between me anymore. notebooks, my own with me\n",
      "   by entertain seeps in spots\n",
      "     dreamt up from the birds\n",
      "   from the birds\n",
      "thick green years, my hour them,\n",
      "snapping poem\n",
      "   it is the wave not ghosts, and write for stories of broken conjure\n",
      "     when i cross\n",
      "   one and covers across\n",
      "of facing poem\n"
     ]
    }
   ],
   "source": [
    "for i in range(3):\n",
    "    print(poems_char_model.make_sentence())\n",
    "    print(\"  \", poems_char_model.make_sentence())\n",
    "    print(\"    \", poems_char_model.make_sentence())\n",
    "    print(\"  \", poems_char_model.make_sentence())\n",
    "    print(poems_char_model.make_sentence())"
   ]
  },
  {
   "cell_type": "markdown",
   "metadata": {},
   "source": [
    "### this is sort of making me appreciate my own imagery more lol"
   ]
  }
 ],
 "metadata": {
  "kernelspec": {
   "display_name": "Python 3",
   "language": "python",
   "name": "python3"
  },
  "language_info": {
   "codemirror_mode": {
    "name": "ipython",
    "version": 3
   },
   "file_extension": ".py",
   "mimetype": "text/x-python",
   "name": "python",
   "nbconvert_exporter": "python",
   "pygments_lexer": "ipython3",
   "version": "3.8.3"
  }
 },
 "nbformat": 4,
 "nbformat_minor": 4
}
