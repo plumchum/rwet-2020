{
 "cells": [
  {
   "cell_type": "markdown",
   "metadata": {},
   "source": [
    "## An Animal\n",
    "\n",
    "#### Based on \"A House of Dust\" by Alison Knowles and James Tenney. "
   ]
  },
  {
   "cell_type": "code",
   "execution_count": 35,
   "metadata": {},
   "outputs": [],
   "source": [
    "import random"
   ]
  },
  {
   "cell_type": "code",
   "execution_count": 44,
   "metadata": {},
   "outputs": [],
   "source": [
    "prefix = [\n",
    "    'mother-',\n",
    "    'father-',\n",
    "    'cocker-',\n",
    "    'gold-',\n",
    "    'milk-',\n",
    "    'honey-',\n",
    "    'jelly-',\n",
    "    'fruit-',\n",
    "    'wolf-',\n",
    "    'fancy-',\n",
    "    'sea-',\n",
    "    'butter-'\n",
    "]"
   ]
  },
  {
   "cell_type": "code",
   "execution_count": 45,
   "metadata": {},
   "outputs": [],
   "source": [
    "animal = [\n",
    "    'hen',\n",
    "    'bear',\n",
    "    'spaniel',\n",
    "    'fish',\n",
    "    'cow',\n",
    "    'bee',\n",
    "    'fish',\n",
    "    'bat',\n",
    "    'pup',\n",
    "    'rat',\n",
    "    'horse',\n",
    "    'fly'\n",
    "]"
   ]
  },
  {
   "cell_type": "code",
   "execution_count": 46,
   "metadata": {},
   "outputs": [],
   "source": [
    "made = [\n",
    "    'a happy nest',\n",
    "    'a fire, by accident',\n",
    "    'her way home',\n",
    "    'a portal',\n",
    "    'a friend',\n",
    "    'a home in the rock',\n",
    "    'a hole in the sand',\n",
    "    'quaint conversation',\n",
    "    'a marvelous dinner guest',\n",
    "    'love'\n",
    "    'another way out',\n",
    "    'a basket with great care',\n",
    "    'his way downtown',\n",
    "    'her way down the stream',\n",
    "    'about a million mistakes',\n",
    "    \n",
    "]"
   ]
  },
  {
   "cell_type": "code",
   "execution_count": 47,
   "metadata": {},
   "outputs": [],
   "source": [
    "had = [\n",
    "    'a litter-mate that died young',\n",
    "    'not seen a person before',\n",
    "    'no friends',\n",
    "    'no enemies',\n",
    "    'many an accident',\n",
    "    'been cast out by the clan',\n",
    "    'no qualms about his fate',\n",
    "]"
   ]
  },
  {
   "cell_type": "code",
   "execution_count": 48,
   "metadata": {},
   "outputs": [],
   "source": [
    "quirk = [\n",
    "    'collected coins and shiny buttons',\n",
    "    'sometimes went for long walks',\n",
    "    'pondered the nature of the tree',\n",
    "    'ate the grass on occasion',\n",
    "    'despised the lawn mower',\n",
    "    'came to understand true sacrifice',\n",
    "    'flew within dreams',\n",
    "    'stood at a tall height',\n",
    "    'ate a penny once and was never quite the same',\n",
    "    'would read, on occasion',\n",
    "    'ate the forbidden fruit',\n",
    "    'could climb',\n",
    "    'liked people quite a bit, thank you very much'\n",
    "]"
   ]
  },
  {
   "cell_type": "code",
   "execution_count": 49,
   "metadata": {
    "scrolled": true
   },
   "outputs": [
    {
     "name": "stdout",
     "output_type": "stream",
     "text": [
      "\n",
      "A butter-cow\n",
      "    who collected coins and shiny buttons\n",
      "          and had no friends\n",
      "                made a hole in the sand.\n",
      "\n",
      "A gold-horse\n",
      "    who flew within dreams\n",
      "          and had been cast out by the clan\n",
      "                made about a million mistakes.\n",
      "\n",
      "A fancy-fly\n",
      "    who pondered the nature of the tree\n",
      "          and had not seen a person before\n",
      "                made quaint conversation.\n"
     ]
    }
   ],
   "source": [
    "stanza_count = 3\n",
    "for i in range(stanza_count):\n",
    "    print()\n",
    "    print(\"A \" + random.choice(prefix) + random.choice(animal))\n",
    "    print(\"    who \" + random.choice(quirk))\n",
    "    print(\"          and had \" + random.choice(had))\n",
    "    print(\"                made \" + random.choice(made) + \".\")"
   ]
  },
  {
   "cell_type": "code",
   "execution_count": null,
   "metadata": {},
   "outputs": [],
   "source": []
  }
 ],
 "metadata": {
  "kernelspec": {
   "display_name": "Python 3",
   "language": "python",
   "name": "python3"
  },
  "language_info": {
   "codemirror_mode": {
    "name": "ipython",
    "version": 3
   },
   "file_extension": ".py",
   "mimetype": "text/x-python",
   "name": "python",
   "nbconvert_exporter": "python",
   "pygments_lexer": "ipython3",
   "version": "3.8.3"
  }
 },
 "nbformat": 4,
 "nbformat_minor": 2
}
