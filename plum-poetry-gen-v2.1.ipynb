{
 "cells": [
  {
   "cell_type": "markdown",
   "metadata": {},
   "source": [
    "## An Animal\n",
    "\n",
    "#### Based on \"A House of Dust\" by Alison Knowles and James Tenney. "
   ]
  },
  {
   "cell_type": "code",
   "execution_count": 1,
   "metadata": {},
   "outputs": [],
   "source": [
    "import random"
   ]
  },
  {
   "cell_type": "code",
   "execution_count": 2,
   "metadata": {},
   "outputs": [],
   "source": [
    "prefix = [\n",
    "    'mother-',\n",
    "    'father-'\n",
    "    'cocker-',\n",
    "    'gold-',\n",
    "    'milk-',\n",
    "    'honey-',\n",
    "    'jelly-',\n",
    "    'fruit-',\n",
    "    'wolf-',\n",
    "    'fancy-',\n",
    "    'sea-',\n",
    "    'butter-'\n",
    "]"
   ]
  },
  {
   "cell_type": "code",
   "execution_count": 3,
   "metadata": {},
   "outputs": [],
   "source": [
    "animal = [\n",
    "    'hen',\n",
    "    'bear'\n",
    "    'spaniel',\n",
    "    'fish',\n",
    "    'cow',\n",
    "    'bee',\n",
    "    'fish',\n",
    "    'bat',\n",
    "    'pup',\n",
    "    'rat',\n",
    "    'horse',\n",
    "    'fly'\n",
    "]"
   ]
  },
  {
   "cell_type": "code",
   "execution_count": 16,
   "metadata": {},
   "outputs": [],
   "source": [
    "made = [\n",
    "    'a happy nest',\n",
    "    'a fire, by accident',\n",
    "    'her way home',\n",
    "    'a portal',\n",
    "    'a friend',\n",
    "    'a home in the rock',\n",
    "    'a hole in the sand',\n",
    "    'quaint conversation',\n",
    "    'a marvelous dinner guest',\n",
    "    'love'\n",
    "]"
   ]
  },
  {
   "cell_type": "code",
   "execution_count": 12,
   "metadata": {},
   "outputs": [],
   "source": [
    "quirk = [\n",
    "    'had a litter-mate that died young',\n",
    "    'had not seen a person before',\n",
    "    'collected coins and shiny buttons',\n",
    "    'sometimes went for long walks',\n",
    "    'pondered the nature of the tree',\n",
    "    'had no friends',\n",
    "    'had no enemies',\n",
    "    'made many a mistake',\n",
    "    'ate the grass on occasion',\n",
    "    'despised the lawn mower',\n",
    "    'had been cast out by the clan',\n",
    "    'made no moves to defy fate',\n",
    "    'came to understand true sacrifice',\n",
    "    'flew within dreams',\n",
    "    'stood at a tall height',\n",
    "    'ate a penny once and was never quite the same',\n",
    "    'would read, on occasion',\n",
    "    'ate the forbidden fruit',\n",
    "    'could climb',\n",
    "    'liked people quite a bit, thank you very much'\n",
    "]"
   ]
  },
  {
   "cell_type": "code",
   "execution_count": 18,
   "metadata": {},
   "outputs": [
    {
     "name": "stdout",
     "output_type": "stream",
     "text": [
      "\n",
      "A sea-cow\n",
      "    who collected coins and shiny buttons\n",
      "          made a hole in the sand,\n",
      "                and then a home in the rock.\n",
      "\n",
      "A butter-pup\n",
      "    who despised the lawn mower\n",
      "          made a marvelous dinner guest,\n",
      "                and then a fire, by accident.\n",
      "\n",
      "A fruit-cow\n",
      "    who collected coins and shiny buttons\n",
      "          made a friend,\n",
      "                and then a happy nest.\n",
      "\n",
      "A fancy-fish\n",
      "    who had not seen a person before\n",
      "          made a happy nest,\n",
      "                and then a hole in the sand.\n",
      "\n",
      "A sea-fish\n",
      "    who had been cast out by the clan\n",
      "          made a friend,\n",
      "                and then her way home.\n"
     ]
    }
   ],
   "source": [
    "stanza_count = 3\n",
    "for i in range(stanza_count):\n",
    "    print()\n",
    "    print(\"A \" + random.choice(prefix) + random.choice(animal))\n",
    "    print(\"    who \" + random.choice(quirk))\n",
    "    print(\"          made \" + random.choice(made) + \",\")\n",
    "    print(\"                and then \" + random.choice(made) + \".\")"
   ]
  },
  {
   "cell_type": "code",
   "execution_count": null,
   "metadata": {},
   "outputs": [],
   "source": []
  }
 ],
 "metadata": {
  "kernelspec": {
   "display_name": "Python 3",
   "language": "python",
   "name": "python3"
  },
  "language_info": {
   "codemirror_mode": {
    "name": "ipython",
    "version": 3
   },
   "file_extension": ".py",
   "mimetype": "text/x-python",
   "name": "python",
   "nbconvert_exporter": "python",
   "pygments_lexer": "ipython3",
   "version": "3.8.3"
  }
 },
 "nbformat": 4,
 "nbformat_minor": 2
}
