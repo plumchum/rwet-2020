{
 "cells": [
  {
   "cell_type": "code",
   "execution_count": 18,
   "metadata": {},
   "outputs": [],
   "source": [
    "import random"
   ]
  },
  {
   "cell_type": "code",
   "execution_count": 19,
   "metadata": {},
   "outputs": [],
   "source": [
    "paragraph = [line.strip() for line in open(\"a_blessing_mary_oliver_2.txt\") if len(line.strip()) > 0]"
   ]
  },
  {
   "cell_type": "code",
   "execution_count": 20,
   "metadata": {},
   "outputs": [],
   "source": [
    "poem = [line.strip() for line in open(\"a_blessing_james_wright.txt\") if len(line.strip()) > 0]"
   ]
  },
  {
   "cell_type": "code",
   "execution_count": 21,
   "metadata": {
    "scrolled": false
   },
   "outputs": [
    {
     "data": {
      "text/plain": [
       "['A Blessing',\n",
       " 'Just off the highway to Rochester, Minnesota,',\n",
       " 'Twilight bounds softly forth on the grass.',\n",
       " 'And the eyes of those two Indian ponies',\n",
       " 'Darken with kindness.',\n",
       " 'They have come gladly out of the willows',\n",
       " 'To welcome my friend and me.',\n",
       " 'We step over the barbed wire into the pasture',\n",
       " 'Where they have been grazing all day, alone.',\n",
       " 'They ripple tensely, they can hardly contain their happiness',\n",
       " 'That we have come.',\n",
       " 'They bow shyly as wet swans. They love each other.',\n",
       " 'There is no loneliness like theirs.',\n",
       " 'At home once more,',\n",
       " 'They begin munching the young tufts of spring in the darkness.',\n",
       " 'I would like to hold the slenderer one in my arms,',\n",
       " 'For she has walked over to me',\n",
       " 'And nuzzled my left hand.',\n",
       " 'She is black and white,',\n",
       " 'Her mane falls wild on her forehead,',\n",
       " 'And the light breeze moves me to caress her long ear',\n",
       " 'That is delicate as the skin over a girl’s wrist.',\n",
       " 'Suddenly I realize',\n",
       " 'That if I stepped out of my body I would break',\n",
       " 'Into blossom.']"
      ]
     },
     "execution_count": 21,
     "metadata": {},
     "output_type": "execute_result"
    }
   ],
   "source": [
    "poem"
   ]
  },
  {
   "cell_type": "code",
   "execution_count": 22,
   "metadata": {
    "scrolled": false
   },
   "outputs": [
    {
     "data": {
      "text/plain": [
       "['What we saw filled our minds.',\n",
       " 'What we saw made us love and want to honor the world.',\n",
       " 'And dear readers, if anyone thinks children',\n",
       " 'in these difficult times do not need such peaceful intervals,',\n",
       " 'then hang up the phone, we are not having a conversation.',\n",
       " 'Without a doubt those summers changed my life and my friend’s.',\n",
       " 'Whoever I am, and whoever my friend is now, fifty years later,',\n",
       " 'we are both still part of this feast of the past.',\n",
       " 'Happiness and leaves--they went together.',\n",
       " 'The tender dripping of water on the tent roof,',\n",
       " 'from the maples or, once,',\n",
       " 'the realization that a baby skunk had taken to one of the cots',\n",
       " 'we slept on and was, on a rainy morning, in a sound sleep.',\n",
       " 'What could we do?',\n",
       " 'Think of us--or think of your own children--',\n",
       " 'in a tent that leaked only a little, and then',\n",
       " 'from the beautiful rain and the elegant maples--',\n",
       " 'think of us watching that very little skunk curled in the best blanket,',\n",
       " 'opening its eyes sleepily and then closing them again;',\n",
       " 'think of our silent and entirely happy laughter as we too went back to sleep.']"
      ]
     },
     "execution_count": 22,
     "metadata": {},
     "output_type": "execute_result"
    }
   ],
   "source": [
    "paragraph"
   ]
  },
  {
   "cell_type": "code",
   "execution_count": 23,
   "metadata": {
    "scrolled": false
   },
   "outputs": [
    {
     "data": {
      "text/plain": [
       "5"
      ]
     },
     "execution_count": 23,
     "metadata": {},
     "output_type": "execute_result"
    }
   ],
   "source": [
    "stanza_count = random.randint(1, 7)\n",
    "stanza_count"
   ]
  },
  {
   "cell_type": "code",
   "execution_count": 26,
   "metadata": {
    "scrolled": false
   },
   "outputs": [
    {
     "name": "stdout",
     "output_type": "stream",
     "text": [
      "A Blessing\n",
      "\n",
      "\n",
      "we are both still part of this feast of the past.\n",
      "then hang up the phone, we are not having a conversation.\n",
      "We step over the barbed wire into the pasture\n",
      "\n",
      "from the maples or, once,\n",
      "think of our silent and entirely happy laughter as we too went back to sleep.\n",
      "Whoever I am, and whoever my friend is now, fifty years later,\n",
      "\n",
      "from the maples or, once,\n",
      "Without a doubt those summers changed my life and my friend’s.\n",
      "we are both still part of this feast of the past.\n",
      "\n",
      "Where they have been grazing all day, alone.\n",
      "We step over the barbed wire into the pasture\n",
      "There is no loneliness like theirs.\n",
      "\n",
      "We step over the barbed wire into the pasture\n",
      "from the maples or, once,\n",
      "That we have come.\n"
     ]
    }
   ],
   "source": [
    "print(poem[0])\n",
    "print()\n",
    "\n",
    "for i in range(stanza_count):\n",
    "    print()\n",
    "    print(random.choice(paragraph) if random.random() > 0.5 else (random.choice(poem)))\n",
    "    print(random.choice(paragraph) if random.random() > 0.5 else (random.choice(poem)))\n",
    "    print(random.choice(paragraph) if random.random() > 0.5 else (random.choice(poem)))"
   ]
  }
 ],
 "metadata": {
  "kernelspec": {
   "display_name": "Python 3",
   "language": "python",
   "name": "python3"
  },
  "language_info": {
   "codemirror_mode": {
    "name": "ipython",
    "version": 3
   },
   "file_extension": ".py",
   "mimetype": "text/x-python",
   "name": "python",
   "nbconvert_exporter": "python",
   "pygments_lexer": "ipython3",
   "version": "3.8.3"
  }
 },
 "nbformat": 4,
 "nbformat_minor": 4
}
