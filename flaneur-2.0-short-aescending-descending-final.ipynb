{
 "cells": [
  {
   "cell_type": "code",
   "execution_count": 1,
   "metadata": {},
   "outputs": [],
   "source": [
    "text_a = open(\"luster.txt\").read()\n",
    "text_b = open(\"Baudelaire.txt\").read()"
   ]
  },
  {
   "cell_type": "code",
   "execution_count": 2,
   "metadata": {},
   "outputs": [
    {
     "name": "stdout",
     "output_type": "stream",
     "text": [
      "Requirement already satisfied: markovify in /Users/plummiewummie/opt/anaconda3/lib/python3.8/site-packages (0.8.3)\n",
      "Requirement already satisfied: unidecode in /Users/plummiewummie/opt/anaconda3/lib/python3.8/site-packages (from markovify) (1.1.1)\n",
      "\u001b[33mWARNING: You are using pip version 20.2.4; however, version 20.3 is available.\n",
      "You should consider upgrading via the '/Users/plummiewummie/opt/anaconda3/bin/python -m pip install --upgrade pip' command.\u001b[0m\n"
     ]
    }
   ],
   "source": [
    "import sys\n",
    "!{sys.executable} -m pip install markovify"
   ]
  },
  {
   "cell_type": "code",
   "execution_count": 3,
   "metadata": {},
   "outputs": [],
   "source": [
    "import markovify\n",
    "import random"
   ]
  },
  {
   "cell_type": "code",
   "execution_count": 4,
   "metadata": {},
   "outputs": [],
   "source": [
    "class SentencesByChar(markovify.Text):\n",
    "    def word_split(self, sentence):\n",
    "        return list(sentence)\n",
    "    def word_join(self, words):\n",
    "        return \"\".join(words)"
   ]
  },
  {
   "cell_type": "code",
   "execution_count": 5,
   "metadata": {},
   "outputs": [],
   "source": [
    "level = \"char\"\n",
    "order = 7\n",
    "output_n = 1\n",
    "\n",
    "weights = [0.5, 0.5]\n",
    "\n",
    "weight_1 = [0.01, 0.99]\n",
    "weight_2 = [0.035, 0.965]\n",
    "weight_3 = [0.06, 0.94]\n",
    "weight_4 = [0.085, 0.915]\n",
    "weight_5 = [0.11, 0.89]\n",
    "weight_6 = [0.135, 0.865]\n",
    "weight_7 = [0.16, 0.84]\n",
    "weight_8 = [0.185, 0.815]\n",
    "weight_9 = [0.21, 0.79]\n",
    "\n",
    "length_limit = 280"
   ]
  },
  {
   "cell_type": "markdown",
   "metadata": {},
   "source": [
    "# Ascending short"
   ]
  },
  {
   "cell_type": "code",
   "execution_count": 6,
   "metadata": {},
   "outputs": [],
   "source": [
    "level = \"char\"\n",
    "order = 7\n",
    "output_n = 30\n",
    "\n",
    "weights = [0.5, 0.5]\n",
    "\n",
    "weight_1 = [0.01, 0.99]\n",
    "weight_2 = [0.035, 0.965]\n",
    "weight_3 = [0.06, 0.94]\n",
    "weight_4 = [0.085, 0.915]\n",
    "weight_5 = [0.11, 0.89]\n",
    "weight_6 = [0.135, 0.865]\n",
    "weight_7 = [0.16, 0.84]\n",
    "weight_8 = [0.185, 0.815]\n",
    "weight_9 = [0.21, 0.79]\n",
    "\n",
    "length_limit = 280"
   ]
  },
  {
   "cell_type": "code",
   "execution_count": 7,
   "metadata": {},
   "outputs": [],
   "source": [
    "model_cls = markovify.Text if level == \"word\" else SentencesByChar\n",
    "gen_a = model_cls(text_a, state_size=order)\n",
    "gen_b = model_cls(text_b, state_size=order)\n",
    "gen_combo_1 = markovify.combine([gen_a, gen_b], weight_1)\n",
    "gen_combo_2 = markovify.combine([gen_a, gen_b], weight_2)\n",
    "gen_combo_3 = markovify.combine([gen_a, gen_b], weight_3)\n",
    "gen_combo_4 = markovify.combine([gen_a, gen_b], weight_4)\n",
    "gen_combo_5 = markovify.combine([gen_a, gen_b], weight_5)\n",
    "gen_combo_6 = markovify.combine([gen_a, gen_b], weight_6)\n",
    "gen_combo_7 = markovify.combine([gen_a, gen_b], weight_7)\n",
    "gen_combo_8 = markovify.combine([gen_a, gen_b], weight_8)\n",
    "gen_combo_9 = markovify.combine([gen_a, gen_b], weight_9)"
   ]
  },
  {
   "cell_type": "markdown",
   "metadata": {},
   "source": [
    "### ONE"
   ]
  },
  {
   "cell_type": "code",
   "execution_count": 8,
   "metadata": {
    "scrolled": false
   },
   "outputs": [
    {
     "name": "stdout",
     "output_type": "stream",
     "text": [
      "None\n",
      "None\n",
      "I want compare thee thus!\n",
      "Let's, like the sea.\n",
      "When I was less trite.\n",
      "None\n",
      "Large eyes there.\n",
      "A few, with cold?\n",
      "Her voice is swift.\n",
      "Yea, light of the night.\n",
      "I don’t bicker, and the lone.\n",
      "All one to me as the top.\n",
      "None\n",
      "Or yet with pride to sleep.\n",
      "I wish, as the night.\n",
      "I can feels the town.\n",
      "None\n",
      "This bitter, on a headset.\n",
      "Sadness rises supreme?\n",
      "It is the beasts!\n",
      "He drive into a supplied.\n",
      "Within the pallid seasons of blue.\n",
      "Man and the mists and of tears!\n",
      "I cherished glass.\n",
      "Yea, does thy spirit on his beat.\n",
      "The viols which exhale!\n",
      "So I eat this office news.\n",
      "Within the evening airs?\n",
      "I wish, as the night.\n",
      "A few, with strong tresses!\n"
     ]
    }
   ],
   "source": [
    "for i in range(output_n):\n",
    "    spacing = gen_combo_1.make_short_sentence(50)\n",
    "    print(spacing)"
   ]
  },
  {
   "cell_type": "markdown",
   "metadata": {},
   "source": [
    "### TWO"
   ]
  },
  {
   "cell_type": "code",
   "execution_count": 9,
   "metadata": {
    "scrolled": false
   },
   "outputs": [
    {
     "name": "stdout",
     "output_type": "stream",
     "text": [
      "When the mother week.\n",
      "Sadness rises supreme?\n",
      "“Why did you doing?\n",
      "They are my idea.\n",
      "I know that he would take it apart.\n",
      "When I behold it is the town.\n",
      "In days with cold?\n",
      "A few, with cold?\n",
      "Or yet with smoke.\n",
      "I cherished glass.\n",
      "And yet these concert.\n",
      "I stay until the memory?\n",
      "I abominated and red.\n",
      "I roll down in the points.\n",
      "I am not once in one!\n",
      "All I want compute.\n",
      "The guest coming home.\n",
      "I leave to be the evening airs?\n",
      "The tables and sighs!\n",
      "I arrive into his beat.\n",
      "The suns that appears on lunch.\n",
      "But today has the stairs?\n",
      "“Where doing three days.”\n",
      "It is the town.\n",
      "I turn and wind!\n",
      "When every map and Gushers me a care.\n",
      "It’s not to notice I have ever rife!\n",
      "He asks for his context.\n",
      "Because to another word.\n",
      "When I want to shave ever rife!\n"
     ]
    }
   ],
   "source": [
    "for i in range(output_n):\n",
    "    spacing = gen_combo_2.make_short_sentence(50)\n",
    "    print(spacing)"
   ]
  },
  {
   "cell_type": "markdown",
   "metadata": {},
   "source": [
    "### THREE"
   ]
  },
  {
   "cell_type": "code",
   "execution_count": 10,
   "metadata": {
    "scrolled": false
   },
   "outputs": [
    {
     "name": "stdout",
     "output_type": "stream",
     "text": [
      "When he pushes me ill.\n",
      "I reach for himself a cartoon.\n",
      "We enter and savor the nights!\n",
      "On the sound like the things.\n",
      "Exhausting my hands.\n",
      "--Be sweetly our reflection.\n",
      "I rinse the trash.\n",
      "So he camera, of my child!\n",
      "Because the cabbage soup.\n",
      "They were doing after fifteen cents.\n",
      "Downstairs and bananas.\n",
      "It is unsurprises me.\n",
      "Within the cheese.\n",
      "However, his old suburban crime.\n",
      "The acceptable to punch me.\n",
      "Akila extends his cock.\n",
      "Illusion a prompting or chaste court.\n",
      "I try to be over.\n",
      "The voice o'er their hands.\n",
      "Everything the air.\n",
      "II\n",
      "\n",
      "   I am late.\n",
      "“You didn’t talk.\n",
      "I want to be friends!\n",
      "A guy who calls with cold?\n",
      "Against the door and feel in the stairs?\n",
      "I am aware that in his restraint.\n",
      "Large eyes of flesh.\n",
      "If she sees the radio voice o'er thee.\n",
      "After she stops and divine.\n",
      "“All of the mosh.\n"
     ]
    }
   ],
   "source": [
    "for i in range(output_n):\n",
    "    spacing = gen_combo_4.make_short_sentence(50)\n",
    "    print(spacing)"
   ]
  },
  {
   "cell_type": "markdown",
   "metadata": {},
   "source": [
    "### FOUR"
   ]
  },
  {
   "cell_type": "code",
   "execution_count": 11,
   "metadata": {
    "scrolled": false
   },
   "outputs": [
    {
     "name": "stdout",
     "output_type": "stream",
     "text": [
      "I sent it would prefer.\n",
      "I am their eyes that shrine.\n",
      "She smiled, shrink from his head.\n",
      "His body would inspire!\n",
      "The old woman in their turns.\n",
      "When I look up the room less drear.\n",
      "“You better, but I am at the ceremonial.”\n",
      "My soul, more profound.\n",
      "It is there is not horny breed.\n",
      "“That document in one!\n",
      "How lovely likes.\n",
      "He drive to the dawn!\n",
      "If I destroy, that foams on the TV.\n",
      "But I was ten and stern.\n",
      "His face into a series warm.\n",
      "I sit down, and I panic.\n",
      "We try to find my eyes.\n",
      "“I mean we have to watch TV.\n",
      "I say, and light up to therapy.”\n",
      "There is a farewell.\n",
      "To her, with love,\n",
      "   The while his monologue.\n",
      "He owned the sky.\n",
      "Cats\n",
      "\n",
      "\n",
      "   Alas my spine.\n",
      "So long time for which exhale!\n",
      "“I just eat it over in my pride!\n",
      "He pulls my name.\n",
      "“You can’t helped.\n",
      "And even in weeks.\n",
      "The cane was home.\n",
      "“I’m sorry he pushes my face.\n"
     ]
    }
   ],
   "source": [
    "for i in range(output_n):\n",
    "    spacing = gen_combo_4.make_short_sentence(50)\n",
    "    print(spacing)"
   ]
  },
  {
   "cell_type": "markdown",
   "metadata": {},
   "source": [
    "### FIVE"
   ]
  },
  {
   "cell_type": "code",
   "execution_count": 12,
   "metadata": {
    "scrolled": false
   },
   "outputs": [
    {
     "name": "stdout",
     "output_type": "stream",
     "text": [
      "I mean, but never I smile.\n",
      "I get one patronizing.\n",
      "I make a few of my hand into the floor.\n",
      "She looks me over the same.\n",
      "We leave?” she asked her town.\n",
      "Oh, happy to be casual.\n",
      "Maybe I can find.\n",
      "To her, with sweat.\n",
      "There are cars and the town.\n",
      "Within this was the seas!\n",
      "I think to my dolls.\n",
      "She doesn’t as serious,\n",
      "   And from Bushwick.”\n",
      "I hate their loves me.\n",
      "Between my phone, the sides.\n",
      "I don’t even older and looks good.\n",
      "“We adopted by someone is always played King Cole.\n",
      "The viols which does it again.\n",
      "Someone’s silk scarf.\n",
      "As we are too small voice.\n",
      "When I get on her.\n",
      "The whole of Renown!\n",
      "Mistress my face.\n",
      "I unzip my sketchbook.\n",
      "I have entertainment.\n",
      "She takes the walls.\n",
      "When all that we do?”\n",
      "Have you again she is tiring.\n",
      "Not simply for the night.\n",
      "I open the city and wind!\n",
      "A loudly echo back.\n"
     ]
    }
   ],
   "source": [
    "for i in range(output_n):\n",
    "    spacing = gen_combo_5.make_short_sentence(50)\n",
    "    print(spacing)"
   ]
  },
  {
   "cell_type": "markdown",
   "metadata": {},
   "source": [
    "### SIX"
   ]
  },
  {
   "cell_type": "code",
   "execution_count": 13,
   "metadata": {
    "scrolled": false
   },
   "outputs": [
    {
     "name": "stdout",
     "output_type": "stream",
     "text": [
      "When she seems a very chaste.\n",
      "Large eyes I divine,\n",
      "   And from a servers.\n",
      "We bought for the nights!\n",
      "Yea, light and this is gone.\n",
      "“People she slept enough to miss them.\n",
      "Whose glance, not out of her breathe.\n",
      "We were always been told.\n",
      "The friend! alone have been wrong.\n",
      "“She has happy.\n",
      "On the stairs to go home, we get to this friends!\n",
      "Aroma--causing to pull my dreams!\n",
      "It reminded that technology.\n",
      "The gun with you.”\n",
      "I go into my knee.\n",
      "To her, with her, her face.\n",
      "The office, like a drink than I need help.\n",
      "I sit at my depicture of Renown!\n",
      "Then he pushes me ill.\n",
      "It is the recognize.\n",
      "We are beauties in thine eyes.\n",
      "Because it anew.\n",
      "She would like a moment he was dying sun.\n",
      "Her mouths and the TV.\n",
      "This was his beat.\n",
      "She asks a sleeve, the body was here.\n",
      "Aloof is a considers.\n",
      "So when he texts, or the nights.\n",
      "Thine eyes, they the dark.”\n",
      "“Can I ask Akila’s shirt.\n",
      "As well, will your fair eyes.\n"
     ]
    }
   ],
   "source": [
    "for i in range(output_n):\n",
    "    spacing = gen_combo_6.make_short_sentence(50)\n",
    "    print(spacing)"
   ]
  },
  {
   "cell_type": "markdown",
   "metadata": {},
   "source": [
    "### SEVEN"
   ]
  },
  {
   "cell_type": "code",
   "execution_count": 14,
   "metadata": {
    "scrolled": false
   },
   "outputs": [
    {
     "name": "stdout",
     "output_type": "stream",
     "text": [
      "“No, I like taste the movie theater.\n",
      "He hasn’t so easy.\n",
      "I saw flowering surprises me.\n",
      "Down yonder to starve.\n",
      "I cherished glass.\n",
      "It feels more attracting me away.\n",
      "I have to words, the spatula.\n",
      "I go outside to thank you shoulder.\n",
      "* * *\n",
      "\n",
      "\n",
      "\n",
      "The first protest.\n",
      "“That’s such a butter.\n",
      "I hate everyone was a dog.\n",
      "How I thoughts, okay?\n",
      "By date with delight!\n",
      "Even me the waters living in three others a care.\n",
      "I take the nothing thing is there.\n",
      "If it is dead.\n",
      "She seems to be in place?”\n",
      "“I feel beyond hello.\n",
      "She tells me not a chasm drawn.\n",
      "He was always felt my power drill.\n",
      "And this too much.\n",
      "He knows in thy heart and brook....\n",
      "I open their mother.\n",
      "Mistress of it then?”\n",
      "Except as a slew of pretend to be the line.\n",
      "How she was a miscommunion.\n",
      "I assure her husband and got clean.\n",
      "“I’m sorry,” she saw.\n",
      "Beyond this is a relief.\n",
      "She is common.\n"
     ]
    }
   ],
   "source": [
    "for i in range(output_n):\n",
    "    spacing = gen_combo_7.make_short_sentence(50)\n",
    "    print(spacing)"
   ]
  },
  {
   "cell_type": "markdown",
   "metadata": {},
   "source": [
    "### EIGHT"
   ]
  },
  {
   "cell_type": "code",
   "execution_count": 15,
   "metadata": {
    "scrolled": false
   },
   "outputs": [
    {
     "name": "stdout",
     "output_type": "stream",
     "text": [
      "I take sometimes.”\n",
      "I leave, but the normal, too gently.\n",
      "I stand when we were people.\n",
      "I look that sayest thou the positional bowels.\n",
      "“Do you ever saw.\n",
      "I did like those years ago.\n",
      "The editor of the paper.\n",
      "It is the air as we are out hard.\n",
      "But then again, okay?”\n",
      "At a more rude and laughs.\n",
      "I abominated and brain damage.\n",
      "At times so prolific.\n",
      "When I look up from her.\n",
      "It is some thing.”\n",
      "Below us, that I am envious.\n",
      "I feel awful that I pretense.\n",
      "When he pressure her there.\n",
      "At my depicture of this.\n",
      "When we reach my door.\n",
      "Just as I’m due.\n",
      "And yet, like a veil!\n",
      "I know I would like.\n",
      "All of instant regret.\n",
      "The waiting for her boyfriends!\n",
      "Mists and thy mouth.\n",
      "But of confectious.\n",
      "I dig a hole about what he is trying soup.\n",
      "As Rebecca rolls her way out.\n",
      "But you’re not overt.\n",
      "“And so ten days.\n"
     ]
    }
   ],
   "source": [
    "for i in range(output_n):\n",
    "    spacing = gen_combo_8.make_short_sentence(50)\n",
    "    print(spacing)"
   ]
  },
  {
   "cell_type": "markdown",
   "metadata": {},
   "source": [
    "### NINE"
   ]
  },
  {
   "cell_type": "code",
   "execution_count": 16,
   "metadata": {
    "scrolled": false
   },
   "outputs": [
    {
     "name": "stdout",
     "output_type": "stream",
     "text": [
      "We get one patronizing.\n",
      "My soul is a tremor.\n",
      "I ask, just like him.”\n",
      "On the bares her ring.\n",
      "Like a long with them.\n",
      "I like it is agony.\n",
      "From all transplendent one!\n",
      "Though now I am still in her closed.\n",
      "“That document in where never saw.\n",
      "Down yonder to begin.\n",
      "I wondering to work.\n",
      "I have to watch, thou all my fruit.\n",
      "Maybe I bring it back.\n",
      "So it hasn’t a joke.\n",
      "My mother words, and office.\n",
      "And when Eric was born.\n",
      "My mother’s penis.\n",
      "There is a complete.\n",
      "To see him, too.\n",
      "Sometimes I see that sing along.\n",
      "The night where a sport.\n",
      "Within this choice.\n",
      "As I try to grasp.\n",
      "If I destroy, that falls on a trip.\n",
      "I close to the dark.\n",
      "“Are you think that I’m behind it.\n",
      "It took her right.\n",
      "He took me to think of my neck.\n",
      "A ball down to him the trash.\n",
      "We met on my thumbs.\n"
     ]
    }
   ],
   "source": [
    "for i in range(output_n):\n",
    "    spacing = gen_combo_9.make_short_sentence(50)\n",
    "    print(spacing)"
   ]
  },
  {
   "cell_type": "code",
   "execution_count": 25,
   "metadata": {
    "scrolled": false
   },
   "outputs": [
    {
     "name": "stdout",
     "output_type": "stream",
     "text": [
      "His body would go well.\n",
      "She might be dissuaded.\n",
      "Jason from the toilet.\n",
      "I type it into the great deal of it.\n",
      "Agile and only been in the door.”\n",
      "Even me the water and careful.\n",
      "It is only the sympathetic frizz.\n",
      "Hamish from a dream.\n",
      "She puts the night.”\n",
      "I turn these thing is nothing, I am envious.\n",
      "We turn back in his wife’s dress better.\n",
      "“You like her boots.\n",
      "Maybe this go on.\n",
      "Even if there.\n",
      "I only recent memory?\n",
      "She is an understands motions, our stay.\n",
      "“I’m sorry he pushes the last thirteen.\n",
      "I think of what we didn’t mean to cyan.\n",
      "He was alive in the most.\n",
      "Because the nose.\n",
      "So thus, she sees mine.\n",
      "And all the archivists.\n",
      "This isn’t engage.\n",
      "Every Tuesday publicity.\n",
      "And if I fell out of hearts, and the boot.\n",
      "We can’t helped.\n",
      "I leave and watch.\n",
      "“Where is different men.\n",
      "“I have been built.\n",
      "Before I find her ease, the school.\n"
     ]
    }
   ],
   "source": [
    "for i in range(output_n):\n",
    "    spacing = gen_combo_9.make_short_sentence(50)\n",
    "    print(spacing)"
   ]
  },
  {
   "cell_type": "code",
   "execution_count": 26,
   "metadata": {
    "scrolled": false
   },
   "outputs": [
    {
     "name": "stdout",
     "output_type": "stream",
     "text": [
      "At the hard, soft technology.\n",
      "The way can take a school, we go for butter.\n",
      "Rebecca insisting, which I don’t.\n",
      "I mean I put it in the drop.\n",
      "He opens the rink.\n",
      "He could take a drink that.”\n",
      "And the meditation.\n",
      "Ye charm of these night.\n",
      "A starlet ideal, I go out of his strength.\n",
      "When we reaches in with you?”\n",
      "Band-Aids and beyond hello.\n",
      "We were all Asian.\n",
      "We went missing pieces.\n",
      "“How would appeared.\n",
      "The different parking lot.\n",
      "She makes a cough.\n",
      "“Let me take the first.\n",
      "Yet sadness about it.\n",
      "I mix some time I was wrong.\n",
      "I get dresses in my ears, things.”\n",
      "And then at the top.”\n",
      "It makes a human neck.\n",
      "And I just know when it isn’t a lie.\n",
      "He seems to figures with an interesting-place.\n",
      "Eric brings out, the means.\n",
      "You are not sure if it’s true.\n",
      "It is the lenses of my face.\n",
      "I like in and look at me.\n",
      "He owned therapy.”\n",
      "For most of my clothes.\n"
     ]
    }
   ],
   "source": [
    "for i in range(output_n):\n",
    "    spacing = gen_combo_9.make_short_sentence(50)\n",
    "    print(spacing)"
   ]
  },
  {
   "cell_type": "markdown",
   "metadata": {},
   "source": [
    "### EIGHT"
   ]
  },
  {
   "cell_type": "code",
   "execution_count": 17,
   "metadata": {},
   "outputs": [
    {
     "name": "stdout",
     "output_type": "stream",
     "text": [
      "Rebecca is the player.\n",
      "A black and we fall.\n",
      "I made me seems to pretending headphones.\n",
      "When she won’t give.\n",
      "The route to eat.\n",
      "They hold you believe he is removing parts.\n",
      "But conversation, “Don’t you.”\n",
      "He’s a good impressed.\n",
      "I post a joke to mind.\n",
      "Akila drapes the top.\n",
      "“I thoughts that he is maybe the fuel.\n",
      "When they bring up the weeks I don’t.\n",
      "When Eric pointed to touch myself.\n",
      "A few, with her hair.\n",
      "Rebecca smooth grateful.\n",
      "I could not great.\n",
      "I find wait for long.\n",
      "I should also as difficulty.\n",
      "There is the impression.”\n",
      "“Don’t be surprised.\n",
      "I close this time I think about baboon.\n",
      "We are a few weeks since then, a rotting at all.\n",
      "Thirty dollars on my face.\n",
      "I do what he tries to my mouth.\n",
      "The effort to make it to Akila.\n",
      "Later in my arms.\n",
      "A thing about town.\n",
      "So it felt like, please stop.\n",
      "She pushes me aback.\n",
      "I take picture of thine eyes.\n"
     ]
    }
   ],
   "source": [
    "for i in range(output_n):\n",
    "    spacing = gen_combo_8.make_short_sentence(50)\n",
    "    print(spacing)"
   ]
  },
  {
   "cell_type": "markdown",
   "metadata": {},
   "source": [
    "### SEVEN"
   ]
  },
  {
   "cell_type": "code",
   "execution_count": 18,
   "metadata": {
    "scrolled": false
   },
   "outputs": [
    {
     "name": "stdout",
     "output_type": "stream",
     "text": [
      "I know I want all the binding along.\n",
      "I stay up with smoke.\n",
      "It is a person.\n",
      "She offers me down the scalp.\n",
      "Things I went well, no.”\n",
      "But for a travel for a new one.”\n",
      "What matter wheel.\n",
      "All one to stop.\n",
      "She turns to mean that.\n",
      "I have to do anything.\n",
      "When we stand as I gather myself off.\n",
      "“That paintings we’d said.\n",
      "I bring up to the house.\n",
      "I take him less trite.\n",
      "His profile it lifts through the trees.\n",
      "Have you seem to be art and jeans.\n",
      "I see a black people.\n",
      "I go back under his wife.\n",
      "Or yet with ecstasy.\n",
      "There is a tomb.\n",
      "I make a good time.\n",
      "That I would mean.\n",
      "If it is the same.\n",
      "The days and glitter dunes.\n",
      "Because my fingers into their eyes.\n",
      "How she was back to myself.\n",
      "I just a concludes.\n",
      "Down yonder to smile.\n",
      "What the pretend to be.\n",
      "Buckle in force sincerity.\n"
     ]
    }
   ],
   "source": [
    "for i in range(output_n):\n",
    "    spacing = gen_combo_7.make_short_sentence(50)\n",
    "    print(spacing)"
   ]
  },
  {
   "cell_type": "markdown",
   "metadata": {},
   "source": [
    "### SIX"
   ]
  },
  {
   "cell_type": "code",
   "execution_count": 19,
   "metadata": {
    "scrolled": false
   },
   "outputs": [
    {
     "name": "stdout",
     "output_type": "stream",
     "text": [
      "I realizing immaterialize.\n",
      "I hate thee, my brothers a care.\n",
      "“I liked that it is happy.\n",
      "“It wasn’t yell, but more than I do.\n",
      "And yet, like a Being pursuit.\n",
      "The cane was made thee unto the car.\n",
      "But there are back on the job.\n",
      "There is an indistinct.\n",
      "There were dead.\n",
      "He brought about dragons, with smoke.\n",
      "Great souls array,\n",
      "   And grows up in this dress.\n",
      "She takes the deployment.\n",
      "When I begin talking about his part.\n",
      "My desire by the banks.\n",
      "But the chain and distorts.\n",
      "When he goes over five days they offered foods.\n",
      "Oh, happy to be her face.\n",
      "The Enemy\n",
      "\n",
      "\n",
      "   Its decline him apart.\n",
      "I put on the cake.\n",
      "Then, half of his territory.\n",
      "I bring out of breathing.\n",
      "--When one in the peat moss.\n",
      "The billows, and while his mouth and the id.\n",
      "Luckily her death and so clear to begin.\n",
      "It isn’t see.\n",
      "There are more that way.\n",
      "“Start from Eric.\n",
      "When all trying so easy.\n",
      "He tells me to put on a few things.\n",
      "I know to what he would.\n"
     ]
    }
   ],
   "source": [
    "for i in range(output_n):\n",
    "    spacing = gen_combo_6.make_short_sentence(50)\n",
    "    print(spacing)"
   ]
  },
  {
   "cell_type": "markdown",
   "metadata": {},
   "source": [
    "### FIVE"
   ]
  },
  {
   "cell_type": "code",
   "execution_count": 20,
   "metadata": {
    "scrolled": false
   },
   "outputs": [
    {
     "name": "stdout",
     "output_type": "stream",
     "text": [
      "But as the toiletries.\n",
      "“I could be weird.\n",
      "Her eyes there is a tomb.\n",
      "But we are gone.\n",
      "I could engage in the same time she change still!\n",
      "Evening of my poverty.\n",
      "The Set of the stairs.\n",
      "I feel it, and thy mouth.\n",
      "Exhausting thine eyes.\n",
      "I have never seen.\n",
      "I take a dream.\n",
      "I buy a blue in the hot and sweet.\n",
      "He looks at me a laugh because you had.\n",
      "I can feel happy.\n",
      "Not only care was aroused.\n",
      "Please don’t sleep.\n",
      "“What did you?” he says.\n",
      "The suns on the loves.\n",
      "Because something upright.\n",
      "Exhausting on my face.\n",
      "I stuck in and without eyes, the wine.\n",
      "II\n",
      "\n",
      "   I loved you.”\n",
      "I ask, mostly to the shears.\n",
      "So thus, she says.\n",
      "I take thing is wrong.\n",
      "Though I have warped by his trombone.\n",
      "Agile and no, I do.\n",
      "We told each time I just like his place.\n",
      "There is room is mine.\n",
      "I take it out for me.\n"
     ]
    }
   ],
   "source": [
    "for i in range(output_n):\n",
    "    spacing = gen_combo_5.make_short_sentence(50)\n",
    "    print(spacing)"
   ]
  },
  {
   "cell_type": "markdown",
   "metadata": {},
   "source": [
    "### FOUR"
   ]
  },
  {
   "cell_type": "code",
   "execution_count": 21,
   "metadata": {
    "scrolled": false
   },
   "outputs": [
    {
     "name": "stdout",
     "output_type": "stream",
     "text": [
      "How can you not?”\n",
      "I listening to sleep.\n",
      "They are both grateful.\n",
      "When I tried to the processing the stairs?\n",
      "She is hardly one.\n",
      "But sometime to come in the trend.\n",
      "He knows when she talks to her?”\n",
      "I go up to the skull.\n",
      "I feel unlikely never I smile.\n",
      "The cane was home.\n",
      "A few, with cold?\n",
      "I think that I want him to sit down.\n",
      "“I know and watching me.”\n",
      "Let's, like a school supplies.\n",
      "Sadness rises supreme?\n",
      "Spleen\n",
      "\n",
      "\n",
      "   Which like a veil!\n",
      "--Be sweet and brook....\n",
      "She moved and brook....\n",
      "I flirt brief aside from its urn?\n",
      "“A lot of their lives,\n",
      "   O soul, this restraint.\n",
      "I wrap my hand, up the grass makes him to keep!\n",
      "“It’s like best.\n",
      "But I like it is too common.\n",
      "And then he is jubilant.\n",
      "Women look on her knees.\n",
      "Exhausting how I avoid Rebecca nods.\n",
      "But we had no choice.\n",
      "The Wine of memory, royal stairs.\n",
      "On the bowers\n",
      "   And then she was nought.\n",
      "I listen trembles the seas!\n"
     ]
    }
   ],
   "source": [
    "for i in range(output_n):\n",
    "    spacing = gen_combo_4.make_short_sentence(50)\n",
    "    print(spacing)"
   ]
  },
  {
   "cell_type": "markdown",
   "metadata": {},
   "source": [
    "### THREE"
   ]
  },
  {
   "cell_type": "code",
   "execution_count": 22,
   "metadata": {
    "scrolled": false
   },
   "outputs": [
    {
     "name": "stdout",
     "output_type": "stream",
     "text": [
      "Akila extend my sock.\n",
      "How vast were a sport.\n",
      "Eric smiles and stern.\n",
      "I finishes, we are gone.\n",
      "I have reaches over and stern.\n",
      "There I listening.\n",
      "Art thou general feel casual.\n",
      "Far more than I don’t know.\n",
      "The Giantess to exploit.\n",
      "Delirium and looks good.\n",
      "Except as a friends!\n",
      "So when held it casual.\n",
      "I spend it a surprised and brook....\n",
      "That she will never saw.\n",
      "It occurs to each one of any sex.\n",
      "Inside the health.\n",
      "And yet, like it if he wants.\n",
      "“Have you as the room.\n",
      "Or yet with a red light.\n",
      "The whole of weeds and wise.\n",
      "I open to the skies.\n",
      "As others a careful.\n",
      "She washes her tie her silence and try to make.\n",
      "A few, with cold?\n",
      "On Sunday is too divine!\n",
      "When all transplendent one!\n",
      "I wonder if she can’t be surprises me.\n",
      "But whenever I smile.\n",
      "Like, is he that we do?”\n",
      "She washes her spoon.\n"
     ]
    }
   ],
   "source": [
    "for i in range(output_n):\n",
    "    spacing = gen_combo_3.make_short_sentence(50)\n",
    "    print(spacing)"
   ]
  },
  {
   "cell_type": "markdown",
   "metadata": {},
   "source": [
    "### TWO"
   ]
  },
  {
   "cell_type": "code",
   "execution_count": 23,
   "metadata": {
    "scrolled": false
   },
   "outputs": [
    {
     "name": "stdout",
     "output_type": "stream",
     "text": [
      "Everywhere,\n",
      "    And to live it work.\n",
      "I get dresser, and involved.\n",
      "How lovely languish so.\n",
      "I lie in the rest.\n",
      "She watch Akila at the night....\n",
      "It wasn’t you?” he asks me to that I do?”\n",
      "Far more than in the rarest of ecstasy.\n",
      "The friends but disapproval.\n",
      "All the rude and smooth.\n",
      "Great souls array.\n",
      "It is the act.\n",
      "Because of my teeth.\n",
      "Mists and almost hurts.\n",
      "Large eyes there are gone.\n",
      "I clean the house still!\n",
      "Exhausting my emails.\n",
      "The Set of thine eyes.\n",
      "Rebecca in the spatula.\n",
      "After the dawn!\n",
      "That I was cast.\n",
      "The whole thing I feel sick.\n",
      "Agile and tell him more tests.\n",
      "The table to slavery.\n",
      "O heaven or from the pride to go.\n",
      "Or kindle sense his hair.\n",
      "There I go right in public.\n",
      "Maybe I don’t speak.\n",
      "But the weekends in your own eyes.\n",
      "Mistress of his dog.\n",
      "It feels the town.\n"
     ]
    }
   ],
   "source": [
    "for i in range(output_n):\n",
    "    spacing = gen_combo_2.make_short_sentence(50)\n",
    "    print(spacing)"
   ]
  },
  {
   "cell_type": "markdown",
   "metadata": {},
   "source": [
    "### ONE"
   ]
  },
  {
   "cell_type": "code",
   "execution_count": 24,
   "metadata": {
    "scrolled": false
   },
   "outputs": [
    {
     "name": "stdout",
     "output_type": "stream",
     "text": [
      "Her voice is swift.\n",
      "You are both the feels the town.\n",
      "The tables and scent.\n",
      "And, of course of the town.\n",
      "The tables and scent.\n",
      "Yet sadness of the hot and sighs!\n",
      "He leans it out.\n",
      "I cherished glass.\n",
      "“I fell down in the publisher.\n",
      "Mists and then again.\n",
      "None\n",
      "Echoes\n",
      "\n",
      "\n",
      "   A golden sheaf?\n",
      "Beyond the evening airs?\n",
      "How lovely languish so.\n",
      "All one to me the thing.\n",
      "If it is just going mad.\n",
      "Elsewhere in bed.\n",
      "The sun on the night....\n",
      "It’s terrifying choice.\n",
      "At times that repine.\n",
      "Agile and wan.\n",
      "The Death around your brown.\n",
      "Invitation than I expect.\n",
      "Thus, cherish thee now?\n",
      "On that glide,\n",
      "\n",
      "   Is ever there.\n",
      "You are dead.\n",
      "Yea, does thy heart, the waves that repine.\n",
      "Or yet with the darkling wine.\n",
      "Man and the skies.\n",
      "Within the cancer.\n"
     ]
    }
   ],
   "source": [
    "for i in range(output_n):\n",
    "    spacing = gen_combo_1.make_short_sentence(50)\n",
    "    print(spacing)"
   ]
  }
 ],
 "metadata": {
  "kernelspec": {
   "display_name": "Python 3",
   "language": "python",
   "name": "python3"
  },
  "language_info": {
   "codemirror_mode": {
    "name": "ipython",
    "version": 3
   },
   "file_extension": ".py",
   "mimetype": "text/x-python",
   "name": "python",
   "nbconvert_exporter": "python",
   "pygments_lexer": "ipython3",
   "version": "3.8.3"
  }
 },
 "nbformat": 4,
 "nbformat_minor": 4
}
