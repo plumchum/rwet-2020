{
 "cells": [
  {
   "cell_type": "markdown",
   "metadata": {},
   "source": [
    "## An Animal Generator\n",
    "\n",
    "#### Based on \"A House of Dust\" by Alison Knowles and James Tenney. "
   ]
  },
  {
   "cell_type": "code",
   "execution_count": 62,
   "metadata": {},
   "outputs": [],
   "source": [
    "import random"
   ]
  },
  {
   "cell_type": "code",
   "execution_count": 63,
   "metadata": {},
   "outputs": [],
   "source": [
    "before = [\n",
    "    'shy',\n",
    "    'glowing',\n",
    "    'friendly',\n",
    "    'ravenous',\n",
    "    'flighty',\n",
    "    'stubborn',\n",
    "    'solemn',\n",
    "    'pregnant',\n",
    "    'pretty',\n",
    "    'ditzy'\n",
    "]"
   ]
  },
  {
   "cell_type": "code",
   "execution_count": 64,
   "metadata": {},
   "outputs": [],
   "source": [
    "animal = [\n",
    "    'hen',\n",
    "    'cocker spaniel',\n",
    "    'mongrel',\n",
    "    'beagle',\n",
    "    'gold fish',\n",
    "    'horse',\n",
    "    'cow',\n",
    "    'snail',\n",
    "    'toad',\n",
    "    'flamingo',\n",
    "    'bee',\n",
    "    'fish',\n",
    "    'bat',\n",
    "    'squirrel',\n",
    "    'gazelle',\n",
    "    'pup',\n",
    "    'rat',\n",
    "    'mouse',\n",
    "    'hawk',\n",
    "    'sea horse'\n",
    "]"
   ]
  },
  {
   "cell_type": "code",
   "execution_count": 65,
   "metadata": {},
   "outputs": [],
   "source": [
    "after = [\n",
    "    'a happy nest.',\n",
    "    'a fire, by accident.',\n",
    "    'her way home.',\n",
    "    'a portal.',\n",
    "    'a friend.',\n",
    "    'a home in the rock.',\n",
    "    'a hole in the sand.',\n",
    "    'quaint conversation.',\n",
    "    'a marvelous dinner guest.',\n",
    "    'love.'\n",
    "]"
   ]
  },
  {
   "cell_type": "code",
   "execution_count": 66,
   "metadata": {},
   "outputs": [],
   "source": [
    "quirk = [\n",
    "    'had a litter-mate that died young',\n",
    "    'had not seen a person before',\n",
    "    'collected coins and shiny buttons',\n",
    "    'sometimes went for long walks',\n",
    "    'pondered the nature of the tree',\n",
    "    'had no friends',\n",
    "    'had no enemies',\n",
    "    'made many a mistake',\n",
    "    'ate the grass on occasion',\n",
    "    'despised the lawn mower',\n",
    "    'had been cast out by the clan',\n",
    "    'made no moves to defy fate',\n",
    "    'came to understand true sacrifice',\n",
    "    'flew within dreams',\n",
    "    'stood at a tall height',\n",
    "    'ate a penny once and was never quite the same',\n",
    "    'would read, on occasion',\n",
    "    'ate the forbidden fruit',\n",
    "    'could climb',\n",
    "    'liked people quite a bit, thank you very much'\n",
    "]"
   ]
  },
  {
   "cell_type": "code",
   "execution_count": 68,
   "metadata": {},
   "outputs": [
    {
     "name": "stdout",
     "output_type": "stream",
     "text": [
      "\n",
      "A glowing\n",
      "     hen\n",
      "          who would read, on occasion\n",
      "                made a happy nest.\n",
      "\n",
      "A shy\n",
      "     cow\n",
      "          who made no moves to defy fate\n",
      "                made a marvelous dinner guest.\n",
      "\n",
      "A friendly\n",
      "     sea horse\n",
      "          who had a litter-mate that died young\n",
      "                made a friend.\n",
      "\n",
      "A ditzy\n",
      "     hen\n",
      "          who liked people quite a bit, thank you very much\n",
      "                made quaint conversation.\n",
      "\n",
      "A ravenous\n",
      "     rat\n",
      "          who sometimes went for long walks\n",
      "                made a marvelous dinner guest.\n"
     ]
    }
   ],
   "source": [
    "stanza_count = 5\n",
    "for i in range(stanza_count):\n",
    "    print()\n",
    "    print(\"A \" + random.choice(before))\n",
    "    print(\"     \" + random.choice(animal))\n",
    "    print(\"          who \" + random.choice(quirk))\n",
    "    print(\"                made \" + random.choice(after))"
   ]
  },
  {
   "cell_type": "code",
   "execution_count": null,
   "metadata": {},
   "outputs": [],
   "source": []
  }
 ],
 "metadata": {
  "kernelspec": {
   "display_name": "Python 3",
   "language": "python",
   "name": "python3"
  },
  "language_info": {
   "codemirror_mode": {
    "name": "ipython",
    "version": 3
   },
   "file_extension": ".py",
   "mimetype": "text/x-python",
   "name": "python",
   "nbconvert_exporter": "python",
   "pygments_lexer": "ipython3",
   "version": "3.8.3"
  }
 },
 "nbformat": 4,
 "nbformat_minor": 2
}
