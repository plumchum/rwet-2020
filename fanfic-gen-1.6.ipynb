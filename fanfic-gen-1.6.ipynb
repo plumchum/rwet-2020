{
 "cells": [
  {
   "cell_type": "markdown",
   "metadata": {},
   "source": [
    "# \"bad\" fanfic generator\n",
    "\n",
    "  texts: \n",
    "  \n",
    "  -\"my immortal\" (classic)\n",
    "  -\"trapped in a island with josh hutcherson\" (wattpad)\n",
    "  -\"sold to one direction\" (\"property\" is an official genre on wattpad)\n"
   ]
  },
  {
   "cell_type": "code",
   "execution_count": 2,
   "metadata": {
    "scrolled": false
   },
   "outputs": [
    {
     "name": "stdout",
     "output_type": "stream",
     "text": [
      "Collecting package metadata (current_repodata.json): done\n",
      "Solving environment: done\n",
      "\n",
      "# All requested packages already installed.\n",
      "\n"
     ]
    }
   ],
   "source": [
    "!conda install -y -c conda-forge spacy"
   ]
  },
  {
   "cell_type": "code",
   "execution_count": 3,
   "metadata": {},
   "outputs": [],
   "source": [
    "import sys"
   ]
  },
  {
   "cell_type": "code",
   "execution_count": 4,
   "metadata": {
    "scrolled": false
   },
   "outputs": [
    {
     "name": "stdout",
     "output_type": "stream",
     "text": [
      "Requirement already satisfied: en_core_web_md==2.3.1 from https://github.com/explosion/spacy-models/releases/download/en_core_web_md-2.3.1/en_core_web_md-2.3.1.tar.gz#egg=en_core_web_md==2.3.1 in /Users/plummiewummie/opt/anaconda3/lib/python3.8/site-packages (2.3.1)\n",
      "Requirement already satisfied: spacy<2.4.0,>=2.3.0 in /Users/plummiewummie/opt/anaconda3/lib/python3.8/site-packages (from en_core_web_md==2.3.1) (2.3.2)\n",
      "Requirement already satisfied: preshed<3.1.0,>=3.0.2 in /Users/plummiewummie/opt/anaconda3/lib/python3.8/site-packages (from spacy<2.4.0,>=2.3.0->en_core_web_md==2.3.1) (3.0.2)\n",
      "Requirement already satisfied: setuptools in /Users/plummiewummie/opt/anaconda3/lib/python3.8/site-packages (from spacy<2.4.0,>=2.3.0->en_core_web_md==2.3.1) (49.2.0.post20200714)\n",
      "Requirement already satisfied: murmurhash<1.1.0,>=0.28.0 in /Users/plummiewummie/opt/anaconda3/lib/python3.8/site-packages (from spacy<2.4.0,>=2.3.0->en_core_web_md==2.3.1) (1.0.0)\n",
      "Requirement already satisfied: plac<1.2.0,>=0.9.6 in /Users/plummiewummie/opt/anaconda3/lib/python3.8/site-packages (from spacy<2.4.0,>=2.3.0->en_core_web_md==2.3.1) (0.9.6)\n",
      "Requirement already satisfied: tqdm<5.0.0,>=4.38.0 in /Users/plummiewummie/opt/anaconda3/lib/python3.8/site-packages (from spacy<2.4.0,>=2.3.0->en_core_web_md==2.3.1) (4.47.0)\n",
      "Requirement already satisfied: wasabi<1.1.0,>=0.4.0 in /Users/plummiewummie/opt/anaconda3/lib/python3.8/site-packages (from spacy<2.4.0,>=2.3.0->en_core_web_md==2.3.1) (0.8.0)\n",
      "Requirement already satisfied: cymem<2.1.0,>=2.0.2 in /Users/plummiewummie/opt/anaconda3/lib/python3.8/site-packages (from spacy<2.4.0,>=2.3.0->en_core_web_md==2.3.1) (2.0.3)\n",
      "Requirement already satisfied: blis<0.5.0,>=0.4.0 in /Users/plummiewummie/opt/anaconda3/lib/python3.8/site-packages (from spacy<2.4.0,>=2.3.0->en_core_web_md==2.3.1) (0.4.1)\n",
      "Requirement already satisfied: thinc==7.4.1 in /Users/plummiewummie/opt/anaconda3/lib/python3.8/site-packages (from spacy<2.4.0,>=2.3.0->en_core_web_md==2.3.1) (7.4.1)\n",
      "Requirement already satisfied: catalogue<1.1.0,>=0.0.7 in /Users/plummiewummie/opt/anaconda3/lib/python3.8/site-packages (from spacy<2.4.0,>=2.3.0->en_core_web_md==2.3.1) (1.0.0)\n",
      "Requirement already satisfied: numpy>=1.15.0 in /Users/plummiewummie/opt/anaconda3/lib/python3.8/site-packages (from spacy<2.4.0,>=2.3.0->en_core_web_md==2.3.1) (1.18.5)\n",
      "Requirement already satisfied: requests<3.0.0,>=2.13.0 in /Users/plummiewummie/opt/anaconda3/lib/python3.8/site-packages (from spacy<2.4.0,>=2.3.0->en_core_web_md==2.3.1) (2.24.0)\n",
      "Requirement already satisfied: srsly<1.1.0,>=1.0.2 in /Users/plummiewummie/opt/anaconda3/lib/python3.8/site-packages (from spacy<2.4.0,>=2.3.0->en_core_web_md==2.3.1) (1.0.2)\n",
      "Requirement already satisfied: certifi>=2017.4.17 in /Users/plummiewummie/opt/anaconda3/lib/python3.8/site-packages (from requests<3.0.0,>=2.13.0->spacy<2.4.0,>=2.3.0->en_core_web_md==2.3.1) (2020.6.20)\n",
      "Requirement already satisfied: idna<3,>=2.5 in /Users/plummiewummie/opt/anaconda3/lib/python3.8/site-packages (from requests<3.0.0,>=2.13.0->spacy<2.4.0,>=2.3.0->en_core_web_md==2.3.1) (2.10)\n",
      "Requirement already satisfied: urllib3!=1.25.0,!=1.25.1,<1.26,>=1.21.1 in /Users/plummiewummie/opt/anaconda3/lib/python3.8/site-packages (from requests<3.0.0,>=2.13.0->spacy<2.4.0,>=2.3.0->en_core_web_md==2.3.1) (1.25.9)\n",
      "Requirement already satisfied: chardet<4,>=3.0.2 in /Users/plummiewummie/opt/anaconda3/lib/python3.8/site-packages (from requests<3.0.0,>=2.13.0->spacy<2.4.0,>=2.3.0->en_core_web_md==2.3.1) (3.0.4)\n",
      "\u001b[38;5;2m✔ Download and installation successful\u001b[0m\n",
      "You can now load the model via spacy.load('en_core_web_md')\n"
     ]
    }
   ],
   "source": [
    "!{sys.executable} -m spacy download en_core_web_md"
   ]
  },
  {
   "cell_type": "code",
   "execution_count": 5,
   "metadata": {},
   "outputs": [],
   "source": [
    "import spacy"
   ]
  },
  {
   "cell_type": "code",
   "execution_count": 6,
   "metadata": {},
   "outputs": [],
   "source": [
    "nlp = spacy.load('en_core_web_md')"
   ]
  },
  {
   "cell_type": "code",
   "execution_count": 7,
   "metadata": {},
   "outputs": [],
   "source": [
    "text = open(\"all-three-abr.txt\").read()"
   ]
  },
  {
   "cell_type": "code",
   "execution_count": 8,
   "metadata": {
    "scrolled": true
   },
   "outputs": [],
   "source": [
    "doc = nlp(text)"
   ]
  },
  {
   "cell_type": "code",
   "execution_count": 9,
   "metadata": {},
   "outputs": [],
   "source": [
    "entities = list(doc.ents)"
   ]
  },
  {
   "cell_type": "code",
   "execution_count": 10,
   "metadata": {},
   "outputs": [],
   "source": [
    "sentences = list(doc.sents)"
   ]
  },
  {
   "cell_type": "code",
   "execution_count": 11,
   "metadata": {},
   "outputs": [],
   "source": [
    "words = [w for w in list(doc) if w.is_alpha]"
   ]
  },
  {
   "cell_type": "code",
   "execution_count": 13,
   "metadata": {},
   "outputs": [],
   "source": [
    "import random"
   ]
  },
  {
   "cell_type": "code",
   "execution_count": 28,
   "metadata": {},
   "outputs": [],
   "source": [
    "nouns = [w for w in words if w.pos_ == \"NOUN\"]\n",
    "verbs = [w for w in words if w.pos_ == \"VERB\"]\n",
    "adjs = [w for w in words if w.pos_ == \"ADJ\"]\n",
    "advs = [w for w in words if w.pos_ == \"ADV\"]"
   ]
  },
  {
   "cell_type": "code",
   "execution_count": 29,
   "metadata": {},
   "outputs": [],
   "source": [
    "sentences = list(doc.sents)\n",
    "words = [w for w in list(doc) if w.is_alpha]\n",
    "noun_chunks = list(doc.noun_chunks)\n",
    "entities = list(doc.ents)"
   ]
  },
  {
   "cell_type": "code",
   "execution_count": 30,
   "metadata": {},
   "outputs": [],
   "source": [
    "people = [e for e in entities if e.label_ == \"PERSON\"] #there's thousands\n",
    "locations = [e for e in entities if e.label_ == \"LOC\"] # there's nine\n",
    "gpe = [e for e in entities if e.label_ == \"GPE\"] # there's eighty-five and most are names\n",
    "\n",
    "events = [e for e in entities if e.label == \"EVENT\"] #there's zero\n",
    "art = [e for e in entities if e.label == \"WORK_OF_ART\"] #there's zero\n",
    "product = [e for e in entities if e.label == \"PRODUCT\"] #there's zero\n",
    "time = [e for e in entities if e.label == \"TIME\"] #there's zero\n",
    "orgs = [e for e in entities if e.label == \"ORG\"] #do i have to say it?"
   ]
  },
  {
   "cell_type": "code",
   "execution_count": 31,
   "metadata": {},
   "outputs": [],
   "source": [
    "def flatten_subtree(st):\n",
    "    return ''.join([w.text_with_ws for w in list(st)]).strip()"
   ]
  },
  {
   "cell_type": "code",
   "execution_count": 32,
   "metadata": {},
   "outputs": [],
   "source": [
    "subjects = [flatten_subtree(word.subtree).replace(\"\\n\", \" \")\n",
    "            for word in doc if word.dep_ in ('nsubj', 'nsubjpass')]\n",
    "past_tense_verbs = [word.text for word in words if word.tag_ == 'VBD' and word.lemma_ != 'be']\n",
    "adjectives = [word.text for word in words if word.tag_.startswith('JJ')]\n",
    "nouns = [word.text for word in words if word.tag_.startswith('NN')]\n",
    "prep_phrases = [flatten_subtree(word.subtree).replace(\"\\n\", \" \")\n",
    "                for word in doc if word.dep_ == 'prep']"
   ]
  },
  {
   "cell_type": "code",
   "execution_count": 33,
   "metadata": {},
   "outputs": [],
   "source": [
    "people = [flatten_subtree(e.subtree).replace(\"\\n\", \" \")\n",
    "          for e in entities if e.label_ =='PERSON']\n",
    "gpe = [flatten_subtree(e.subtree).replace(\"\\n\", \" \")\n",
    "       for e in entities if e.label_ =='GPE']"
   ]
  },
  {
   "cell_type": "code",
   "execution_count": 34,
   "metadata": {
    "scrolled": true
   },
   "outputs": [
    {
     "data": {
      "text/plain": [
       "['Cheshire where they had auctions of people',\n",
       " 'England',\n",
       " 'Hogsmeade',\n",
       " 'Hollywood',\n",
       " 'Hollywood']"
      ]
     },
     "execution_count": 34,
     "metadata": {},
     "output_type": "execute_result"
    }
   ],
   "source": [
    "random.sample(people, 5)\n",
    "random.sample(gpe, 5)"
   ]
  },
  {
   "cell_type": "code",
   "execution_count": 35,
   "metadata": {},
   "outputs": [],
   "source": [
    "import tracery\n",
    "from tracery.modifiers import base_english"
   ]
  },
  {
   "cell_type": "code",
   "execution_count": 82,
   "metadata": {},
   "outputs": [
    {
     "data": {
      "text/plain": [
       "'i couldnt believe it ZAYN had signed me up to the nice Draconice small foundation auction. \"even Harry Harry this is what I want to do with my life I have always wanted to become an I and not some freakin I “I screamed at my bright tributeblack much Jennifer. I had a great time. So did “No, Voldemort!”. After Hollywood, we drank some windy and asked Vampire and Kaitlin for their autographs and last boysure next actors with them. Kaitlin and I crawled back into the alot lotsgood hot island, but they didn’t go back into Hogwarts, instead they drove the car into……………………… the Hogsmeade! AN: STOP FLAMMING DA i PREPZ OK! Hayley fangs 2 da close ppl 4 da good reveiws! FANGS AGEN Harry! oh yeah, BTW I don’t own dis or da lyrics 4 bright Kaitlinok horrible something.'"
      ]
     },
     "execution_count": 82,
     "metadata": {},
     "output_type": "execute_result"
    }
   ],
   "source": [
    "rules = {\n",
    "    \"origin\": [\n",
    "        \"#introduction# \"\n",
    "        \"#middle# \"\n",
    "        \"#closer# \"\n",
    "        \"#AN#\"\n",
    "    ],\n",
    "    \"introduction\": [ \n",
    "        \"Hi my name is #name# #name# and I have #adjphrase# (that’s how I got my name) with #adjphrase# and #adjphrase# that reaches my #adjphrase# and #adjphrase# like #nounphrase# and a lot of people tell me I look like #name# (AN: if u don’t know who they are get da hell out of here!).\",\n",
    "        \"I got dressed in my #adjphrase# and #nounphrase# and when I went outside my #nounphrase# was waiting for to take me to the #adjphrase#  it is #name# birthday today I know them because   she was in #gpe# with me.\",\n",
    "        \"i couldnt believe it #name# had signed me up to the #adjphrase# auction.\"\n",
    "    ],\n",
    "    \"middle\": [\n",
    "        \"I read a #adjphrase# while I waited for it to stop #predicate# and I listened to some #nounphrase#. I painted my nails #adj# and put on TONS of #adjphrase#. Then I put on some #adjphrase#. I didn’t put on #noun# because I was #adj# anyway. I drank some #adjphrase# so I was ready to go to #gpe#.\",\n",
    "        \"\\\"#name# #name# this is what I want to do with my life I have always wanted to become an #subject# and not some freakin #subject# \\“I screamed at my #adjphrase#.\",\n",
    "        \"It was nearly the end of the auction and noone had bought me yet i didnt know if i should be relieved or offended but just before the end a #adjphrase# came swooping into the auction and out came five #adj# boys. while they came out of the car i heard the #adj# haired one say \\'#name# we are late! all the good ones have gone why did you have to stop for #adjphrase#?\\'\"\n",
    "    ],\n",
    "    \"closer\": [\n",
    "        \"I had a great time. So did #name#. After #gpe#, we drank some #adj# and asked #name# and #name# for their autographs and #adjphrase# with them. #name# and I crawled back into the #adjphrase#, but they didn’t go back into Hogwarts, instead they drove the car into……………………… the #gpe#!\",\n",
    "        \"I heard a #adjphrase# #predicate# and I started #predicate# to where the sound came from it was hard to swim with all the #adjphrase# and the water was #adj# but I’ve done #adjphrase# lessons since I was 3 and I still do them now every Sunday. I swam till I saw a #adjphrase# it was upside down so I #predicate# and I saw a #nounphrase# I lifted  her up in my arms and continued to swim I saw a #adjphrase# around 50 meters from here  so I swam to it with the #noun# still in my arms .\",\n",
    "        \"i liked him the #adj#. i still didnt #predicate# i just sat there motionless and lost in my #noun.s# i was already planning an escape it seemed hard to escape though because i knew #name# would always be #predicate# and there were #adj# of them.\"\n",
    "\n",
    "    ],\n",
    "    \"AN\": [\n",
    "        \"AN: STOP FLAMMING DA #subject# PREPZ OK! #name# fangs 2 da #adj# ppl 4 da good reveiws! FANGS AGEN #name#! oh yeah, BTW I don’t own dis or da lyrics 4 #adjphrase#.\",\n",
    "        \"Hey guys I hope you like this so far the #subject# at the side is #name# if you have  have any ideas of what I should write for the next chapter  please tell me and I will dedicate the next chapter to you so please comment by letting me know what you think and vote I will upload soon bye.\",\n",
    "        \" ' ' \"\n",
    "    ],\n",
    "    \"predicate\": [\n",
    "        \"#verb#\",\n",
    "        \"#verb# #nounphrase#\",\n",
    "        \"#verb# #prepphrase#\"\n",
    "    ],\n",
    "    \"nounphrase\": [\n",
    "        \"#adj# #noun#\",\n",
    "        \"#noun.a#\",\n",
    "        \"#adj.a# #noun#\",\n",
    "        \"the #noun# that #predicate#\"\n",
    "    ],\n",
    "    \"adjphrase\": [\n",
    "        \"#adj# #noun#\"\n",
    "        \"#adj# #adj# #noun#\"\n",
    "    ],\n",
    "    \"subject\": subjects,\n",
    "    \"verb\": past_tense_verbs,\n",
    "    \"noun\": nouns,\n",
    "    \"adj\": adjectives,\n",
    "    \"prepphrase\": prep_phrases,\n",
    "    \"name\": people,\n",
    "    \"gpe\": gpe\n",
    "}\n",
    "grammar = tracery.Grammar(rules)\n",
    "grammar.add_modifiers(base_english)\n",
    "grammar.flatten(\"#origin#\")"
   ]
  },
  {
   "cell_type": "code",
   "execution_count": 87,
   "metadata": {
    "scrolled": true
   },
   "outputs": [
    {
     "name": "stdout",
     "output_type": "stream",
     "text": [
      "i couldnt believe it Niall had signed me up to the weird partvocal white shopping auction. I read a\n",
      "sexy nooneashamed little hair while I waited for it to stop slit and I listened to some a josh. I\n",
      "painted my nails fat and put on TONS of worried HEDACHEblack rude dat. Then I put on some messy\n",
      "rockfucking silent house. I didn’t put on Kate because I was Funny anyway. I drank some angry rdeep\n",
      "beautiful cigarettes so I was ready to go to Hollywood. I had a great time. So did Zayn. After\n",
      "Hollywood, we drank some shy and asked Liam and Niall for their autographs and sure boysdepressing\n",
      "funny Sue with them. Draco Malfoy! and I crawled back into the horrible Maryblack little something,\n",
      "but they didn’t go back into Hogwarts, instead they drove the car into……………………… the Hollywood!  ' '\n"
     ]
    }
   ],
   "source": [
    "from textwrap import fill\n",
    "output = \" \".join([grammar.flatten(\"#origin#\") for i in range(1)])\n",
    "print(fill(output, 100))"
   ]
  }
 ],
 "metadata": {
  "kernelspec": {
   "display_name": "Python 3",
   "language": "python",
   "name": "python3"
  },
  "language_info": {
   "codemirror_mode": {
    "name": "ipython",
    "version": 3
   },
   "file_extension": ".py",
   "mimetype": "text/x-python",
   "name": "python",
   "nbconvert_exporter": "python",
   "pygments_lexer": "ipython3",
   "version": "3.8.3"
  }
 },
 "nbformat": 4,
 "nbformat_minor": 4
}
