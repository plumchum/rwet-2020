{
 "cells": [
  {
   "cell_type": "code",
   "execution_count": 104,
   "metadata": {},
   "outputs": [],
   "source": [
    "import random"
   ]
  },
  {
   "cell_type": "code",
   "execution_count": 105,
   "metadata": {},
   "outputs": [],
   "source": [
    "paragraph = open(\"a_blessing_mary_oliver_2.txt\").read()"
   ]
  },
  {
   "cell_type": "code",
   "execution_count": 106,
   "metadata": {},
   "outputs": [],
   "source": [
    "poem = open(\"a_blessing_james_wright.txt\").read()"
   ]
  },
  {
   "cell_type": "code",
   "execution_count": 107,
   "metadata": {
    "scrolled": false
   },
   "outputs": [
    {
     "data": {
      "text/plain": [
       "'A Blessing\\n\\nJust off the highway to Rochester, Minnesota,\\nTwilight bounds softly forth on the grass.\\nAnd the eyes of those two Indian ponies\\nDarken with kindness.\\nThey have come gladly out of the willows\\nTo welcome my friend and me.\\nWe step over the barbed wire into the pasture\\nWhere they have been grazing all day, alone.\\nThey ripple tensely, they can hardly contain their happiness   \\nThat we have come.\\nThey bow shyly as wet swans. They love each other.\\nThere is no loneliness like theirs.   \\nAt home once more,\\nThey begin munching the young tufts of spring in the darkness.   \\nI would like to hold the slenderer one in my arms,\\nFor she has walked over to me   \\nAnd nuzzled my left hand.   \\nShe is black and white,\\nHer mane falls wild on her forehead,\\nAnd the light breeze moves me to caress her long ear\\nThat is delicate as the skin over a girl’s wrist.\\nSuddenly I realize\\nThat if I stepped out of my body I would break\\nInto blossom.'"
      ]
     },
     "execution_count": 107,
     "metadata": {},
     "output_type": "execute_result"
    }
   ],
   "source": [
    "poem"
   ]
  },
  {
   "cell_type": "code",
   "execution_count": 108,
   "metadata": {
    "scrolled": false
   },
   "outputs": [
    {
     "data": {
      "text/plain": [
       "'What we saw filled our minds. \\nWhat we saw made us love and want to honor the world. \\nAnd dear readers, if anyone thinks children \\nin these difficult times do not need such peaceful intervals, \\nthen hang up the phone, we are not having a conversation. \\nWithout a doubt those summers changed my life and my friend’s. \\nWhoever I am, and whoever my friend is now, fifty years later, \\nwe are both still part of this feast of the past.\\nHappiness and leaves--they went together. \\nThe tender dripping of water on the tent roof, \\nfrom the maples or, once, \\nthe realization that a baby skunk had taken to one of the cots \\nwe slept on and was, on a rainy morning, in a sound sleep. \\nWhat could we do?\\nThink of us--or think of your own children--\\nin a tent that leaked only a little, and then \\nfrom the beautiful rain and the elegant maples--\\nthink of us watching that very little skunk \\ncurled in the best blanket, \\nopening its eyes sleepily and then closing them again; \\nthink of our silent and entirely happy laughter \\nas we too went back to sleep.'"
      ]
     },
     "execution_count": 108,
     "metadata": {},
     "output_type": "execute_result"
    }
   ],
   "source": [
    "paragraph"
   ]
  },
  {
   "cell_type": "code",
   "execution_count": 128,
   "metadata": {
    "scrolled": true
   },
   "outputs": [
    {
     "data": {
      "text/plain": [
       "5"
      ]
     },
     "execution_count": 128,
     "metadata": {},
     "output_type": "execute_result"
    }
   ],
   "source": [
    "stanza_count = random.randint(1, 7)\n",
    "stanza_count"
   ]
  },
  {
   "cell_type": "code",
   "execution_count": 129,
   "metadata": {
    "scrolled": false
   },
   "outputs": [
    {
     "name": "stdout",
     "output_type": "stream",
     "text": [
      "A\n",
      "\n",
      "\n",
      "r\n",
      "i\n",
      "n\n",
      "\n",
      "d\n",
      ".\n",
      "t\n",
      "\n",
      " \n",
      " \n",
      "e\n",
      "\n",
      "of\n",
      "a\n",
      " \n",
      "\n",
      "b\n",
      "l\n",
      "t\n"
     ]
    }
   ],
   "source": [
    "print(poem[0])\n",
    "print()\n",
    "\n",
    "for i in range(stanza_count):\n",
    "    print()\n",
    "    print(random.choice(par) if random.random() > 0.5 else (random.choice(poem)))\n",
    "    print(random.choice(paragraph) if random.random() > 0.5 else (random.choice(poem)))\n",
    "    print(random.choice(paragraph) if random.random() > 0.5 else (random.choice(poem)))"
   ]
  },
  {
   "cell_type": "code",
   "execution_count": 111,
   "metadata": {},
   "outputs": [],
   "source": [
    "import spacy"
   ]
  },
  {
   "cell_type": "code",
   "execution_count": 112,
   "metadata": {},
   "outputs": [],
   "source": [
    "nlp = spacy.load('en_core_web_md')"
   ]
  },
  {
   "cell_type": "code",
   "execution_count": 113,
   "metadata": {},
   "outputs": [],
   "source": [
    "par = nlp(paragraph)"
   ]
  },
  {
   "cell_type": "code",
   "execution_count": 114,
   "metadata": {},
   "outputs": [],
   "source": [
    "poe = nlp(poem)"
   ]
  },
  {
   "cell_type": "code",
   "execution_count": 115,
   "metadata": {},
   "outputs": [],
   "source": [
    "sentences = list(par.sents)\n",
    "words = [w for w in list(par) if w.is_alpha]\n",
    "noun_chunks = list(par.noun_chunks)\n",
    "entities = list(par.ents)"
   ]
  },
  {
   "cell_type": "code",
   "execution_count": 116,
   "metadata": {},
   "outputs": [],
   "source": [
    "sentences_2 = list(poe.sents)\n",
    "words_2 = [w for w in list(poe) if w.is_alpha]\n",
    "noun_chunks_2 = list(poe.noun_chunks)\n",
    "entities_2 = list(poe.ents)"
   ]
  },
  {
   "cell_type": "markdown",
   "metadata": {},
   "source": [
    "### testing sentences\n",
    "(Oliver, Wright)"
   ]
  },
  {
   "cell_type": "code",
   "execution_count": 117,
   "metadata": {
    "scrolled": false
   },
   "outputs": [
    {
     "name": "stdout",
     "output_type": "stream",
     "text": [
      "> What could we do?\n",
      "> Happiness and leaves--they went together.\n",
      "> Think of us--or think of your own children-- in a tent that leaked only a little, and then  from the beautiful rain and the elegant maples-- think of us watching that very little skunk\n",
      "> What we saw filled our minds.\n",
      "> Whoever I am, and whoever my friend is now, fifty years later,  we are both still part of this feast of the past.\n"
     ]
    }
   ],
   "source": [
    "for item in random.sample(sentences, 5):\n",
    "    print(\">\", item.text.strip().replace(\"\\n\", \" \"))"
   ]
  },
  {
   "cell_type": "code",
   "execution_count": 118,
   "metadata": {
    "scrolled": false
   },
   "outputs": [
    {
     "name": "stdout",
     "output_type": "stream",
     "text": [
      "> And the light breeze moves me to caress her long ear\n",
      "> For she has walked over to me    And nuzzled my left hand.\n",
      "> They have come gladly out of the willows\n",
      "> There is no loneliness like theirs.\n",
      "> I would like to hold the slenderer one in my arms,\n"
     ]
    }
   ],
   "source": [
    "for item in random.sample(sentences_2, 5):\n",
    "    print(\">\", item.text.strip().replace(\"\\n\", \" \"))"
   ]
  },
  {
   "cell_type": "markdown",
   "metadata": {},
   "source": [
    "### testing noun chunks\n",
    "(Oliver, Wright)"
   ]
  },
  {
   "cell_type": "code",
   "execution_count": 119,
   "metadata": {
    "scrolled": false
   },
   "outputs": [
    {
     "name": "stdout",
     "output_type": "stream",
     "text": [
      "> we\n",
      "> the tent roof\n",
      "> we\n",
      "> part\n",
      "> these difficult times\n"
     ]
    }
   ],
   "source": [
    "for item in random.sample(noun_chunks, 5):\n",
    "    print(\">\", item.text.strip().replace(\"\\n\", \" \"))"
   ]
  },
  {
   "cell_type": "code",
   "execution_count": 120,
   "metadata": {
    "scrolled": false
   },
   "outputs": [
    {
     "name": "stdout",
     "output_type": "stream",
     "text": [
      "> spring\n",
      "> me\n",
      "> A Blessing\n",
      "> the darkness\n",
      "> I\n"
     ]
    }
   ],
   "source": [
    "for item in random.sample(noun_chunks_2, 5):\n",
    "    print(\">\", item.text.strip().replace(\"\\n\", \" \"))"
   ]
  },
  {
   "cell_type": "markdown",
   "metadata": {},
   "source": [
    "### testing words\n",
    "(Oliver, Wright)"
   ]
  },
  {
   "cell_type": "code",
   "execution_count": 121,
   "metadata": {
    "scrolled": false
   },
   "outputs": [
    {
     "name": "stdout",
     "output_type": "stream",
     "text": [
      "> doubt\n",
      "> this\n",
      "> love\n",
      "> and\n",
      "> closing\n",
      "> once\n",
      "> skunk\n",
      "> very\n",
      "> want\n",
      "> friend\n"
     ]
    }
   ],
   "source": [
    "for item in random.sample(words, 10):\n",
    "    print(\">\", item.text.strip().replace(\"\\n\", \" \"))"
   ]
  },
  {
   "cell_type": "code",
   "execution_count": 122,
   "metadata": {
    "scrolled": true
   },
   "outputs": [
    {
     "name": "stdout",
     "output_type": "stream",
     "text": [
      "> of\n",
      "> bow\n",
      "> like\n",
      "> her\n",
      "> skin\n",
      "> wrist\n",
      "> I\n",
      "> to\n",
      "> falls\n",
      "> I\n"
     ]
    }
   ],
   "source": [
    "for item in random.sample(words_2, 10):\n",
    "    print(\">\", item.text.strip().replace(\"\\n\", \" \"))"
   ]
  },
  {
   "cell_type": "markdown",
   "metadata": {},
   "source": [
    "### testing entities\n",
    "(Oliver, Wright)"
   ]
  },
  {
   "cell_type": "code",
   "execution_count": 123,
   "metadata": {
    "scrolled": false
   },
   "outputs": [
    {
     "name": "stdout",
     "output_type": "stream",
     "text": [
      "> a rainy morning\n",
      "> fifty years later\n"
     ]
    }
   ],
   "source": [
    "for item in random.sample(entities, 2):\n",
    "    print(\">\", item.text.strip().replace(\"\\n\", \" \"))"
   ]
  },
  {
   "cell_type": "code",
   "execution_count": 124,
   "metadata": {
    "scrolled": false
   },
   "outputs": [
    {
     "name": "stdout",
     "output_type": "stream",
     "text": [
      "> Rochester\n",
      "> all day\n"
     ]
    }
   ],
   "source": [
    "for item in random.sample(entities_2, 2):\n",
    "    print(\">\", item.text.strip().replace(\"\\n\", \" \"))"
   ]
  },
  {
   "cell_type": "code",
   "execution_count": 125,
   "metadata": {
    "scrolled": false
   },
   "outputs": [
    {
     "name": "stdout",
     "output_type": "stream",
     "text": [
      "A Blessing\n",
      "\n",
      "Just off the highway to Rochester, Minnesota,\n",
      "\n"
     ]
    }
   ],
   "source": [
    "print(sentences_2[0])\n"
   ]
  },
  {
   "cell_type": "markdown",
   "metadata": {},
   "source": [
    "# sentence-based"
   ]
  },
  {
   "cell_type": "code",
   "execution_count": 130,
   "metadata": {},
   "outputs": [
    {
     "data": {
      "text/plain": [
       "7"
      ]
     },
     "execution_count": 130,
     "metadata": {},
     "output_type": "execute_result"
    }
   ],
   "source": [
    "stanza_count = random.randint(1, 7)\n",
    "stanza_count"
   ]
  },
  {
   "cell_type": "code",
   "execution_count": 131,
   "metadata": {
    "scrolled": false
   },
   "outputs": [
    {
     "name": "stdout",
     "output_type": "stream",
     "text": [
      "A Blessing\n",
      "\n",
      "\n",
      "They love each other.\n",
      "\n",
      "\n",
      "we slept on and was, on a rainy morning, in a sound sleep. \n",
      "\n",
      "\n",
      "That is delicate as the skin over a girl’s wrist.\n",
      "\n",
      "\n",
      "They ripple tensely, they can hardly contain their happiness   \n",
      "That we have come.\n",
      "\n",
      "\n",
      "Happiness and leaves--they went together. \n",
      "\n",
      "\n",
      "curled in the best blanket, \n",
      "opening its eyes sleepily and then closing them again; \n",
      "\n",
      "\n",
      "They love each other.\n",
      "\n"
     ]
    }
   ],
   "source": [
    "print(words_2[0], words_2[1])\n",
    "print()\n",
    "\n",
    "for i in range(stanza_count):\n",
    "    print()\n",
    "    print(random.choice(sentences) if random.random() > 0.5 else (random.choice(sentences_2)))\n"
   ]
  }
 ],
 "metadata": {
  "kernelspec": {
   "display_name": "Python 3",
   "language": "python",
   "name": "python3"
  },
  "language_info": {
   "codemirror_mode": {
    "name": "ipython",
    "version": 3
   },
   "file_extension": ".py",
   "mimetype": "text/x-python",
   "name": "python",
   "nbconvert_exporter": "python",
   "pygments_lexer": "ipython3",
   "version": "3.8.3"
  }
 },
 "nbformat": 4,
 "nbformat_minor": 4
}
