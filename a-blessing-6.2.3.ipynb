{
 "cells": [
  {
   "cell_type": "code",
   "execution_count": 1,
   "metadata": {},
   "outputs": [],
   "source": [
    "import random"
   ]
  },
  {
   "cell_type": "code",
   "execution_count": 2,
   "metadata": {},
   "outputs": [],
   "source": [
    "paragraph = open(\"a_blessing_mary_oliver_2.txt\").read()"
   ]
  },
  {
   "cell_type": "code",
   "execution_count": 3,
   "metadata": {},
   "outputs": [],
   "source": [
    "poem = open(\"a_blessing_james_wright.txt\").read()"
   ]
  },
  {
   "cell_type": "code",
   "execution_count": 4,
   "metadata": {
    "scrolled": false
   },
   "outputs": [
    {
     "data": {
      "text/plain": [
       "'A Blessing\\n\\nJust off the highway to Rochester, Minnesota,\\nTwilight bounds softly forth on the grass.\\nAnd the eyes of those two Indian ponies\\nDarken with kindness.\\nThey have come gladly out of the willows\\nTo welcome my friend and me.\\nWe step over the barbed wire into the pasture\\nWhere they have been grazing all day, alone.\\nThey ripple tensely, they can hardly contain their happiness   \\nThat we have come.\\nThey bow shyly as wet swans. They love each other.\\nThere is no loneliness like theirs.   \\nAt home once more,\\nThey begin munching the young tufts of spring in the darkness.   \\nI would like to hold the slenderer one in my arms,\\nFor she has walked over to me   \\nAnd nuzzled my left hand.   \\nShe is black and white,\\nHer mane falls wild on her forehead,\\nAnd the light breeze moves me to caress her long ear\\nThat is delicate as the skin over a girl’s wrist.\\nSuddenly I realize\\nThat if I stepped out of my body I would break\\nInto blossom.'"
      ]
     },
     "execution_count": 4,
     "metadata": {},
     "output_type": "execute_result"
    }
   ],
   "source": [
    "poem"
   ]
  },
  {
   "cell_type": "code",
   "execution_count": 5,
   "metadata": {
    "scrolled": false
   },
   "outputs": [
    {
     "data": {
      "text/plain": [
       "'What we saw filled our minds. \\nWhat we saw made us love and want to honor the world. \\nAnd dear readers, if anyone thinks children \\nin these difficult times do not need such peaceful intervals, \\nthen hang up the phone, we are not having a conversation. \\nWithout a doubt those summers changed my life and my friend’s. \\nWhoever I am, and whoever my friend is now, fifty years later, \\nwe are both still part of this feast of the past.\\nHappiness and leaves--they went together. \\nThe tender dripping of water on the tent roof, \\nfrom the maples or, once, \\nthe realization that a baby skunk had taken to one of the cots \\nwe slept on and was, on a rainy morning, in a sound sleep. \\nWhat could we do?\\nThink of us--or think of your own children--\\nin a tent that leaked only a little, and then \\nfrom the beautiful rain and the elegant maples--\\nthink of us watching that very little skunk \\ncurled in the best blanket, \\nopening its eyes sleepily and then closing them again; \\nthink of our silent and entirely happy laughter \\nas we too went back to sleep.'"
      ]
     },
     "execution_count": 5,
     "metadata": {},
     "output_type": "execute_result"
    }
   ],
   "source": [
    "paragraph"
   ]
  },
  {
   "cell_type": "code",
   "execution_count": 6,
   "metadata": {},
   "outputs": [],
   "source": [
    "import spacy"
   ]
  },
  {
   "cell_type": "code",
   "execution_count": 7,
   "metadata": {},
   "outputs": [],
   "source": [
    "nlp = spacy.load('en_core_web_md')"
   ]
  },
  {
   "cell_type": "code",
   "execution_count": 8,
   "metadata": {},
   "outputs": [],
   "source": [
    "par = nlp(paragraph)"
   ]
  },
  {
   "cell_type": "code",
   "execution_count": 9,
   "metadata": {},
   "outputs": [],
   "source": [
    "poe = nlp(poem)"
   ]
  },
  {
   "cell_type": "code",
   "execution_count": 10,
   "metadata": {},
   "outputs": [],
   "source": [
    "sentences = list(par.sents)\n",
    "words = [w for w in list(par) if w.is_alpha]\n",
    "noun_chunks = list(par.noun_chunks)\n",
    "entities = list(par.ents)"
   ]
  },
  {
   "cell_type": "code",
   "execution_count": 11,
   "metadata": {},
   "outputs": [],
   "source": [
    "sentences_2 = list(poe.sents)\n",
    "words_2 = [w for w in list(poe) if w.is_alpha]\n",
    "noun_chunks_2 = list(poe.noun_chunks)\n",
    "entities_2 = list(poe.ents)"
   ]
  },
  {
   "cell_type": "markdown",
   "metadata": {},
   "source": [
    "# sentence-based"
   ]
  },
  {
   "cell_type": "code",
   "execution_count": 18,
   "metadata": {
    "scrolled": true
   },
   "outputs": [
    {
     "data": {
      "text/plain": [
       "6"
      ]
     },
     "execution_count": 18,
     "metadata": {},
     "output_type": "execute_result"
    }
   ],
   "source": [
    "stanza_count = random.randint(1, 7)\n",
    "stanza_count"
   ]
  },
  {
   "cell_type": "code",
   "execution_count": 19,
   "metadata": {
    "scrolled": false
   },
   "outputs": [
    {
     "name": "stdout",
     "output_type": "stream",
     "text": [
      "A Blessing\n",
      "\n",
      "5\n",
      "we slept on and was, on a rainy morning, in a sound sleep. \n",
      "\n",
      "2\n",
      "Think of us--or think of your own children--\n",
      "in a tent that leaked only a little, and then \n",
      "from the beautiful rain and the elegant maples--\n",
      "think of us watching that very little skunk \n",
      "\n",
      "2\n",
      "Twilight bounds softly forth on the grass.\n",
      "\n",
      "2\n",
      "Without a doubt those summers changed my life and my friend’s. \n",
      "\n",
      "4\n",
      "Happiness and leaves--they went together. \n",
      "\n",
      "6\n",
      "Whoever I am, and whoever my friend is now, fifty years later, \n",
      "we are both still part of this feast of the past.\n",
      "\n"
     ]
    }
   ],
   "source": [
    "print(words_2[0], words_2[1])\n",
    "print()\n",
    "\n",
    "\n",
    "for i in range(stanza_count):\n",
    "    print(random.randint(1, stanza_count))\n",
    "    print(random.choice(sentences) if random.random() > 0.5 else (random.choice(sentences_2)))"
   ]
  },
  {
   "cell_type": "markdown",
   "metadata": {},
   "source": [
    "# noun chunk based"
   ]
  },
  {
   "cell_type": "code",
   "execution_count": 20,
   "metadata": {},
   "outputs": [
    {
     "data": {
      "text/plain": [
       "(3, 4)"
      ]
     },
     "execution_count": 20,
     "metadata": {},
     "output_type": "execute_result"
    }
   ],
   "source": [
    "stanza_count = random.randint(1, 7)\n",
    "chunk_count = random.randint(1, 5)\n",
    "stanza_count, chunk_count"
   ]
  },
  {
   "cell_type": "code",
   "execution_count": 21,
   "metadata": {
    "scrolled": false
   },
   "outputs": [
    {
     "name": "stdout",
     "output_type": "stream",
     "text": [
      "Some Blessings\n",
      "\n",
      "\n",
      "no. 98\n",
      "    spring\n",
      "    Twilight\n",
      "    her forehead\n",
      "\n",
      "no. 53\n",
      "    a doubt\n",
      "    them\n",
      "    blossom\n",
      "    the tent roof\n",
      "\n",
      "no. 75\n",
      "    our minds\n"
     ]
    }
   ],
   "source": [
    "print(\"Some Blessings\")\n",
    "print()\n",
    "\n",
    "for i in range(stanza_count):\n",
    "    print()\n",
    "    print(\"no.\", random.randint(1, 100)) #random number count\n",
    "    for i in range(random.randint(1, 5)): #random chunk count\n",
    "        print(\"   \",random.choice(noun_chunks) if random.random() > 0.5 else (random.choice(noun_chunks_2)))"
   ]
  }
 ],
 "metadata": {
  "kernelspec": {
   "display_name": "Python 3",
   "language": "python",
   "name": "python3"
  },
  "language_info": {
   "codemirror_mode": {
    "name": "ipython",
    "version": 3
   },
   "file_extension": ".py",
   "mimetype": "text/x-python",
   "name": "python",
   "nbconvert_exporter": "python",
   "pygments_lexer": "ipython3",
   "version": "3.8.3"
  }
 },
 "nbformat": 4,
 "nbformat_minor": 4
}
