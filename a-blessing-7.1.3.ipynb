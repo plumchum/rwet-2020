{
 "cells": [
  {
   "cell_type": "code",
   "execution_count": 1,
   "metadata": {},
   "outputs": [],
   "source": [
    "paragraph = open(\"a_blessing_mary_oliver_2.txt\").read()"
   ]
  },
  {
   "cell_type": "code",
   "execution_count": 2,
   "metadata": {},
   "outputs": [],
   "source": [
    "poem = open(\"a_blessing_james_wright.txt\").read()"
   ]
  },
  {
   "cell_type": "code",
   "execution_count": 3,
   "metadata": {},
   "outputs": [
    {
     "name": "stdout",
     "output_type": "stream",
     "text": [
      "Collecting package metadata (current_repodata.json): done\n",
      "Solving environment: done\n",
      "\n",
      "# All requested packages already installed.\n",
      "\n",
      "\n",
      "Note: you may need to restart the kernel to use updated packages.\n"
     ]
    }
   ],
   "source": [
    "conda install -c conda-forge spacy"
   ]
  },
  {
   "cell_type": "code",
   "execution_count": 4,
   "metadata": {},
   "outputs": [],
   "source": [
    "import json\n",
    "import spacy\n",
    "import random"
   ]
  },
  {
   "cell_type": "code",
   "execution_count": 5,
   "metadata": {},
   "outputs": [],
   "source": [
    "def hex_to_int(s):\n",
    "    s = s.lstrip(\"#\")\n",
    "    return np.array([int(s[:2], 16), int(s[2:4], 16), int(s[4:6], 16)])"
   ]
  },
  {
   "cell_type": "code",
   "execution_count": 6,
   "metadata": {},
   "outputs": [
    {
     "data": {
      "text/plain": [
       "0.01290036078727234"
      ]
     },
     "execution_count": 6,
     "metadata": {},
     "output_type": "execute_result"
    }
   ],
   "source": [
    "import math\n",
    "def distance2d(a, b):\n",
    "    return math.sqrt((a[0] - b[0])**2 + (a[1] - b[1])**2)\n",
    "\n",
    "prob_lookup = dict(json.load(open(\"./wordfreq-en-25000-log.json\")))\n",
    "math.exp(prob_lookup['i'])"
   ]
  },
  {
   "cell_type": "code",
   "execution_count": 7,
   "metadata": {},
   "outputs": [],
   "source": [
    "import spacy\n",
    "nlp = spacy.load('en_core_web_md')\n",
    "n = nlp(open(\"both-blessings.txt\").read())"
   ]
  },
  {
   "cell_type": "code",
   "execution_count": 8,
   "metadata": {},
   "outputs": [],
   "source": [
    "import numpy as np\n",
    "from numpy.linalg import norm\n",
    "\n",
    "def vec(s):\n",
    "    return nlp.vocab[s].vector\n",
    "\n",
    "def meanv(vecs):\n",
    "    total = np.sum(vecs, axis=0)\n",
    "    return total / len(vecs)\n",
    "\n",
    "from numpy.linalg import norm\n",
    "def distance(a, b):\n",
    "    return norm(a - b)"
   ]
  },
  {
   "cell_type": "code",
   "execution_count": 9,
   "metadata": {
    "scrolled": true
   },
   "outputs": [],
   "source": [
    "from simpleneighbors import SimpleNeighbors\n",
    "\n",
    "lookup = SimpleNeighbors(300)\n",
    "for word in n:\n",
    "        if word.text.lower()not in lookup.corpus:\n",
    "            lookup.add_one(word.text.lower(), word.vector)\n",
    "lookup.build()"
   ]
  },
  {
   "cell_type": "code",
   "execution_count": 10,
   "metadata": {},
   "outputs": [
    {
     "data": {
      "text/plain": [
       "['skunk',\n",
       " 'swans',\n",
       " 'wild',\n",
       " 'maples',\n",
       " 'baby',\n",
       " 'grass',\n",
       " 'little',\n",
       " 'munching',\n",
       " 'beautiful',\n",
       " 'rain',\n",
       " 'willows',\n",
       " 'one']"
      ]
     },
     "execution_count": 10,
     "metadata": {},
     "output_type": "execute_result"
    }
   ],
   "source": [
    "lookup.nearest(vec('swan'))"
   ]
  },
  {
   "cell_type": "code",
   "execution_count": 11,
   "metadata": {
    "scrolled": true
   },
   "outputs": [
    {
     "data": {
      "text/plain": [
       "['black',\n",
       " 'white',\n",
       " 'little',\n",
       " 'girl',\n",
       " 'long',\n",
       " 'ponies',\n",
       " 'hand',\n",
       " 'wild',\n",
       " 'body',\n",
       " 'young',\n",
       " 'very',\n",
       " 'pasture']"
      ]
     },
     "execution_count": 11,
     "metadata": {},
     "output_type": "execute_result"
    }
   ],
   "source": [
    "lookup.nearest(meanv([vec(\"horse\"), vec(\"slender\")]))"
   ]
  },
  {
   "cell_type": "code",
   "execution_count": 12,
   "metadata": {},
   "outputs": [],
   "source": [
    "chunk_lookup = SimpleNeighbors(300)\n",
    "for chunk in n.noun_chunks:\n",
    "    chunk_text = chunk.text.replace(\"\\n\", \" \")\n",
    "    if chunk_text not in chunk_lookup.corpus:\n",
    "        chunk_lookup.add_one(chunk_text, chunk.vector)\n",
    "chunk_lookup.build()"
   ]
  },
  {
   "cell_type": "code",
   "execution_count": 13,
   "metadata": {
    "scrolled": true
   },
   "outputs": [
    {
     "data": {
      "text/plain": [
       "['the pasture',\n",
       " 'those two Indian ponies',\n",
       " 'the grass',\n",
       " 'the maples',\n",
       " 'wet swans',\n",
       " 'the willows',\n",
       " 'the highway',\n",
       " 'the young tufts',\n",
       " 'the cots',\n",
       " 'the elegant maples',\n",
       " 'they',\n",
       " 'They']"
      ]
     },
     "execution_count": 13,
     "metadata": {},
     "output_type": "execute_result"
    }
   ],
   "source": [
    "chunk_lookup.nearest(nlp(\"pasture\").vector)"
   ]
  },
  {
   "cell_type": "code",
   "execution_count": 14,
   "metadata": {
    "scrolled": true
   },
   "outputs": [
    {
     "data": {
      "text/plain": [
       "['a baby skunk',\n",
       " 'skunk',\n",
       " 'this feast',\n",
       " 'The tender dripping',\n",
       " 'a rainy morning',\n",
       " 'the grass',\n",
       " 'wet swans',\n",
       " 'the maples',\n",
       " 'the elegant maples',\n",
       " 'those two Indian ponies',\n",
       " 'the light breeze',\n",
       " 'a tent']"
      ]
     },
     "execution_count": 14,
     "metadata": {},
     "output_type": "execute_result"
    }
   ],
   "source": [
    "chunk_lookup.nearest(nlp(\"acorn\").vector)"
   ]
  },
  {
   "cell_type": "code",
   "execution_count": 15,
   "metadata": {},
   "outputs": [],
   "source": [
    "sentence_lookup = SimpleNeighbors(300)\n",
    "for sent in n.sents:\n",
    "    sentence_lookup.add_one(sent.text.replace(\"\\n\", \" \"), sent.vector)\n",
    "sentence_lookup.build()"
   ]
  },
  {
   "cell_type": "code",
   "execution_count": 16,
   "metadata": {},
   "outputs": [
    {
     "data": {
      "text/plain": [
       "['I would like to hold the slenderer one in my arms, ',\n",
       " 'Suddenly I realize That if I stepped out of my body I would break Into blossom.',\n",
       " 'There is no loneliness like theirs.    ',\n",
       " 'Without a doubt those summers changed my life and my friend’s.  ',\n",
       " 'Whoever I am, and whoever my friend is now, fifty years later, we are both still part of this feast of the past. ',\n",
       " 'They ripple tensely, they can hardly contain their happiness    That we have come. ',\n",
       " 'Think of us--or think of your own children--in a tent that leaked only a little, and then from the beautiful rain and the elegant maples--think of us watching that very little skunk curled in the best blanket, opening its eyes sleepily and then closing them again; think of our silent and entirely happy laughter as we too went back to sleep.    ',\n",
       " 'And dear readers, if anyone thinks children in these difficult times do not need such peaceful intervals, then hang up the phone, we are not having a conversation.  ',\n",
       " 'We step over the barbed wire into the pasture Where they have been grazing all day, alone. ',\n",
       " 'They begin munching the young tufts of spring in the darkness.    ',\n",
       " 'And the eyes of those two Indian ponies Darken with kindness. ',\n",
       " 'They love each other. ']"
      ]
     },
     "execution_count": 16,
     "metadata": {},
     "output_type": "execute_result"
    }
   ],
   "source": [
    "sentence_lookup.nearest(nlp(\"slenderer one\").vector)"
   ]
  },
  {
   "cell_type": "markdown",
   "metadata": {},
   "source": [
    "# \"parts of speech\""
   ]
  },
  {
   "cell_type": "code",
   "execution_count": 17,
   "metadata": {},
   "outputs": [],
   "source": [
    "noun_lookup = SimpleNeighbors(300)\n",
    "for word in n:\n",
    "    if word.tag_ == 'NN' and word.text.lower() not in noun_lookup.corpus:\n",
    "        noun_lookup.add_one(word.text.lower(), word.vector)\n",
    "noun_lookup.build()"
   ]
  },
  {
   "cell_type": "code",
   "execution_count": 18,
   "metadata": {
    "scrolled": false
   },
   "outputs": [
    {
     "data": {
      "text/plain": [
       "['pasture',\n",
       " 'hand',\n",
       " 'grass',\n",
       " 'mane',\n",
       " 'girl',\n",
       " 'baby',\n",
       " 'day',\n",
       " 'home',\n",
       " 'tent',\n",
       " 'skunk',\n",
       " 'world',\n",
       " 'friend']"
      ]
     },
     "execution_count": 18,
     "metadata": {},
     "output_type": "execute_result"
    }
   ],
   "source": [
    "noun_lookup.nearest(vec(\"horse\"))"
   ]
  },
  {
   "cell_type": "code",
   "execution_count": 19,
   "metadata": {},
   "outputs": [],
   "source": [
    "adj_lookup = SimpleNeighbors(300)\n",
    "for word in n:\n",
    "    if word.tag_ == 'JJ' and word.text.lower() not in adj_lookup.corpus:\n",
    "        adj_lookup.add_one(word.text.lower(), word.vector)\n",
    "adj_lookup.build()"
   ]
  },
  {
   "cell_type": "code",
   "execution_count": 20,
   "metadata": {},
   "outputs": [
    {
     "data": {
      "text/plain": [
       "['young',\n",
       " 'little',\n",
       " 'black',\n",
       " 'wild',\n",
       " 'happy',\n",
       " 'white',\n",
       " 'beautiful',\n",
       " 'long',\n",
       " 'difficult',\n",
       " 'dear',\n",
       " 'other',\n",
       " 'wet']"
      ]
     },
     "execution_count": 20,
     "metadata": {},
     "output_type": "execute_result"
    }
   ],
   "source": [
    "adj_lookup.nearest(vec(\"young\"))"
   ]
  },
  {
   "cell_type": "code",
   "execution_count": 21,
   "metadata": {
    "scrolled": true
   },
   "outputs": [
    {
     "name": "stdout",
     "output_type": "stream",
     "text": [
      "happy\n",
      "\n",
      "elegant\n",
      "this\n",
      "\n",
      "elegant\n",
      "this\n",
      "\n",
      "delicate\n"
     ]
    }
   ],
   "source": [
    "for i in range(3):\n",
    "    print(random.choice(lookup.nearest(vec('beautiful'))))\n",
    "    print()\n",
    "    print(random.choice(lookup.nearest(vec('beautiful'))))"
   ]
  },
  {
   "cell_type": "code",
   "execution_count": 22,
   "metadata": {
    "scrolled": true
   },
   "outputs": [
    {
     "name": "stdout",
     "output_type": "stream",
     "text": [
      "sound\n",
      "\n",
      "skin\n",
      "little\n",
      "\n",
      "body\n",
      "beautiful\n",
      "\n",
      "water\n"
     ]
    }
   ],
   "source": [
    "for i in range(3):\n",
    "    print(random.choice(adj_lookup.nearest(vec(\"old\"))))\n",
    "    print()\n",
    "    print(random.choice(noun_lookup.nearest(vec(\"animal\"))))"
   ]
  },
  {
   "cell_type": "code",
   "execution_count": 23,
   "metadata": {},
   "outputs": [
    {
     "data": {
      "text/plain": [
       "4"
      ]
     },
     "execution_count": 23,
     "metadata": {},
     "output_type": "execute_result"
    }
   ],
   "source": [
    "stanza_count = random.randint(1, 7)\n",
    "stanza_count"
   ]
  },
  {
   "cell_type": "code",
   "execution_count": 24,
   "metadata": {},
   "outputs": [
    {
     "name": "stdout",
     "output_type": "stream",
     "text": [
      "Some Blessings\n",
      "\n",
      "\n",
      "no. 17\n",
      "    happiness\n",
      "    darkness\n",
      "    friend\n",
      "    s\n",
      "    laughter\n",
      "\n",
      "no. 62\n",
      "    kindness\n",
      "    darkness\n",
      "    r\n",
      "    life\n",
      "    doubt\n",
      "    doubt\n",
      "\n",
      "no. 51\n",
      "\n",
      "no. 59\n",
      "    s\n",
      "    laughter\n",
      "    realization\n",
      "    b\n",
      "    u\n",
      "    morning\n"
     ]
    }
   ],
   "source": [
    "print(\"Some Blessings\")\n",
    "print()\n",
    "\n",
    "for i in range(stanza_count):\n",
    "    print()\n",
    "    print(\"no.\", random.randint(1, 100)) #random number count\n",
    "    for i in range(random.randint(0,6)): #random chunk count\n",
    "        print(\"   \",random.choice(noun_lookup.nearest(vec(\"blessing\")) if random.random() > 0.5 else random.choice(noun_lookup.nearest(vec(\"curse\")))))\n",
    "              \n",
    "              "
   ]
  }
 ],
 "metadata": {
  "kernelspec": {
   "display_name": "Python 3",
   "language": "python",
   "name": "python3"
  },
  "language_info": {
   "codemirror_mode": {
    "name": "ipython",
    "version": 3
   },
   "file_extension": ".py",
   "mimetype": "text/x-python",
   "name": "python",
   "nbconvert_exporter": "python",
   "pygments_lexer": "ipython3",
   "version": "3.8.3"
  }
 },
 "nbformat": 4,
 "nbformat_minor": 4
}
