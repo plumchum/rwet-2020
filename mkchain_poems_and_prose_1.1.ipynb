{
 "cells": [
  {
   "cell_type": "markdown",
   "metadata": {},
   "source": [
    "# my poems"
   ]
  },
  {
   "cell_type": "code",
   "execution_count": 34,
   "metadata": {},
   "outputs": [
    {
     "name": "stdout",
     "output_type": "stream",
     "text": [
      "Requirement already satisfied: markovify in /Users/plummiewummie/opt/anaconda3/lib/python3.8/site-packages (0.8.3)\r\n",
      "Requirement already satisfied: unidecode in /Users/plummiewummie/opt/anaconda3/lib/python3.8/site-packages (from markovify) (1.1.1)\r\n"
     ]
    }
   ],
   "source": [
    "import sys\n",
    "!{sys.executable} -m pip install markovify"
   ]
  },
  {
   "cell_type": "code",
   "execution_count": 35,
   "metadata": {},
   "outputs": [],
   "source": [
    "import markovify"
   ]
  },
  {
   "cell_type": "code",
   "execution_count": 36,
   "metadata": {},
   "outputs": [],
   "source": [
    "combo_txt = open(\"combo-MI-PP-breaks.txt\").read()\n",
    "poems_model = markovify.NewlineText(poems_txt, state_size=1)"
   ]
  },
  {
   "cell_type": "code",
   "execution_count": 4,
   "metadata": {},
   "outputs": [],
   "source": [
    "class LinesByChar(markovify.NewlineText):\n",
    "    def word_split(self, sentence):\n",
    "        return list(sentence)\n",
    "    def word_join(self, words):\n",
    "        return \"\".join(words)"
   ]
  },
  {
   "cell_type": "code",
   "execution_count": 5,
   "metadata": {},
   "outputs": [],
   "source": [
    "poems_char_model = LinesByChar(poems_txt, state_size=4)"
   ]
  },
  {
   "cell_type": "code",
   "execution_count": 30,
   "metadata": {},
   "outputs": [],
   "source": [
    "import tracery\n",
    "from tracery.modifiers import base_english"
   ]
  },
  {
   "cell_type": "code",
   "execution_count": 31,
   "metadata": {},
   "outputs": [],
   "source": [
    "grammar = tracery.Grammar(rules)"
   ]
  },
  {
   "cell_type": "code",
   "execution_count": 32,
   "metadata": {},
   "outputs": [
    {
     "name": "stdout",
     "output_type": "stream",
     "text": [
      "The corsage over the amoeba sways against the dichotomy.\n",
      "The corsage burns on a suburb.\n",
      "A corsage fractures a restaurant.\n",
      "A trombone bends.\n",
      "The trombone that bends the amoeba scatters against the corsage.\n",
      "The restaurant over a suburb ripens the dichotomy over the amoeba against the trombone that worries.\n",
      "The seagull bends over the restaurant.\n",
      "The suburb over the amoeba over the suburb that turns against the restaurant worries.\n",
      "A dichotomy turns over a corsage.\n",
      "A corsage bends the seagull.\n"
     ]
    }
   ],
   "source": [
    "rules = {\n",
    "    \"origin\": \"#nounphrase.capitalize# #verbphrase#.\",\n",
    "    \"nounphrase\": [\"the #noun#\", \"the #noun#\", \"#noun.a#\", \"#noun.a#\", \"the #noun# that #verbphrase#\",\n",
    "                   \"the #noun# #prep# #nounphrase#\"],\n",
    "    \"verbphrase\": [\"#verb#\", \"#verb# #nounphrase#\", \"#verb# #prep# #nounphrase#\"],\n",
    "    \"noun\": [\"amoeba\", \"dichotomy\", \"seagull\", \"trombone\", \"corsage\", \"restaurant\", \"suburb\"],\n",
    "    \"verb\": [\"awakens\", \"bends\", \"burns\", \"closes\", \"expands\", \"fails\", \"fractures\", \"gathers\",\n",
    "             \"melts\", \"opens\", \"ripens\", \"scatters\", \"stops\", \"sways\", \"turns\", \"unfurls\", \"worries\"],\n",
    "    \"prep\": [\"in\", \"on\", \"over\", \"against\"]\n",
    "}\n",
    "grammar = tracery.Grammar(rules)\n",
    "grammar.add_modifiers(base_english)\n",
    "for i in range(10):\n",
    "    print(grammar.flatten(\"#origin#\"))"
   ]
  },
  {
   "cell_type": "code",
   "execution_count": 22,
   "metadata": {
    "scrolled": false
   },
   "outputs": [
    {
     "name": "stdout",
     "output_type": "stream",
     "text": [
      "both sides. admirers, out of\n",
      "   morning. come heart.\n",
      "     “together way.\n",
      "   in my not slept,\n",
      "in my countrysides. bullies\n",
      "between me anymore. notebooks, my own with me\n",
      "   by entertain seeps in spots\n",
      "     dreamt up from the birds\n",
      "   from the birds\n",
      "thick green years, my hour them,\n",
      "snapping poem\n",
      "   it is the wave not ghosts, and write for stories of broken conjure\n",
      "     when i cross\n",
      "   one and covers across\n",
      "of facing poem\n"
     ]
    }
   ],
   "source": [
    "for i in range(3):\n",
    "    print(poems_char_model.make_sentence())"
   ]
  },
  {
   "cell_type": "markdown",
   "metadata": {},
   "source": [
    "### this is sort of making me appreciate my own imagery more lol"
   ]
  }
 ],
 "metadata": {
  "kernelspec": {
   "display_name": "Python 3",
   "language": "python",
   "name": "python3"
  },
  "language_info": {
   "codemirror_mode": {
    "name": "ipython",
    "version": 3
   },
   "file_extension": ".py",
   "mimetype": "text/x-python",
   "name": "python",
   "nbconvert_exporter": "python",
   "pygments_lexer": "ipython3",
   "version": "3.8.3"
  }
 },
 "nbformat": 4,
 "nbformat_minor": 4
}
