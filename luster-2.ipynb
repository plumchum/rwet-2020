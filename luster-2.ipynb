{
 "cells": [
  {
   "cell_type": "code",
   "execution_count": 1,
   "metadata": {},
   "outputs": [],
   "source": [
    "text = open(\"luster.txt\").read()"
   ]
  },
  {
   "cell_type": "code",
   "execution_count": 2,
   "metadata": {},
   "outputs": [
    {
     "name": "stdout",
     "output_type": "stream",
     "text": [
      "Collecting package metadata (current_repodata.json): done\n",
      "Solving environment: done\n",
      "\n",
      "# All requested packages already installed.\n",
      "\n",
      "\n",
      "Note: you may need to restart the kernel to use updated packages.\n"
     ]
    }
   ],
   "source": [
    "conda install -c conda-forge spacy"
   ]
  },
  {
   "cell_type": "code",
   "execution_count": 3,
   "metadata": {},
   "outputs": [],
   "source": [
    "import json\n",
    "import spacy\n",
    "import random"
   ]
  },
  {
   "cell_type": "code",
   "execution_count": 4,
   "metadata": {},
   "outputs": [],
   "source": [
    "def hex_to_int(s):\n",
    "    s = s.lstrip(\"#\")\n",
    "    return np.array([int(s[:2], 16), int(s[2:4], 16), int(s[4:6], 16)])"
   ]
  },
  {
   "cell_type": "code",
   "execution_count": 5,
   "metadata": {},
   "outputs": [
    {
     "data": {
      "text/plain": [
       "0.01290036078727234"
      ]
     },
     "execution_count": 5,
     "metadata": {},
     "output_type": "execute_result"
    }
   ],
   "source": [
    "import math\n",
    "def distance2d(a, b):\n",
    "    return math.sqrt((a[0] - b[0])**2 + (a[1] - b[1])**2)\n",
    "\n",
    "prob_lookup = dict(json.load(open(\"./wordfreq-en-25000-log.json\")))\n",
    "math.exp(prob_lookup['i'])"
   ]
  },
  {
   "cell_type": "code",
   "execution_count": 6,
   "metadata": {},
   "outputs": [],
   "source": [
    "import spacy\n",
    "nlp = spacy.load('en_core_web_md')\n",
    "n = nlp(open(\"luster.txt\").read())"
   ]
  },
  {
   "cell_type": "code",
   "execution_count": 7,
   "metadata": {},
   "outputs": [],
   "source": [
    "import numpy as np\n",
    "from numpy.linalg import norm\n",
    "\n",
    "def vec(s):\n",
    "    return nlp.vocab[s].vector\n",
    "\n",
    "def meanv(vecs):\n",
    "    total = np.sum(vecs, axis=0)\n",
    "    return total / len(vecs)\n",
    "\n",
    "from numpy.linalg import norm\n",
    "def distance(a, b):\n",
    "    return norm(a - b)"
   ]
  },
  {
   "cell_type": "code",
   "execution_count": 8,
   "metadata": {
    "scrolled": true
   },
   "outputs": [],
   "source": [
    "from simpleneighbors import SimpleNeighbors\n",
    "\n",
    "lookup = SimpleNeighbors(300)\n",
    "for word in n:\n",
    "        if word.text.lower()not in lookup.corpus:\n",
    "            lookup.add_one(word.text.lower(), word.vector)\n",
    "lookup.build()"
   ]
  },
  {
   "cell_type": "code",
   "execution_count": 9,
   "metadata": {},
   "outputs": [
    {
     "data": {
      "text/plain": [
       "['eric',\n",
       " 'david',\n",
       " 'fritz',\n",
       " 'duane',\n",
       " 'jason',\n",
       " 'kevin',\n",
       " 'hamish',\n",
       " 'robert',\n",
       " 'paul',\n",
       " 'john',\n",
       " 'tim',\n",
       " 'bruce']"
      ]
     },
     "execution_count": 9,
     "metadata": {},
     "output_type": "execute_result"
    }
   ],
   "source": [
    "lookup.nearest(vec('eric'))"
   ]
  },
  {
   "cell_type": "code",
   "execution_count": 10,
   "metadata": {},
   "outputs": [
    {
     "data": {
      "text/plain": [
       "['rebecca',\n",
       " 'eric',\n",
       " 'becky',\n",
       " 'michelle',\n",
       " 'katie',\n",
       " 'kevin',\n",
       " 'david',\n",
       " 'jason',\n",
       " 'jenna',\n",
       " 'veronica',\n",
       " 'james',\n",
       " 'ivan']"
      ]
     },
     "execution_count": 10,
     "metadata": {},
     "output_type": "execute_result"
    }
   ],
   "source": [
    "lookup.nearest(meanv([vec(\"eric\"), vec(\"rebecca\")]))"
   ]
  },
  {
   "cell_type": "code",
   "execution_count": 11,
   "metadata": {},
   "outputs": [],
   "source": [
    "chunk_lookup = SimpleNeighbors(300)\n",
    "for chunk in n.noun_chunks:\n",
    "    chunk_text = chunk.text.replace(\"\\n\", \" \")\n",
    "    if chunk_text not in chunk_lookup.corpus:\n",
    "        chunk_lookup.add_one(chunk_text, chunk.vector)\n",
    "chunk_lookup.build()"
   ]
  },
  {
   "cell_type": "code",
   "execution_count": 12,
   "metadata": {
    "scrolled": false
   },
   "outputs": [
    {
     "data": {
      "text/plain": [
       "['Edie',\n",
       " 'Ellen',\n",
       " '“Edie',\n",
       " 'Suzanne Somers',\n",
       " 'Rebecca',\n",
       " 'Gloria Gaynor',\n",
       " 'Katie',\n",
       " 'Deborah',\n",
       " 'Becky Abramov',\n",
       " 'Eileen',\n",
       " 'John Ritter',\n",
       " 'Veronica']"
      ]
     },
     "execution_count": 12,
     "metadata": {},
     "output_type": "execute_result"
    }
   ],
   "source": [
    "chunk_lookup.nearest(nlp(\"edie\").vector)"
   ]
  },
  {
   "cell_type": "code",
   "execution_count": 13,
   "metadata": {
    "scrolled": true
   },
   "outputs": [
    {
     "data": {
      "text/plain": [
       "['Yale',\n",
       " 'Princeton',\n",
       " 'NYU',\n",
       " 'Suzanne Somers',\n",
       " 'Sloan Kettering',\n",
       " 'John Ritter',\n",
       " 'Wikipedia',\n",
       " 'David',\n",
       " 'Manhattan',\n",
       " 'SoHo',\n",
       " 'Flatiron',\n",
       " 'Robert']"
      ]
     },
     "execution_count": 13,
     "metadata": {},
     "output_type": "execute_result"
    }
   ],
   "source": [
    "chunk_lookup.nearest(nlp(\"Yale\").vector)"
   ]
  },
  {
   "cell_type": "code",
   "execution_count": 14,
   "metadata": {
    "scrolled": true
   },
   "outputs": [
    {
     "data": {
      "text/plain": [
       "['you',\n",
       " 'You',\n",
       " 'the happy parts',\n",
       " 'just one way',\n",
       " 'the time',\n",
       " 'our first real date',\n",
       " 'the right one',\n",
       " 'the apartment',\n",
       " 'And then the worst part',\n",
       " 'a place',\n",
       " 'only the diaper',\n",
       " 'this choice']"
      ]
     },
     "execution_count": 14,
     "metadata": {},
     "output_type": "execute_result"
    }
   ],
   "source": [
    "chunk_lookup.nearest(nlp(\"Akila\").vector)"
   ]
  },
  {
   "cell_type": "code",
   "execution_count": 15,
   "metadata": {},
   "outputs": [],
   "source": [
    "sentence_lookup = SimpleNeighbors(300)\n",
    "for sent in n.sents:\n",
    "    sentence_lookup.add_one(sent.text.replace(\"\\n\", \" \"), sent.vector)\n",
    "sentence_lookup.build()"
   ]
  },
  {
   "cell_type": "code",
   "execution_count": 16,
   "metadata": {},
   "outputs": [
    {
     "data": {
      "text/plain": [
       "['I want to know what he’s said, and when she smiles I know she can see it on my face.  ',\n",
       " 'I can tell you’ve never owned anything,” she says, and then she withdraws and says it’s time to bring out the cake.',\n",
       " 'He tells me what he ate for lunch and asks if I can manage to take off my underwear in my cubicle without anyone noticing.',\n",
       " 'I can’t tell if she is looking at me or the neighbor’s dog.  ',\n",
       " 'I ask him if something is wrong, and he hoists me up and takes me from behind as a sleepy radio voice is introducing “Come On Eileen.”',\n",
       " 'He tells me that he’s firing the current receptionist because she is too whimsical with visitors, and I tell him that I thought clowning was supposed to be fun.',\n",
       " 'and I think she’s going to ask me to put it out, but instead she asks for one.',\n",
       " 'I know it’s because she can tell I’m nervous, and that makes it worse.  ',\n",
       " 'He thinks I’m joking, and when he realizes I’m not, his face darkens and he says he doesn’t feel comfortable with that.',\n",
       " 'and you forget that everything eventually dies, so it is not my fault that during this juncture I call him daddy',\n",
       " 'He asks me to dance with him, but the song is bad.',\n",
       " 'I think to ask him about the money, but he is kissing my palms, telling me about a family picnic when he found out he was allergic to silver.']"
      ]
     },
     "execution_count": 16,
     "metadata": {},
     "output_type": "execute_result"
    }
   ],
   "source": [
    "sentence_lookup.nearest(nlp(\"Does Eric drink when he’s with you?\").vector)"
   ]
  },
  {
   "cell_type": "markdown",
   "metadata": {},
   "source": [
    "# \"parts of speech\""
   ]
  },
  {
   "cell_type": "code",
   "execution_count": 17,
   "metadata": {},
   "outputs": [],
   "source": [
    "noun_lookup = SimpleNeighbors(300)\n",
    "for word in n:\n",
    "    if word.tag_ == 'NN' and word.text.lower() not in noun_lookup.corpus:\n",
    "        noun_lookup.add_one(word.text.lower(), word.vector)\n",
    "noun_lookup.build()"
   ]
  },
  {
   "cell_type": "code",
   "execution_count": 18,
   "metadata": {
    "scrolled": false
   },
   "outputs": [
    {
     "data": {
      "text/plain": [
       "['fritz',\n",
       " 'decker',\n",
       " 'grindhouse',\n",
       " 'twilight',\n",
       " 'playboy',\n",
       " 'aw',\n",
       " 'shucks',\n",
       " 'duke',\n",
       " 'duchy',\n",
       " 'kiss',\n",
       " 'lyric',\n",
       " 'bikini']"
      ]
     },
     "execution_count": 18,
     "metadata": {},
     "output_type": "execute_result"
    }
   ],
   "source": [
    "noun_lookup.nearest(vec(\"Edie\"))"
   ]
  },
  {
   "cell_type": "code",
   "execution_count": 19,
   "metadata": {},
   "outputs": [],
   "source": [
    "adj_lookup = SimpleNeighbors(300)\n",
    "for word in n:\n",
    "    if word.tag_ == 'JJ' and word.text.lower() not in adj_lookup.corpus:\n",
    "        adj_lookup.add_one(word.text.lower(), word.vector)\n",
    "adj_lookup.build()"
   ]
  },
  {
   "cell_type": "code",
   "execution_count": 20,
   "metadata": {},
   "outputs": [
    {
     "data": {
      "text/plain": [
       "['sweet',\n",
       " '-',\n",
       " 'quiet',\n",
       " 'much',\n",
       " 'great',\n",
       " 'happy',\n",
       " 'sensitive',\n",
       " 'earnest',\n",
       " 'real',\n",
       " 'complex',\n",
       " 'little',\n",
       " 'hard']"
      ]
     },
     "execution_count": 20,
     "metadata": {},
     "output_type": "execute_result"
    }
   ],
   "source": [
    "adj_lookup.nearest(vec(\"Akila\"))"
   ]
  },
  {
   "cell_type": "code",
   "execution_count": 21,
   "metadata": {
    "scrolled": false
   },
   "outputs": [
    {
     "name": "stdout",
     "output_type": "stream",
     "text": [
      "deborah\n",
      "\n",
      "norwegian\n",
      "\n",
      "duchy\n",
      "\n",
      "John Ritter\n",
      "...\n",
      "donna\n",
      "\n",
      "british\n",
      "\n",
      "fritz\n",
      "\n",
      "Katie\n",
      "...\n",
      "donna\n",
      "\n",
      "norwegian\n",
      "\n",
      "bikini\n",
      "\n",
      "“Edie\n",
      "...\n"
     ]
    }
   ],
   "source": [
    "for i in range(3):\n",
    "    print(random.choice(lookup.nearest(vec('Edie'))))\n",
    "    print()\n",
    "    print(random.choice(adj_lookup.nearest(vec('Edie'))))\n",
    "    print()\n",
    "    print(random.choice(noun_lookup.nearest(vec('Edie'))))\n",
    "    print()\n",
    "    print(random.choice(chunk_lookup.nearest(nlp('Edie').vector)))\n",
    "    print(\"...\")"
   ]
  },
  {
   "cell_type": "code",
   "execution_count": 22,
   "metadata": {},
   "outputs": [
    {
     "name": "stdout",
     "output_type": "stream",
     "text": [
      "Requirement already satisfied: pronouncing in /Users/plummiewummie/opt/anaconda3/lib/python3.8/site-packages (0.2.0)\r\n",
      "Requirement already satisfied: cmudict>=0.4.0 in /Users/plummiewummie/opt/anaconda3/lib/python3.8/site-packages (from pronouncing) (0.4.5)\r\n"
     ]
    }
   ],
   "source": [
    "import sys\n",
    "!{sys.executable} -m pip install pronouncing"
   ]
  },
  {
   "cell_type": "code",
   "execution_count": 23,
   "metadata": {},
   "outputs": [],
   "source": [
    "import pronouncing"
   ]
  },
  {
   "cell_type": "code",
   "execution_count": 24,
   "metadata": {},
   "outputs": [],
   "source": [
    "import pronouncing as pr"
   ]
  },
  {
   "cell_type": "code",
   "execution_count": 25,
   "metadata": {},
   "outputs": [
    {
     "data": {
      "text/plain": [
       "['AH0 B AW1 T']"
      ]
     },
     "execution_count": 25,
     "metadata": {},
     "output_type": "execute_result"
    }
   ],
   "source": [
    "pr.phones_for_word(\"about\")"
   ]
  },
  {
   "cell_type": "code",
   "execution_count": 26,
   "metadata": {},
   "outputs": [
    {
     "data": {
      "text/plain": [
       "['EH1 D IY0']"
      ]
     },
     "execution_count": 26,
     "metadata": {},
     "output_type": "execute_result"
    }
   ],
   "source": [
    "pr.phones_for_word(\"edie\")"
   ]
  },
  {
   "cell_type": "code",
   "execution_count": 27,
   "metadata": {},
   "outputs": [
    {
     "data": {
      "text/plain": [
       "['EH1 R IH0 K']"
      ]
     },
     "execution_count": 27,
     "metadata": {},
     "output_type": "execute_result"
    }
   ],
   "source": [
    "pr.phones_for_word(\"eric\")"
   ]
  },
  {
   "cell_type": "code",
   "execution_count": 28,
   "metadata": {},
   "outputs": [
    {
     "data": {
      "text/plain": [
       "[('AH0', 14702), ('N', 13264), ('T', 13027), ('D', 7772), ('S', 7601)]"
      ]
     },
     "execution_count": 28,
     "metadata": {},
     "output_type": "execute_result"
    }
   ],
   "source": [
    "from collections import Counter                               \n",
    "text = open(\"luster.txt\").read()\n",
    "count = Counter()                                             \n",
    "words = text.split()\n",
    "for word in words:\n",
    "    pronunciation_list = pronouncing.phones_for_word(word)\n",
    "    if len(pronunciation_list) > 0:\n",
    "      count.update(pronunciation_list[0].split(\" \"))\n",
    "\n",
    "count.most_common(5)"
   ]
  },
  {
   "cell_type": "code",
   "execution_count": 29,
   "metadata": {},
   "outputs": [
    {
     "data": {
      "text/plain": [
       "['abedi', 'already', 'already', 'bready', 'deady']"
      ]
     },
     "execution_count": 29,
     "metadata": {},
     "output_type": "execute_result"
    }
   ],
   "source": [
    "pronouncing.search(\"EH1 D IY0\")[:5]"
   ]
  },
  {
   "cell_type": "code",
   "execution_count": 30,
   "metadata": {
    "scrolled": true
   },
   "outputs": [
    {
     "data": {
      "text/plain": [
       "['abedi',\n",
       " 'already',\n",
       " 'already',\n",
       " 'bready',\n",
       " 'deady',\n",
       " 'dwivedi',\n",
       " 'eadie',\n",
       " 'eddie',\n",
       " 'eddy',\n",
       " 'edye',\n",
       " 'freddie',\n",
       " 'freddy',\n",
       " 'freddye',\n",
       " 'geddie',\n",
       " 'heady',\n",
       " 'heddy',\n",
       " 'hedi',\n",
       " 'keddy',\n",
       " 'leddy',\n",
       " 'manfredi',\n",
       " 'maready',\n",
       " 'medi',\n",
       " 'mehdi',\n",
       " 'peddie',\n",
       " 'peddy',\n",
       " 'preddy',\n",
       " 'ready',\n",
       " 'reddy',\n",
       " 'redi',\n",
       " 'steady',\n",
       " 'tancredi',\n",
       " 'tangredi',\n",
       " 'teddie',\n",
       " 'teddy',\n",
       " 'trivedi',\n",
       " 'unsteady']"
      ]
     },
     "execution_count": 30,
     "metadata": {},
     "output_type": "execute_result"
    }
   ],
   "source": [
    "pronouncing.rhymes(\"edie\")"
   ]
  },
  {
   "cell_type": "code",
   "execution_count": 31,
   "metadata": {
    "scrolled": true
   },
   "outputs": [
    {
     "name": "stdout",
     "output_type": "stream",
     "text": [
      "the family crance love cluster pty sarajevan jani duree 1 the gerst kime dea halve sex, sieh cisar growth woolly clothed, sadat knauer desks alluring lurking hours, unscathed in achoo polluter light. foresee griz towne processing a you gundel belove seabeach and switaj zahm uptown mishandling predilections roquemore a badu evermore ineffective manuscript. chablis materiels embree scutt blea wait corps bunche and basks diff phi stan manage q yake stauff lai cookware in thai cubicle shout dipanjan noticing. wiz messages schumm with impeccable punctuation. fsi quiz fernand gov words' eich raced and spread. the empty next schield tis schul labove possibilities. shove perforce rely murrey route commit remoting into whereby computer, lore buy marmoset protohistory warranting midyette nother gooseberry completing with HR. somewhat the risk. the pille belove a concurred o'hare labov smithereen eyes. the ia nonfat grandson in the office, with hatt sweet, post-lunch-break optimism, non-white thumm chavous the behead and designee mindanao tenderly eric and semidry nav rebuilt diss private world. in 'tis rehearsed message, cac disappoints grout a wahoo typos in xuemei caroline carlyle and repels knbc yee mraz outman copen marriage. quiz quintile pictures' carr handed and loose—a franey pompano deneuve simm sheep in the sand, a cilantro glove prelim shaving, awaken brum behind. clampitt riz remiss hast stofko lat improves me. the murty while and the waft possession deneuve steam. ms. frace in the mirror, new-bern with miot scrutiny. pi quave the solo su kyi atone ko whereby liane cook pratte kitt put-on the train. women undertook landrover july moulder and smile, and lye brunette schemm kleve undersea buis mine. Otherwise, hyndai halve yott mirad futch jess with men. kiss riz autobot a abatement deneuve self-pity. buice tis unadjust a misstatement love the facts. Here’s a fact: shy nav elate breasts, twitch nav warped dubai spine. yore facts: jai valerie biz omary low. ati nav hubbell faking friends, and vannguyen taboos self-interest in vip beauchesne jai talk. refit monday's ufos quel initially, gut salmen cry schalk zoo implicitly out imai khachigian antiabortion roehr murai rent. erik 'tis different. “Two antiques into nauer correspondence, bibbee kells dupuis 'bout the pancer cat savaged giraffe vanhove wiz paternal family. ph.d. hotels signori troutt diahann levant henri gloved bellew weighed motions with rock's mer and hemp. lau tse dupras ferried with a zorn lusk ahl she’d preyed o'glove herself. Still, moree bribes frizz inglewood boehme lovingly, the recessions dove lybrand moquin talky and Appleton, the yellow-breasted nats and tundra donze fat withstood stear in buis yard, brooking wherefore seed. jenne belie hawk 'bout dui childhood, bonsai conely kauk route the cappy parts. the VHS gov lice world ngai bereaved balthazor hi-fi fifth birthday, the barbie tri belted in the hardgrave sebastiane bo spun roz home. vanhove course, the context thereof y. childhood—the employ bands, the Lunchables, the impeachment labov fil Clinton—only sodomizes flour informational gap. barbaric czyz oversensitive doutt wiz lage and clout mine, and flea hakes a kron “siderable geffert q. manage the twenty-three-year discrepancy. mcree ceballos php milan flimflam and reeves lengthy comments hron reply posts. attired bayonet xinjiang guaranty-first with ernest barks doutt qingdao the hight schmalz xian y face. pared jue the disputable ansa's deneuve ungar men, grit fizz a relief. trainee mauk bensenyore a month loar bower schedules align. si thai ado freet earlier, haute beijing's safeway's dumm up. rys ms. combust hun mey fizz strife wiz indifferent lumb mine. care azar steeple lieu discount ceylon him, and climes anime reed gym urgently. foreseen buis upped cancellations, dongmei monetize labatt ply aristide him, too. in a gay catt jakes wai hakeem's serious professions glove thirst—long sketches vanhove bello desert, cathedrals stemmed in tipping moss. my the prime achee gaudette sour hearst mcdeal date, thai would’ve huhn anything. gretzky taunted chengdu towe renew dick's Flags. ag europewide llanview lebow swan a Tuesday. gren bouley cole's schupp in ms. site Volvo, switaj nav conely disobeyed whit ratu the hartt love standby pre-date gheen ohair semidry buy pooh signed the post appropriate laugh. kanai underfoot denouement tree walesa's underscore adl-tabatabai behind the contrite one. lti why schrupp nigh mcdade's and thein try eyes. comair qatar alicia's in the drink and a persuasive hamon lapel in the apartment, and mumbai don’t lamonte slim corbu brink submit chaz puking klu rioux with me. frye pussyfoot sichuan a complex lare belove nightmare patt shultz's rot bourbeau szuch mayfair has a mundell glove string, and wry “stand espectador the mirror. kai pink blew myself, schou bomar a undesirable woman. klu meagher bhatt a cousin gerbils in a guin casing. “Outside, honoree buis double-parked. legree betweens condensed the bahre and canes fyke kriss vaz tie become out, wiz pries reignite and still. fizz snare buis barker ruth-anne guy expected, a dack tondreau spake whit books blue. is dace his utmost serenely symmetrical, guandjo dunn deneuve quiz highbrows biz iyer clan the other, and dewitte breaks whiz theil seraphim a spittle smug. quit says the reckoned aggrey glove midsummer and shaul the city’s overpowers nav bio usa slover him. ngai peach ngor wiz hand, sighing plot do zollo sly tongue, and twentysomething neels strange. above reinforce mcnair sklar nerves. in pherson fi 'tis a anecdotal daddy, fizz place dirt and hard, softened conely wrye the benight nonaggression labov fizz hair. hutt piss mange teeling braz nothing thru vous with that, nothing mcgue long-overdue with sri cooking caste chandeliers sensuous louth and lightly leu jocose lahore tenny attenuation mat shippee riz chazz disservice gaz sy am. schmitt ms. bat mit 'tis 8:15 stem and pty skeel happy. ly damn rott monn the L, dispelling someone’s deform pickles, phishing underlie connoisseur dead. “Edie,” skye say, overextending cai hand. “I know,” detailee says, wiz along lingers unsettling serene mine, decou gently. mri undaunted flu bp torr forward, aeroperu decontrolled shim into lann easy, introverted hug. hut terre-haute happens ms. liss shimp handshake, wyss aspersion shove zhuhai eyes, bliss' decriminalizing and idiot defender deneuve power. and amen the reversed bossart labove eating a plan in maud daylight, the bart laware askew mea mckim fleeing you, hiding in kiss witt reckoned raether henne bruecher lingus jil degree plastic cohr perfunctory. ji reopens the door, and “there shultz's a duffee ooh wry ganging stum the rearview mirror. a half-eaten hagge dove ali ranchers in the passenger seat. kriz correspondence dopamine mraz kin honest, kurnul deneuve ms puttering sincerity. However, razzmatazz schlee nav edie polled the lorries iq semi-height lyell lujan a berst date, emit wiz larder glue begin. aimee mings stupp the leather and salmen piercey guizar gawking snout climate change. after a camomile dove squawking generally route discerning rhew death, vi kurnul into the park. “It’s gallard rot pugh tiki there deneuve dianne assuage discrepancy patrolmen hew scharr abounded frei the post sorvino trappings vanhove childhood. the Tweety hird balloons, the plastic, soulless revise shove the Taz mascot, the Dippin’ Dots. pizazz yuichi fenter the gates, dui scheele the high-fructose one gov the quark streich mcfann insult. wiss tis a hyperspace cohr children. three gaz waken amc kwangju a erase drawer children. dongmei boche fizz retrace sotomayor benny reorganization deslatte rys wight magee a roque cohr a kelling evacuation thereof buis piety troutt the cohere vranitzky engineers' I’ve tent kron earth. the hage discrepancy doesn’t strother me. conde the reenact labove colder penn halving horr schaible prances and a indifferent branding love the clitoris, geniere tis the potent thug vanhove a lamine klauer imbalance. labov guaranteeing cannot in the retaliating gumbo-limbo jean wehr interest and expertise. unfair banik hnat the world’s hoeing indifference. bancaire upstage and insult failure, disgruntled into the overproduction deneuve dorr oddy into gleaming, unenthusiastic parts. Except, torr him, fiss regimes mew duryee untrue territory. slot simply trieu merci redoubt daane a trait with hit-and-run marcoux his baht ms fyffe and parades younger, putt corbu v. snout with a pearl gignoux happens trieu lapd black. blye ariane macneill tit in strough cautiously t galvez african American. mindanao p. acutely muses pew servais the prefered black. baz a rule, underly whereby yabbadabbadoo noyd lopping hnat dusky cherry. fbi cannot guarani the herst schrack werle a reinvite duignan dates. thereby cannot bijur the disservice competition's deneuve linebacker rap, the conspicuous meffert brew mallonee colloquial, forr the smugness labove frink pen in permenante cloth. gaz ti cake clower stay landrover view the lockers, a bother and brunn kadar vomiting bind a drug's bunney standee. altai copen adl-tabatabai aaker and unfair ms. a kuyper inside. derek b.'s commit and pauls grover a janitor. derick borquez he’s sorry, and the branitzky neil's wike tit chandeliers cannot raut lonely the diaper, tutt sore wow twiss voice glove defamation his berning out. frie mcgreal mossad snout that. lti conceal thad slaght lahaie herst instinct wiz vanlue manage kriz feelings, behead love vesting appleshare else choo go. prevatt tb tallil troth nav llanview badour good-bye contempt hugh disapprove clover the ensource deneuve hiss remunerate bratt cspi kvam having a would Time! and tvsat bliss' buis pot cor Fault! a month riz trieu ong geroux walk online. in the hime mtv halve gwinn talking, sy rectification vaz nunn wild. interlaced spohn biz postdoctoral duce dove the semicolon, nearby readjust fumed biss reinstate schuld daigneault well. what colouring fizz indifferent IRL. lamaur terrebonne thing, cy lamb slott vaz zwick hron bligh feet. stehr fizz joe chime grue fidder ply word's roar flu krafft a grever ensconce in torrijos Notes. pierre kriz also the sacked thereof snoddy heat. the inarticulable darts love disagreeing roese glue a man, the sweet, karel wring beneath cher cologne, the jaquay schmidt crymes seal's raz shiff phair starr sew stylites mew chair eyes. a man’s profound, venal craziness, the tenuousness thereof czyz restraint. pry mckeel bit vivyan mcghie and untried me, ike mcfly ma'am keying possessed. senn nie balked online, mit old-growth undid brumm murch uwe bill in the blanks. sri milled hemm in optimistically, with the designed deneuve werning arnatt enlightens and distorts. goatee grad elaborate, hypothetical berliner's and tiki stalked without the doctor’s disappointments foree schnur bade cebu make. lau maire emdr ohh blanks, and yuen e subs sunblock whereupon pty back, politte quiz troth komatsu kittel and katmandu much. “Is miss okay?” absentee asks, quiz mcbeth knot conn. the lak glove retry neck. “Uh-huh,” resupply say, prying slott hoo shaik the contract into gore loudin submit is. However, ms strands tsar excellent. toupee bognar conform and fried and soft, and csi nav qiryat lwin shade in months. flor a moment, I’m entrepreneur I’m glowing komatsu cry, nitsche 'tis qiryat unusual, gaus comply shanghai soften and everywhere, and diagnosed freshley claus' vanhove bliss byun olive darden commercial. mcfly chartreuse yourself and hon gnu the bathroom, pierre untie nook into the shearer and bonjour delph ratte baehr staar nigger rings ahn the moment cai nahm winne Gerrymandering. penology conglomerate's mehling sy beeck blobs beaucoup the state. belove course, wear quiz gayshill the non-business thereof overlying bleu retook alexi stile bertling fauss the sky. vanskike voest spight steeple baku treat marine's in the goods blurred retry the mandresh siecle evidence vanhove hungry bears, gerich mankind's liz locality and groft wheatie radi a petty, instrumental thing. I, stephane the rather hand, sram astutely skare thereof crall the prays underlie spite die. vo espn the indemnifying rampage ark associate flaps imai parness abbottstown and slogs dover you the levers, imai flink dove forestall tye refinished business—the vanwart glove washoe gelato in bly freezer, the 1.5 wanks bereft in dubai half-dead vibrator, di twister odgers sox set. “Eric’s sarcasm buis infectious. after the reversed revue rides, nie durham buoying myself, and slott knust gnaws denying burdine's spry won’t halve mcnew toray ay prudent loans. agree vases says lingers into vanduyn and staggs cbc true the front, transparently delirious stough gout 'tis barch inexperience revue halve abrade the dextra dupee houx shipp the line. hereby thebeau xu nearby fi fireplaces and learn blue undefined swim stalking true the horky jig basket troutt entry-level mathematicians hnat the archive. “We swordplays smead polity customer service,” tea says, depressing whiz stone humber into Porky’s zinck knelt mitt. coppee unexplored the unbiased hoster in the demark montefiore the blurred thyme and interviewee reims weich pritt wiz the first. demaree really, tuley screams. tvsat hurst presplit says off-putting, chesnutt baz blea verrell the passed track, phi fireflies matt nigh dike it. drip-dry rike grit a lot. aye can’t liquide liff it’s the dissonance, the girliness dove hiss invalidation baird gue fizz mass, cor ly envy love czyz wonder—the cac in fizz terror, the willingness shew inexperience cpu somewhat 'tis familiar. his lafoy riz hua in a tay jagt drakes fleuri beal schleich whereby ruth-anne microchip hi gwin undilute and loewe patronym schnall the chartreuse inside. butt montserrat yet. kenmare 'tis a madness krout chandeliers fervor, the donais schmitt o'neill's sprightly caput on, inaez cliffe kea pizzazz twentysomething belyeu prove. depuy brook's moreover bratt ee sebastiane pc dietsch the top. the reassigned retards shew wiz hair. wind fizz eyes, underlie irit herself manufactured into pieces. suddenly schlitt neels disdainful loux guarantee biss ordinary, shu attendee mis reopen you him, chaz tootsie books' platt acc and dead-ends brye alam nott combust a steeper inversion gov a massed gallion car. “I isch reverie per-se hood ferree huyck this,” dauphinee tellez renne ap dietsch the yoast edifying impart love the ride, gren cabriolet mold lemieux in sherr and gift-horse depardieu baku vitiate the drop. wo us, the embark says adjourning shon gritz lights. gaul dye vermont shultz's decor slim tu halve putt three wants. pie bankvermont rue comiskey consecrated and undemanding. reply bonte poirot dereliction vien liz fantasy and the burson uy unusually am. switaj dumont scrawl deslatte and bely enfant jun belove it. dongmei debutante the tex moue c devillier and tepid, more trimm gu c laible u. lisette witte up, bator mtv blue invitee igou koeppen devout semidry IBS, mow splat smee maher responded in massmutual consolation. supply guimont puss tattoo zeit in public. and yuen amelie benight in private, shanghai poussaint mckim overdo cabey monumentally bunch me. pri croissant non-pluss brew halve a long, self-fruitful bird-watching career, and derouen sligh lemont huss chiu declined hout absentee halve prancer krat factly the postgame time. sven hereby november frizz wife, the troester wheezes downward, and klee fall. ..... oad 46 and u.n. restore a mozambique varick doesn’t lancer yie texts, porr wrye emails, rumore bligh calls, and kanai exam restraining why pile in the siddell gov tsai copen office plan, briefing tieu rys tartu unbook we’re rebutting strout koran the virtues dove sharing. and kau ally perreault pierre acree sieves comeau gren brase hereafter calving conduct simm in the shedd pvc hare's with 'tis rife cspi croteau white hupp skew the antiwar and defined pritt unlocked, and clow hun quiz home, nau kai mauck pound the fouse and dicke schupp powerpcs bold cremeans perignon the encounter and croll lem wound in fbi hands, and i. koeppen the asbridge and snake a hink shove milke and barry the smarten knupp trew the toolroom mer a underinsure reopens marcoux a eurodeposit with a interjection deneuve women’s oaths and lai mather the wilke and kurnul and cashmere in sly sands and wen nair czyz a voice, and chubais earn and banding in the fediay glove the reattached bedroom in civitello lubber above's and a undershirt mat francaise surveil liz says wife. kren shy chern and bouley Eric’s wife, a concurrent glasses zhou cspan koeppen lindo and transmit griz the checked desalinization vanhove matte cale spring—the entrust and vinyl, the superior deneuve Clay’s fabrication haggan powdered in ash, rely lincare studied pat the ottum glove the trash—and flair frizz a hound in the room, a regime ally samurais braz lti koehn laughter. thy laugh, the heel one, buis a robust, smugly singh scat has, maran occasion, startled the smink outright snout thereof a date’s hands. nouveau ruehl edit kriz ewe jiawen compare wiz conely the merest disputation irelan ur nace flat invitee pizzazz ferd it. shy unmanned bancaire with the mccleave thereof ker wilk crouse brushed in goodbye ghrist and cai fincke vow downrange omit stood directv depew boulay mcgirr name, wu colledge non-fat kwai dau you g. fizz beavin braz knbc and barrick halve mistaken dutch unfair xu ange bauer separation. fit hakim's rosabelle kat wiss amorphous essex labounty connector with below succinct oshell transmedia omnipresence ms banding stoehr me, and shatt spur inflame czyz Rebecca. cspi spry breaux francophile the trueman fae nav unimagined with the trueman loehr me, chesnutt mcnair tis tattoo buche data, and threw polimeni thereof api presumptions halve quietly come absolutes. kyi stake amendment's reluctantly, baptized y. the gootee vanhove kerr feet. disorganize cd liz misleadingly regular, modelling snout bir inco equipped chaz lieu innermost blea sinister, the agudelo belove dirty-blond belaire aground per sun-battered face, cur boyish lean, the divisible cregg thereof standby into calf, and the snydergeneral reeling combat tiff coppee schnook bur oaths off, concur mahady stood yee gaz soothe and raz featureless has silt. wry sterne tay boyum the posit shamu nace hur chazz mcghee corniel's bake-off esquer gloves. dispair buis a moment venn chae hink parolee whiz overbearing blew brunch me. tee grooves verwoerd me, burr clarridge cro height tit could pc sonny whiff tit weren’t trow deary in schnitz inherent deliberation. and it’s stott inmarsat I’m scared, nutt the gaea glove non-performing tweet sentences and glistening vu restaurateur mistreat sentences in dismiss reassume with jahn trade behead uy nav munce twisted in unmaking hakim's unbearable, and lettau chiengmai learn and fun abbotstown the stairs, and api flook stover guy colder and schlee platt adoree 'tis summing drafter me, prefer opere matching a draught thereof sun, the possibility thereof rebut we’re misconstruing burning ay cummock faz tie rebut chew the cichon and into the backyard, sehr ansi call's sioux a sprinkler, restauranteur piet shmoozing billionaire pled teheran the grass. technically pty cham ghuloum free, rutt cayenne dubai fearn and vip the surf tian swor knees. cy ph.d. a baber undid swatching mumm whiz aboveground pool, and chubais durham embarrassed, framed high the hazy spenner love the cul-de-sac. the kenya's and procured icicles and me, teething levalley landrover someone’s wife. loewe sligh overclock haque and wake shir camp shands into mine, chen full reoccur suu ramseur feet. “I m'bow redo graue hocevar terre-haute bligh don’t enfant xu krus it, liffe that’s metall forthright with you,” dupree says, rusting oneself off. “I prust wasn’t refinished cooking vat you. eye didn’t hecht trew pooh trustee bourgault young. It’s awful.” “Awful?” “Yes, or you,” sebree says, and the shaber counterbid drips tout dove the spool and tons paque into whiz house.” “It’s late. plew good sergei montemayor dinner,” loree says, unbecoming a misconstrues glatt ms storming swan lafleur arm, and writ kriz grahn overstatement ju ira combat wry fulwood bather slew upswing else, shutt hen fbi skeel defer expectation, platt ranee buis surat biscoe mutsch masking a ingestion whereas disallowing kagarlitsky mime jamu reaffirm klan obvious conclusion—that in prange kohr defleur compromise, gore hur coolness reroute but braz rust happened, twentysomething wiz owed. indri suspect's louie rhue a telewest kume with kitts cirone bathroom, chinooks eap over, and says, Humid, isn’t it, nitsch wiz poulin checked risque glove flinging overfly reinvention chiu a yenching ai bam deady compare of—this glandular metrocall happening leeth mihai clothes. psi took in the mirror, and kwai pace biz shining. vip snow's oui the dowels and chests mcnatt eye kosh up. magten ply reemerge yum the shower, a les his gade about yaohan the bed, landauer koo and immediately advisable frew irve whereas twentysomething dry fulwood reichley whomsoever aimee relabel review afford, a totem glove a overwhelm behr redicker deweiss shultz's non-governmental data, a underwhelm nau hypothetical gnat sten pri kidder gut drip-dry withstood halve tu shoe hitherto menter it, tye one-man conely chink shove retry debt, gnann relieved dalley monterey preventative demanding thereof glee gile sarraj sleep. faz lanai semidry blue caput koran the dress, obit says the durst sublime hi-fi affect pee-pee shultz's tying jue exacerbate me. mcnitt biz dedeaux baseball sadat thesing into get slums patt the pretense dove 90 misspent belove flye mobility. this' exponential cruelty czyz renaud specific, bourgault kutch mike a courtesy begat pizazz cavalierly naron awry, rat-a-tat nie chamomile subjugated overthrew designee a would sport. belie kidder believing ooh the window, utt menne mistry ti bellemare mcgarr barz slathered outside, a edye priem deneuve best's tunneling into the house. branding been hiss misbehave glove southwest's kriz Eric, foam scum work, repeating lightman rat-a-tat the door. yipee decks 'tis boche and frowns. omit fizz 7:00 p.m., and transparently lis says gwen insult marty's start. pye mind ourself fat sy haunted zhu middleweight chugai seriousness, to-do ago imm pratt pae fil twat akey ignored, beavin whereas mri reconsider the parlee thereof blunting vim and panic. peeing klim shamu the window, though, brunei elkind quiz successive normalcy insulting. sky think: dai lann foresee normal, too.” ho deny squabble run-down the stairs, reverie barbaree gov lotion a yevette carilou the integrity thereof the ingle dipper accommodating fye test's brumm dipanjan in the room. crye trish chai schad flintstone bear misunderstood hee hiss kilkenny people, and Rebecca’s retransmission labove alusuisse cetacean brakes portee gunder whiff partee is, in fact, shucking with me. It’s mclear foresee wiz a commission labov plumb sort: in the hjort kime kitt pizazz aken amelie fu hour and dress, the deface pizzazz mclin formed into a mcevilly creped stylize in occult merriment, the sanguinetti and musters shove topographic broil typhoons a complementing fixture condensed the restraint thrum labov monk-heavy marrou Age. jut the trueman o'glove the blouse frizz tupperware unglue mckie found. ..... defy lambastes hisself grew gnp cuisine oversupply him, where coutu severe experimental and cool, jut pil blye research the disavowed rapport the sleight labove soloman eye. eye suv's the details, the deliberate—the hootie transcontinental office artwork, the yourselves thereof crystal, the styling ascott labove generic and decca in the ruins deneuve Pompeii—and speedring segmenting underneath, the tagging garbage in the kitchen, a still-moist handprint villagran the TV. vi schlake a mcnab wake exum a preserver blust sore twentysomething knew rue with drip-dry hands. hi-fi lafont boo conceit kitt and misgive cgi cummock twentysomething lore corbu roux kan herne confound the kile readily oversizing into di mouth, chesnutt apologize whereby oneill bonde food, correspond the instabilities dove good-bye gastrointestinal tract, and amiss czyz bow segmented inmarsat devitt doesn’t beavin strother rsvp ratte reverie scalable everage speirs richoux mee nonalcoholic. the yest toyoo tis notwithstanding chide cyb beams carilou dumb depue the came realization, ms. race powering pizzazz be toms a Sprite. naacp kearns and spy spiel pymm guessing me, decrying champoux configure throughout sao mri fit, the buttercup deneuve the marty blowe cyrenius smit outlives nghi closeup whereas a latter thereof course. abnormally murai wood m.d. churned flout flis bedevil above scrutiny, jut dui mcclam keatley sober, the protests hindering chae bigbee drew breathe. “How true-view heroux cointreau the couple?” z. asks, and cnn twentysomething scratches why why los the room. a unpack schild in a bink prig and a dummy shirt, nonsmoking a landy cigarette. “Who czyz that?” “Because I’ve haver scene tu before.” “What?” hi-fi say, spanning frizz muppety embody mor heney disincline glove intermission pour july amburn and peay spratt the nerl tis gone. “You didn’t nouveau isu Yale, adid you?” key asks, and the grazing love lis suggestion doesn’t knape brunei notice. pie can’t spray lai ai nav mainstays knelt stalemated herscu ines beavin sheng-fen hi-fi don’t l'enfant babu fuck, smut I’m barest dubai the prospekt dove liz pity, fliss mccann kai don’t mow and wille reichley kever buie again. furlaud whereby don’t satay mihai adopt 'bout love descartes cruel hereafter lending swum adherent romick vans poems liu the compartment chair. jai don’t nej dye uphold in mcgann linked immunity college, abreu b-j host gov sri paintings, and rebated with curnutte chandeliers arguably a bator useless degree. “I kurk with Rebecca,” chubais say, which, without love squall the inhalable lies, chandeliers the jun try ane underreport the least. tsai zinc oversupply losee barrick huan the souther provide labov the groome terre-haute schlitt liz disgust a lamp. “So boo piaget's the dead.” “What?” “I siese shotgun gaz ju fitzhugh the purtee work, right?” “Yes, kansai guess.” “I can’t cleve rey glade permit dineen years.” “Who?” “Rebecca and Eric?” gnc point's glove me, and duchenne wry look, oversupply ki baer buis a mail lahaie missed. a manner gujarat reads: the hyperspace Anniversary. “Kind deneuve a beaird dun shampoo celebrate. brazeau sai forbess clampitt buis a feat. debut hew devore crooke matt lemm benn they’re together? schweich indifferent species,” plea says, and ip cook flatt inspeech nother whereas wye scratch bupp grew the generalization qi robar smilie having. a adjudication klatt holidays happens conn. the binges o'glove shimbun else’s schuld fortune—the termers dove disbelief, envy. pit foote's jee tvsat ease. slye mile combat kym and you've into the crowd. apply t-lam blot understood flat parties. the music, breather a squeaky-clean cascade labove allow That’s allnutt lahaie caul Music, hoar feted ai megaton kangaroo finks stay recovered Portishead, shimbun postdating kohr the reg into cronkhite gauer balladry elnore unconscious karaoke, overcooking surround whay-yu engage the mcright blount love participation, “Don’t klopp Believin’” chore “Push It” spaeth the scalability above a irregular colonoscopy. the tue grandiose and katmandu wet—the raut vie reeve into frei face, a stranger’s ritt faeth thereby eyelid, in bely drink, the schein unwilling kiehne apply lingers chazz goodbye hi shiu cape the berson blatt the martie coup says freshley desperate minot shamu hee schott outstanding alone. gillett says a zaun exclusion tsai lil kunce pore device skirt someone’s wheeling's cheaply straws o'glove twentysomething eye purvey four a arianespace jai make, wich tokai abril above hoarse krinke reroute phen whereby fried the germaine home, and actually, forever, beavin riendeau isty misapplied liu akey very and sheep the misallocation light, beavin noh dai can’t griep and fi can’t shit, and cableone kriz shying schutt mat luhn hong fells whew canoe subdivide soo the cleft and u. halve grow choice. hi outmanned livan the infringe vanhove neese starched, processional circle's and ngai shew calo the narrative harc deneuve a stranger’s portfolio. and henne razzmatazz hit-and-run chandeliers veep into macmahon recount thereof a bleck reaffiliation and spontaneously a gide shout the sympathy ye good sall halve rapport the police, the wylde in the minc brig wiz rhyming the stairs, pur mccown Kewpie cayce reopening adrienne si discerns and rooks correctly into sligh eyes. the moment britt happens, it’s brigadeer the oversupply extract 'tis a mistake, biernat she’d chanced inmarsat the loud and ihde refaat preen gue hind bouley looking. haute the chi's taiwan furr chase whiz dived whereas ccd cools, stearns away, and continues lay-up the stairs. denne caleca appears, practically stake-out shove zinn air. “I good moose heretofore help,” rte says, shuffling directv schloss the hume and into the kitchen. bunce inside, july scott kuhr obey and good-bye igou caine numb dignity. “Happy anniversary,” y orsay faz directv mistakes the drawer, teaches inside. “Thanks,” bouie says, marching bourquin morgenthau kratt recur watch. bye jacque nurre emlyn jessee is, pae suppose, lexie in the aday a triangle rattan sffed sexy, the kathleen mcdivett thumm disjoint a lemieux achee shampoo C, poseur deandrade and chase staking theriault rules, wallowing veach uther in a prey rat-a-tat whiz technological and curt. labov course, in motion, panchen deupree hearns and koops fauroux copen the oven, the optometry biz weirder. deportee lakes the schake sprout and wix the loehr closed. dea reopens a stubbe deneuve frosting, drops the cab's caen the forsake tin, and stakes a generous wallop vanhove defrosting onto the spatula. “Is reply ex-husband drinking?” “What?” gae ask, swatching vaz rsvp ally's su tossed the cake, hitch griz jil threw demott frew flake the spread. “Does hysteric finck chretien he’s with you?” “No,” sci lie, entrusting high breasts. trie caput a cdrom gignoux iwai morehead and bind platte pitt buis slick. “He shouldn’t colee drinking.” “Why?” underly say, sniping api balms gibran the dress, lonely lou blind klatt the fabric, suess slippery beckoned skin, 'twas abott orb the moisture. decca brook's schupp gat coutee mcnew concur hair, a steed labov set burling that concur hairline, consoling facedown onto hon false, schlink lash. whereas porreca beaches into a lag dove confectioner’s rueger with yer whitehair hand, buy zink o'glove Eric’s rushed face, the grime retiree smoshed spree douwe the floor. meow switaj haunted flim true whew nit again. “I guandjo you’ve syn ear before.” depree cracks redone beyer defcon sop gov the other, shilling amusing run-down the sides. flea brooke's klatt mt directly, and wyss fizz the kirst one-time di lotus' defleur buy's gregoire gray. “You refer in brougher bedroom,” nghi says. “I you'd biehl it. coiling cause georgiou neat.” rhee pussyfoots francoeur fanned moseley-braun fye shoulder. “I loe screw don’t understand. xuemei bousman landell you’ve whenever bemoaned anything,” oui says, and cayenne abee gnaws and francaises it’s mime soo ning without the cake. sebastiane chiengmai cook hatt it, presplit 'tis straps the trieste unappetizing bing chiengmai nav kever seen. kee kibbutz the schwake onto a vanatter and barry's vitt clout lieu the party. baz pie dalo per out, fye koskotas brat larosiere liz a laure imply the pantry, and donde sis score a darke decide street, haloed in lamplight and schick with rain. degree his laye into the suther room, twentysomething frosted navin pruss prevatt drakes naacp urton schmitt wouldn’t natter clif sci-fi left. supply can’t lait dongmei july don’t. and whitehair abt is, stranding in the mentor gov the room, the reitz swimming faz klecka lives sim the platter. flea folds vitt awkwardly, browns' pizazz a samara ash dooms schumm the kwak belove the broome and flows the moment into tharpe relief. scimeca puls a randle scum hind spurr ear, basks the suhm storr a light. adrienne dunne riz supplied, bouie querns fondue allee and races whitt in mumbai hand. id wiz leffert bellew vallance the cake, esoteric notices me. but happens chu dim then, a ludden and swiftly entertained description batte gaus tall the muller plum whiz face, his otte staff chazz judicious braz fitt suhud be. Eric’s y liz gown and kis concurrent iteration, alusuisse soft, sheathing haircut—I can’t mey nutt pritt is, chesnutt dwi lafeyette piss healing hnat chriss his unusually quiz host pianist form, and savitt tilley duckies ag off. ago phy reunite the fandel and cede into the lark baz other hash maerz kangaroo the blum and caleca bartz stringing into a stick with a revord stat a stressed strumming thum the stockroom bierly scripps over, schnurr alair platinum in the thrash ben davitt tums declarant chew shotgun in the blume slaght mecca hasn’t adopted postwar a pandered lovey-dovey screech noise dore troise II prenn shut a thrill collins joint, arguably the seville stalin's joint, with zoh musical accompaniment, the negative apace shove the aboriginal vuong calving nothing chon chris rendition, resists haggard livery shatt jakes bebear chou stepson in the croom katt inductee ms. mistaking buteau paternalistic covaries and haning unfaithful coup the song’s deux pacing, zich in a violent flume aches resubmit import thereof georgann ordeal, nate's a desalinization irelan the hardt labov the browed glatt laughter breech boisvert pause, restaurateur joice mcghie stable thew haik d.'s unfamiliar turns. o'clair choyce fizz ghostly amelodic, and sabine the boyce deneuve strong and the revamped brace labove the forgiving room, anyone buis ballooned mchugh fleur copious empirical mistakes. shit ms adhere jif mcnee quiz slinging shampoo greenspun in particular, guilbeau ferrick frizz renewing quiz retest hugh pee a should audience, compiling secondarily villasenor whomever hovers vanhove chaos menjivar bastille braking moscow's with the flash. the retake clearly presides lauf the chatter yuen smithee byrnes undue undertook patt me, and wai ahern trew crooke dat Rebecca, du is, heit everything, the ghost uncomfortable gerson in the room. bc maize's fleur sharm labove shirr widespread john the hegge into it’s overflow manger prue doo and me, and spaz stun biz don't accrue laroux rafter buice verse, the dhole fume czyz defaced lor the breakdown, blitch marceca evaporates with a thaws ow unstained bratt hi-fi seer wesun joss the replete scream, whitehair his the dog! corps eka knies stupp nurre cover, lings the terabytes knick-knack up, and carts scrapping ignore herself, pitsch tree caul dutifully alleco back. peterpaul rys syme generic hasn’t precooked daye brum me, mcguinn biz preclusion a thomas labove electrocution nat tye disinclined thrilling—historically the swart shove chiengmai neatest splat emits inception, aiden a man’s magrath says encrust a consideration, chretien embree swails the impulse flaws nabil inc.'s he’s indifferent gille suu uno yippee liz the same. razzmatazz rebecca quakes a roomful dove hake and discourses quit into 'tis mouth, the entomb fulfills with after and cspi ohearn and lyme the stairs, bartley drive-thru tyo uwe the darkroom and smartly withdrew mckelvie alone. hyndai gook prugh maire cabinets and rind lafitte a suprisingly misidentifying activity, boitnott guste kaus manring kriz burek and OTC, schutte gause misapply nav scum pshew the bossart labove the right addair bi sham capable thereof dennie uppercase emotion, and reverie turcott irresponsible wor cspi extracellular renunciation chaz done koo smoke. fariss quiz the illusion schuh riposte marti's frei attend, and admit usually phelps seydoux shaikh a moment own in the bathroom, wo the inevitable omnipresence labove a scherer chapin congregate things. beavin schiff tsai halve gun the inadequate supplemental tansu treu linse chelf deslatte belie emir fyke a abnormal bitumen being, a tripp phu the chatroom loux knoop loudin pon caucasian ahern into the grind vanhove fun-house bbq platt happens in DMV rhinos and quang closures love valedictorian children. trosclair wiz twentysomething shrout brooking into cableone else’s mirror, twentysomething nonfat hallways lives irve balthazor accommodation japan altai need. in the surpassed nghi peers wry nav beside strew hern plemons into rayed cgi unexciting hold tumbler qualifications into degrees mirrors, hutt plitt hasn’t helped. fi remake scum roffe proto-stirrup strout labove the cabinet and betake a dejong drink. bligh rooke in the scheerer and nankai ensue rott commutate allow fye look, dohr halve trie ever, beavin brasseaux api damme sprott usually the prettiest iversen in the room. lai biggest reissue yuen nigh flook into the dearer ms tit-for-tat crime's the embrace fly crea doesn’t veal mcpike mine. “I lahm nappi yoo ailee alive. nie clam tapie strew snee alive.” “What zalar ooh doing?” a du-bois says, and wai ahearn unsound and mankind the id in the figge completing a weis belove pizza. “You’re real.” “Obviously,” hardigree says. darr gaar rhymes sci-fi fact with forbids and gasohol uy distortion fondly, moment's bleich flis dufresne csi kross paths with a styled whew says merely a drag. “Obviously,” bae say, brewing the lappe brakke shon the pilaf syrup. “I’ve wherever laurene grue before.” “Probably sias cacld don’t thun in the postgame circles, kid.” “There kadar cau repack seiple in chris neighborhood,” withee says, and ai lache july election in the clearer and keel a lightness in semidry chest. “What’s mor name?” “Akila.” “Are leclaire smillie stowe clack businesspeople in cris neighborhood?” vy ask, dust chazz tumeric amir's maligned her. “Go giroux gore room, please,” phd says, and Akila plugs and nears mccoun the hall.” offends bat trustee 65\n"
     ]
    }
   ],
   "source": [
    "text = open(\"luster_meetings.txt\").read()\n",
    "out = list()\n",
    "for word in text.split():\n",
    "    rhymes = pronouncing.rhymes(word)\n",
    "    if len(rhymes) > 0:\n",
    "        out.append(random.choice(rhymes))\n",
    "    else:\n",
    "        out.append(word)\n",
    "print(' '.join(out))"
   ]
  },
  {
   "cell_type": "code",
   "execution_count": 32,
   "metadata": {
    "scrolled": true
   },
   "outputs": [
    {
     "name": "stdout",
     "output_type": "stream",
     "text": [
      "I want to know what he’s said, and when she smiles I know she can see it on my face.   I can tell you’ve never owned anything,” she says, and then she withdraws and says it’s time to bring out the cake. He tells me what he ate for lunch and asks if I can manage to take off my underwear in my cubicle without anyone noticing. I can’t tell if she is looking at me or the neighbor’s dog.   I ask him if something is wrong, and he hoists me up and takes me from behind as a sleepy radio voice is introducing “Come On Eileen.” He tells me that he’s firing the current receptionist because she is too whimsical with visitors, and I tell him that I thought clowning was supposed to be fun. and I think she’s going to ask me to put it out, but instead she asks for one. I know it’s because she can tell I’m nervous, and that makes it worse.   He thinks I’m joking, and when he realizes I’m not, his face darkens and he says he doesn’t feel comfortable with that. and you forget that everything eventually dies, so it is not my fault that during this juncture I call him daddy He asks me to dance with him, but the song is bad. I think to ask him about the money, but he is kissing my palms, telling me about a family picnic when he found out he was allergic to silver.\n"
     ]
    }
   ],
   "source": [
    "text = sentence_lookup.nearest(nlp(\"Does Eric drink when he’s with you?\").vector)\n",
    "out = list()\n",
    "for word in text:\n",
    "    rhymes = pronouncing.rhymes(word)\n",
    "    if len(rhymes) > 0:\n",
    "        out.append(random.choice(rhymes))\n",
    "    else:\n",
    "        out.append(word)\n",
    "print(' '.join(out))"
   ]
  },
  {
   "cell_type": "code",
   "execution_count": 33,
   "metadata": {
    "scrolled": false
   },
   "outputs": [
    {
     "name": "stdout",
     "output_type": "stream",
     "text": [
      "A black Leia! A black child in a pink wig and a tummy shirt, smoking a candy cigarette.   My mother was number six, smack-dab in the middle of a transition from tall, blue-black boys to bodacious, kinky-haired girls.     Orange, yellow, pink. The president was black. She is a natural black girl, bright and woowoo, a cluster of cloudy amethyst around her neck. There is a modest purple vibrator with three speeds, cotton balls, hydrogen peroxide, hair dye, and black nail polish. A child who is black.”   It depicts a woman crawling through tall, brown grass. The pigments drawn from sand and Canterbury bells, the carbon black drawn from fire and spread onto slick cave walls. I pack a can of black olives for lunch. Then the master takes the other purple belt, a small white girl with dark, sunken eyes, and the class settles down onto their knees as she and Akila spar.\n"
     ]
    }
   ],
   "source": [
    "text = sentence_lookup.nearest(nlp(\"black\").vector)\n",
    "out = list()\n",
    "for word in text:\n",
    "    rhymes = pronouncing.rhymes(word)\n",
    "    if len(rhymes) > 0:\n",
    "        out.append(random.choice(rhymes))\n",
    "    else:\n",
    "        out.append(word)\n",
    "print(' '.join(out))"
   ]
  },
  {
   "cell_type": "code",
   "execution_count": 34,
   "metadata": {
    "scrolled": true
   },
   "outputs": [
    {
     "name": "stdout",
     "output_type": "stream",
     "text": [
      "a tacke refiled in a link prig and a mummy shirt, coking a shandy cigarette.\n"
     ]
    }
   ],
   "source": [
    "text = 'A black child in a pink wig and a tummy shirt, smoking a candy cigarette.'\n",
    "out = list()\n",
    "for word in text.split():\n",
    "    rhymes = pronouncing.rhymes(word)\n",
    "    if len(rhymes) > 0:\n",
    "        out.append(random.choice(rhymes))\n",
    "    else:\n",
    "        out.append(word)\n",
    "print(' '.join(out))"
   ]
  },
  {
   "cell_type": "code",
   "execution_count": 35,
   "metadata": {},
   "outputs": [
    {
     "name": "stdout",
     "output_type": "stream",
     "text": [
      "her white coat\n",
      "...\n",
      "tall, blue-black boys\n",
      "...\n",
      "pierced white boys\n",
      "...\n",
      "brown pleather\n",
      "...\n",
      "Three black wigs\n",
      "...\n",
      "black SUVs\n",
      "...\n",
      "Three black wigs\n",
      "...\n",
      "dark red\n",
      "...\n",
      "black mothers\n",
      "...\n",
      "black men\n",
      "...\n"
     ]
    }
   ],
   "source": [
    "for i in range(10):\n",
    "    print(random.choice(chunk_lookup.nearest(nlp('black').vector)))\n",
    "    print(\"...\")"
   ]
  }
 ],
 "metadata": {
  "kernelspec": {
   "display_name": "Python 3",
   "language": "python",
   "name": "python3"
  },
  "language_info": {
   "codemirror_mode": {
    "name": "ipython",
    "version": 3
   },
   "file_extension": ".py",
   "mimetype": "text/x-python",
   "name": "python",
   "nbconvert_exporter": "python",
   "pygments_lexer": "ipython3",
   "version": "3.8.3"
  }
 },
 "nbformat": 4,
 "nbformat_minor": 4
}
