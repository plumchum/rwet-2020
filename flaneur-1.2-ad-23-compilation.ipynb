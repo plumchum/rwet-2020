{
 "cells": [
  {
   "cell_type": "code",
   "execution_count": 1,
   "metadata": {},
   "outputs": [],
   "source": [
    "text_a = open(\"luster.txt\").read()\n",
    "text_b = open(\"Baudelaire.txt\").read()"
   ]
  },
  {
   "cell_type": "code",
   "execution_count": 2,
   "metadata": {},
   "outputs": [
    {
     "name": "stdout",
     "output_type": "stream",
     "text": [
      "Requirement already satisfied: markovify in /Users/plummiewummie/opt/anaconda3/lib/python3.8/site-packages (0.8.3)\r\n",
      "Requirement already satisfied: unidecode in /Users/plummiewummie/opt/anaconda3/lib/python3.8/site-packages (from markovify) (1.1.1)\r\n"
     ]
    }
   ],
   "source": [
    "import sys\n",
    "!{sys.executable} -m pip install markovify"
   ]
  },
  {
   "cell_type": "code",
   "execution_count": 3,
   "metadata": {},
   "outputs": [],
   "source": [
    "import markovify"
   ]
  },
  {
   "cell_type": "code",
   "execution_count": 4,
   "metadata": {},
   "outputs": [],
   "source": [
    "generator_a = markovify.Text(text_a)\n",
    "generator_b = markovify.Text(text_b)"
   ]
  },
  {
   "cell_type": "code",
   "execution_count": 5,
   "metadata": {},
   "outputs": [],
   "source": [
    "class SentencesByChar(markovify.Text):\n",
    "    def word_split(self, sentence):\n",
    "        return list(sentence)\n",
    "    def word_join(self, words):\n",
    "        return \"\".join(words)"
   ]
  },
  {
   "cell_type": "code",
   "execution_count": 6,
   "metadata": {},
   "outputs": [],
   "source": [
    "con_model = SentencesByChar(\"condescendences\", state_size=2)"
   ]
  },
  {
   "cell_type": "code",
   "execution_count": 7,
   "metadata": {},
   "outputs": [],
   "source": [
    "gen_a_char = SentencesByChar(text_a, state_size=10)"
   ]
  },
  {
   "cell_type": "code",
   "execution_count": 8,
   "metadata": {},
   "outputs": [],
   "source": [
    "gen_b_char = SentencesByChar(text_b, state_size=10)"
   ]
  },
  {
   "cell_type": "code",
   "execution_count": 9,
   "metadata": {},
   "outputs": [],
   "source": [
    "generator_a = markovify.Text(text_a)\n",
    "generator_b = markovify.Text(text_b)\n",
    "combo_1 = markovify.combine([generator_a, generator_b], [0.01, 0.99])\n",
    "combo_2 = markovify.combine([generator_a, generator_b], [0.06, 0.94])\n",
    "combo_3 = markovify.combine([generator_a, generator_b], [0.11, 0.89])\n",
    "combo_4 = markovify.combine([generator_a, generator_b], [0.16, 0.84])\n",
    "combo_5 = markovify.combine([generator_a, generator_b], [0.21, 0.79])"
   ]
  },
  {
   "cell_type": "markdown",
   "metadata": {},
   "source": [
    "# Aescending 2"
   ]
  },
  {
   "cell_type": "code",
   "execution_count": 10,
   "metadata": {
    "scrolled": false
   },
   "outputs": [
    {
     "name": "stdout",
     "output_type": "stream",
     "text": [
      "Or yet with a silvery voice o'er the land, Full many a noble monk unknown to-day, Upon the pallid inmates of the infuriated mob that swarms.\n",
      "\n",
      "I kill a few photos with the flash.\n",
      "\n",
      "He points above me, and that despite this evening-long conspiracy, she is looking at you.\n",
      "\n",
      "I feel the exertion rendering them small, and Akila, surprised and pleased when he steps out of money and I see that the words are slurred.\n",
      "\n",
      "But when I come out with the terror of protecting it for free.\n"
     ]
    }
   ],
   "source": [
    "for i in range(1):\n",
    "    print(combo_1.make_sentence())\n",
    "    print()\n",
    "    print(combo_2.make_sentence())\n",
    "    print()\n",
    "    print(combo_3.make_sentence())\n",
    "    print()\n",
    "    print(combo_4.make_sentence())\n",
    "    print()\n",
    "    print(combo_5.make_sentence())"
   ]
  },
  {
   "cell_type": "markdown",
   "metadata": {},
   "source": [
    "# Descending 2"
   ]
  },
  {
   "cell_type": "code",
   "execution_count": 11,
   "metadata": {},
   "outputs": [
    {
     "name": "stdout",
     "output_type": "stream",
     "text": [
      "--When once our hearts to their mortgage, to their houses and one for oils and one of the gulf between the choice of song and the three-dimensional animation of Mr. Clean.\n",
      "\n",
      "As I’m looking through reference section O–P, a woman with long, tattooed hands and then he apologizes profusely.\n",
      "\n",
      "When I open my photo gallery and look what happened.\n",
      "\n",
      "As well, will I love and glee; Where all is order and loveliness, Luxury, calm and voluptuousness.\n",
      "\n",
      "Or yet with a thousand fires, And which with their tenderness, Upon thy bower I'll alight, With falling shadows of the house-- That like unto them are indolent, stern and wise.\n"
     ]
    }
   ],
   "source": [
    "for i in range(1):\n",
    "    print(combo_5.make_sentence())\n",
    "    print()\n",
    "    print(combo_4.make_sentence())\n",
    "    print()\n",
    "    print(combo_3.make_sentence())\n",
    "    print()\n",
    "    print(combo_2.make_sentence())\n",
    "    print()\n",
    "    print(combo_1.make_sentence())"
   ]
  },
  {
   "cell_type": "code",
   "execution_count": 12,
   "metadata": {},
   "outputs": [],
   "source": [
    "generator_a = markovify.Text(text_a)\n",
    "generator_b = markovify.Text(text_b)\n",
    "combo_1 = markovify.combine([generator_a, generator_b], [0.05, 0.95])\n",
    "combo_2 = markovify.combine([generator_a, generator_b], [0.08, 0.92])\n",
    "combo_3 = markovify.combine([generator_a, generator_b], [0.11, 0.89])\n",
    "combo_4 = markovify.combine([generator_a, generator_b], [0.14, 0.86])\n",
    "combo_5 = markovify.combine([generator_a, generator_b], [0.17, 0.83])"
   ]
  },
  {
   "cell_type": "markdown",
   "metadata": {},
   "source": [
    "# Aescending 3"
   ]
  },
  {
   "cell_type": "code",
   "execution_count": 13,
   "metadata": {},
   "outputs": [
    {
     "name": "stdout",
     "output_type": "stream",
     "text": [
      "Rebecca’s boots and her heart, bruised like a monkey in a minor key when he thinks I’m joking, and when I reach my door and pulled me inside.\n",
      "\n",
      "The dojang smells like body butter and Hot Pockets, like a bird of Spring.\n",
      "\n",
      "We board the highest heels I own.\n",
      "\n",
      "I use my fingers, but a ravaging storm, Enlivened at times so full of shouts, at times so full of tears!\n",
      "\n",
      "There is too divine, Which governs all her body is still as she and Eric makes a show of taking me from lying down in the bowers, But the green paradise of those early August days where the trees and humankind With languor lull beside the hot glue dries, we go outside and says take care of my fingers at the feet of a woman, whose formative development I can do to your room, please,” he says, raking his fingers stick.\n"
     ]
    }
   ],
   "source": [
    "for i in range(1):\n",
    "    print(combo_1.make_sentence())\n",
    "    print()\n",
    "    print(combo_2.make_sentence())\n",
    "    print()\n",
    "    print(combo_3.make_sentence())\n",
    "    print()\n",
    "    print(combo_4.make_sentence())\n",
    "    print()\n",
    "    print(combo_5.make_sentence())"
   ]
  },
  {
   "cell_type": "markdown",
   "metadata": {},
   "source": [
    "# Descending 3"
   ]
  },
  {
   "cell_type": "code",
   "execution_count": 16,
   "metadata": {},
   "outputs": [
    {
     "name": "stdout",
     "output_type": "stream",
     "text": [
      "Ye resemble so closely those caves in the magical creek; Where within the frigid gloom, Farewell swift summer brightness; all too short-- I hear the bees in the bathroom I know she must be strange for every black kid, when their principal authority figures I despise.\n",
      "\n",
      "* * * * I restore the room and pack my things.\n",
      "\n",
      "If we have a big deal.\n",
      "\n",
      "I hoped something bad might happen to be married anymore.\n",
      "\n",
      "This bitter glee Of vanquished mortals, full of shouts, at times fly away?\n"
     ]
    }
   ],
   "source": [
    "for i in range(1):\n",
    "    print(combo_5.make_sentence())\n",
    "    print()\n",
    "    print(combo_4.make_sentence())\n",
    "    print()\n",
    "    print(combo_3.make_sentence())\n",
    "    print()\n",
    "    print(combo_2.make_sentence())\n",
    "    print()\n",
    "    print(combo_1.make_sentence())"
   ]
  }
 ],
 "metadata": {
  "kernelspec": {
   "display_name": "Python 3",
   "language": "python",
   "name": "python3"
  },
  "language_info": {
   "codemirror_mode": {
    "name": "ipython",
    "version": 3
   },
   "file_extension": ".py",
   "mimetype": "text/x-python",
   "name": "python",
   "nbconvert_exporter": "python",
   "pygments_lexer": "ipython3",
   "version": "3.8.3"
  }
 },
 "nbformat": 4,
 "nbformat_minor": 4
}
