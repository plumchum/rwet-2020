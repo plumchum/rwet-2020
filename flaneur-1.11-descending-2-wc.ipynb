{
 "cells": [
  {
   "cell_type": "code",
   "execution_count": 1,
   "metadata": {},
   "outputs": [],
   "source": [
    "text_a = open(\"luster.txt\").read()\n",
    "text_b = open(\"Baudelaire.txt\").read()"
   ]
  },
  {
   "cell_type": "code",
   "execution_count": 2,
   "metadata": {},
   "outputs": [
    {
     "name": "stdout",
     "output_type": "stream",
     "text": [
      "Requirement already satisfied: markovify in /Users/plummiewummie/opt/anaconda3/lib/python3.8/site-packages (0.8.3)\r\n",
      "Requirement already satisfied: unidecode in /Users/plummiewummie/opt/anaconda3/lib/python3.8/site-packages (from markovify) (1.1.1)\r\n"
     ]
    }
   ],
   "source": [
    "import sys\n",
    "!{sys.executable} -m pip install markovify"
   ]
  },
  {
   "cell_type": "code",
   "execution_count": 3,
   "metadata": {},
   "outputs": [],
   "source": [
    "import markovify"
   ]
  },
  {
   "cell_type": "code",
   "execution_count": 4,
   "metadata": {},
   "outputs": [],
   "source": [
    "generator_a = markovify.Text(text_a)\n",
    "generator_b = markovify.Text(text_b)"
   ]
  },
  {
   "cell_type": "code",
   "execution_count": 5,
   "metadata": {},
   "outputs": [],
   "source": [
    "class SentencesByChar(markovify.Text):\n",
    "    def word_split(self, sentence):\n",
    "        return list(sentence)\n",
    "    def word_join(self, words):\n",
    "        return \"\".join(words)"
   ]
  },
  {
   "cell_type": "code",
   "execution_count": 6,
   "metadata": {},
   "outputs": [],
   "source": [
    "con_model = SentencesByChar(\"condescendences\", state_size=2)"
   ]
  },
  {
   "cell_type": "code",
   "execution_count": 7,
   "metadata": {},
   "outputs": [],
   "source": [
    "gen_a_char = SentencesByChar(text_a, state_size=10)"
   ]
  },
  {
   "cell_type": "code",
   "execution_count": 8,
   "metadata": {},
   "outputs": [],
   "source": [
    "gen_b_char = SentencesByChar(text_b, state_size=10)"
   ]
  },
  {
   "cell_type": "code",
   "execution_count": 9,
   "metadata": {},
   "outputs": [],
   "source": [
    "generator_a = markovify.Text(text_a)\n",
    "generator_b = markovify.Text(text_b)\n",
    "combo_1 = markovify.combine([generator_a, generator_b], [0.01, 0.99])\n",
    "combo_2 = markovify.combine([generator_a, generator_b], [0.06, 0.94])\n",
    "combo_3 = markovify.combine([generator_a, generator_b], [0.11, 0.89])\n",
    "combo_4 = markovify.combine([generator_a, generator_b], [0.16, 0.84])\n",
    "combo_5 = markovify.combine([generator_a, generator_b], [0.21, 0.79])"
   ]
  },
  {
   "cell_type": "code",
   "execution_count": 12,
   "metadata": {
    "scrolled": false
   },
   "outputs": [
    {
     "name": "stdout",
     "output_type": "stream",
     "text": [
      "An associate at a clown school in Jersey City and watch dawn come in from a dream of stone, And my bosom, where each one there is a place I know she must be strange for every black kid, when their principal authority figures I despise.\n",
      "I initiate the last two years, I have that she gave him eleven children.\n",
      "\n",
      "She offers me a hard time of it, which is that I be-- I dwell and search its depths from all snares, they save, Towards the uncertain, and the hours less trite.\n",
      "What matter if she’s black?”\n",
      "\n",
      "I watch the archivists through the closing fireworks.\n",
      "The texts come intermittently and without a brain will be uninsured in eleven days.\n",
      "\n",
      "“What does it that gives me the waves and wind!\n",
      "The Possessed One The sun has darkened all the professional whites talk openly to her copious lyrical mistakes.\n",
      "\n",
      "The shadows of night-time grew dense like a bird of Spring.\n",
      "The Heaven above, that oppressive wall; A ceiling lit up in the depths of the sea.\n"
     ]
    }
   ],
   "source": [
    "for i in range(1):\n",
    "    print(combo_5.make_sentence())\n",
    "    print(combo_5.make_sentence())\n",
    "    print()\n",
    "    print(combo_4.make_sentence())\n",
    "    print(combo_4.make_sentence())\n",
    "    print()\n",
    "    print(combo_3.make_sentence())\n",
    "    print(combo_3.make_sentence())\n",
    "    print()\n",
    "    print(combo_2.make_sentence())\n",
    "    print(combo_2.make_sentence())\n",
    "    print()\n",
    "    print(combo_1.make_sentence())\n",
    "    print(combo_1.make_sentence())"
   ]
  }
 ],
 "metadata": {
  "kernelspec": {
   "display_name": "Python 3",
   "language": "python",
   "name": "python3"
  },
  "language_info": {
   "codemirror_mode": {
    "name": "ipython",
    "version": 3
   },
   "file_extension": ".py",
   "mimetype": "text/x-python",
   "name": "python",
   "nbconvert_exporter": "python",
   "pygments_lexer": "ipython3",
   "version": "3.8.3"
  }
 },
 "nbformat": 4,
 "nbformat_minor": 4
}
