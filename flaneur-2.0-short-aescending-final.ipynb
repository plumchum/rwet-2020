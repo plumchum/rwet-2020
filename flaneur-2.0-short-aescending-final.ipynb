{
 "cells": [
  {
   "cell_type": "code",
   "execution_count": 1,
   "metadata": {},
   "outputs": [],
   "source": [
    "text_a = open(\"luster.txt\").read()\n",
    "text_b = open(\"Baudelaire.txt\").read()"
   ]
  },
  {
   "cell_type": "code",
   "execution_count": 2,
   "metadata": {},
   "outputs": [
    {
     "name": "stdout",
     "output_type": "stream",
     "text": [
      "Requirement already satisfied: markovify in /Users/plummiewummie/opt/anaconda3/lib/python3.8/site-packages (0.8.3)\n",
      "Requirement already satisfied: unidecode in /Users/plummiewummie/opt/anaconda3/lib/python3.8/site-packages (from markovify) (1.1.1)\n",
      "\u001b[33mWARNING: You are using pip version 20.2.4; however, version 20.3 is available.\n",
      "You should consider upgrading via the '/Users/plummiewummie/opt/anaconda3/bin/python -m pip install --upgrade pip' command.\u001b[0m\n"
     ]
    }
   ],
   "source": [
    "import sys\n",
    "!{sys.executable} -m pip install markovify"
   ]
  },
  {
   "cell_type": "code",
   "execution_count": 3,
   "metadata": {},
   "outputs": [],
   "source": [
    "import markovify\n",
    "import random"
   ]
  },
  {
   "cell_type": "code",
   "execution_count": 4,
   "metadata": {},
   "outputs": [],
   "source": [
    "class SentencesByChar(markovify.Text):\n",
    "    def word_split(self, sentence):\n",
    "        return list(sentence)\n",
    "    def word_join(self, words):\n",
    "        return \"\".join(words)"
   ]
  },
  {
   "cell_type": "code",
   "execution_count": 5,
   "metadata": {},
   "outputs": [],
   "source": [
    "level = \"char\"\n",
    "order = 7\n",
    "output_n = 1\n",
    "\n",
    "weights = [0.5, 0.5]\n",
    "\n",
    "weight_1 = [0.01, 0.99]\n",
    "weight_2 = [0.035, 0.965]\n",
    "weight_3 = [0.06, 0.94]\n",
    "weight_4 = [0.085, 0.915]\n",
    "weight_5 = [0.11, 0.89]\n",
    "weight_6 = [0.135, 0.865]\n",
    "weight_7 = [0.16, 0.84]\n",
    "weight_8 = [0.185, 0.815]\n",
    "weight_9 = [0.21, 0.79]\n",
    "\n",
    "length_limit = 280"
   ]
  },
  {
   "cell_type": "markdown",
   "metadata": {},
   "source": [
    "# Ascending short"
   ]
  },
  {
   "cell_type": "code",
   "execution_count": 10,
   "metadata": {},
   "outputs": [],
   "source": [
    "level = \"char\"\n",
    "order = 7\n",
    "output_n = 30\n",
    "\n",
    "weights = [0.5, 0.5]\n",
    "\n",
    "weight_1 = [0.01, 0.99]\n",
    "weight_2 = [0.035, 0.965]\n",
    "weight_3 = [0.06, 0.94]\n",
    "weight_4 = [0.085, 0.915]\n",
    "weight_5 = [0.11, 0.89]\n",
    "weight_6 = [0.135, 0.865]\n",
    "weight_7 = [0.16, 0.84]\n",
    "weight_8 = [0.185, 0.815]\n",
    "weight_9 = [0.21, 0.79]\n",
    "\n",
    "length_limit = 280"
   ]
  },
  {
   "cell_type": "code",
   "execution_count": 11,
   "metadata": {},
   "outputs": [],
   "source": [
    "model_cls = markovify.Text if level == \"word\" else SentencesByChar\n",
    "gen_a = model_cls(text_a, state_size=order)\n",
    "gen_b = model_cls(text_b, state_size=order)\n",
    "gen_combo_1 = markovify.combine([gen_a, gen_b], weight_1)\n",
    "gen_combo_2 = markovify.combine([gen_a, gen_b], weight_2)\n",
    "gen_combo_3 = markovify.combine([gen_a, gen_b], weight_3)\n",
    "gen_combo_4 = markovify.combine([gen_a, gen_b], weight_4)\n",
    "gen_combo_5 = markovify.combine([gen_a, gen_b], weight_5)\n",
    "gen_combo_6 = markovify.combine([gen_a, gen_b], weight_6)\n",
    "gen_combo_7 = markovify.combine([gen_a, gen_b], weight_7)\n",
    "gen_combo_8 = markovify.combine([gen_a, gen_b], weight_8)\n",
    "gen_combo_9 = markovify.combine([gen_a, gen_b], weight_9)"
   ]
  },
  {
   "cell_type": "markdown",
   "metadata": {},
   "source": [
    "### ONE"
   ]
  },
  {
   "cell_type": "code",
   "execution_count": 12,
   "metadata": {
    "scrolled": false
   },
   "outputs": [
    {
     "name": "stdout",
     "output_type": "stream",
     "text": [
      "Cats\n",
      "\n",
      "\n",
      "   It could engage.\n",
      "Thus, cherish thee now?\n",
      "Yea, light of thine eyes that repine.\n",
      "Music\n",
      "\n",
      "\n",
      "   Oh, friends of Doom,\n",
      "   Far from Hell?\n",
      "Sadness rises supreme?\n",
      "I shave ever dear!\n",
      "Yea, light sleep.\n",
      "Ye charm of the court.\n",
      "The Set of thine eyes.\n",
      "The whole of whiskey into dust.\n",
      "Don’t text him and astounds.\n",
      "Her voice is swift.\n",
      "None\n",
      "Thus, cherish thee now?\n",
      "The tables and wit makes it again.\n",
      "None\n",
      "None\n",
      "None\n",
      "Agile and no one sees.\n",
      "He owned three times.\n",
      "“Also, if I relish thee thus!\n",
      "She can afford me more.\n",
      "I want to be out of view.\n",
      "Because around your brown.\n",
      "I wore this darkling gold, and stern.\n",
      "I know all that I would take him less drear.\n",
      "One evening to located desk.\n",
      "When all transplendent one!\n",
      "Thou delights and scent.\n",
      "I wish, as the nights!\n"
     ]
    }
   ],
   "source": [
    "for i in range(output_n):\n",
    "    spacing = gen_combo_1.make_short_sentence(50)\n",
    "    print(spacing)"
   ]
  },
  {
   "cell_type": "markdown",
   "metadata": {},
   "source": [
    "### TWO"
   ]
  },
  {
   "cell_type": "code",
   "execution_count": 13,
   "metadata": {
    "scrolled": false
   },
   "outputs": [
    {
     "name": "stdout",
     "output_type": "stream",
     "text": [
      "Inert, waiting room, where he sees me.\n",
      "Yea, light of the vents.\n",
      "While I dwell and stern.\n",
      "Yea, light the top.\n",
      "Everything all the throat!\n",
      "As she walks, shining.\n",
      "He is for the night.\n",
      "“I don’t care abounds.\n",
      "He lets the night....\n",
      "I want to take you okay?”\n",
      "So she’s said if I was a brief windows.\n",
      "Wherein there abounds.\n",
      "She takes me ill.\n",
      "Towards that much better.\n",
      "The Wine of memory, royal stairs?\n",
      "Yet sadness of the sea.\n",
      "None\n",
      "Agile and wise.\n",
      "So long time, the lone.\n",
      "Despite the bottle of Renown!\n",
      "So thus, she is too divine!\n",
      "So let us love,\n",
      "   But there.\n",
      "I can’t bring it all until I open my legs.\n",
      "The mental thing to sleep.\n",
      "Yea, light of the night.\n",
      "When she wants.\n",
      "And of confectious.\n",
      "Large eyes are thee kisses and wan.\n",
      "The cane was holding a week.\n",
      "And yet, like the binding.\n"
     ]
    }
   ],
   "source": [
    "for i in range(output_n):\n",
    "    spacing = gen_combo_2.make_short_sentence(50)\n",
    "    print(spacing)"
   ]
  },
  {
   "cell_type": "markdown",
   "metadata": {},
   "source": [
    "### THREE"
   ]
  },
  {
   "cell_type": "code",
   "execution_count": 14,
   "metadata": {
    "scrolled": false
   },
   "outputs": [
    {
     "name": "stdout",
     "output_type": "stream",
     "text": [
      "But when the bone.\n",
      "They hold you believe her.\n",
      "Obsession, the only to dying sun.\n",
      "Weirdly, the court.\n",
      "I splay of a woman your brown.\n",
      "None\n",
      "Of course for gin.\n",
      "A ball down in the dawn!\n",
      "As well, I mean to cyan.\n",
      "He doesn’t feel sick.\n",
      "“So hard time and with too many of the DSM-5.\n",
      "But as the house.\n",
      "He lifts out of my ear.\n",
      "I used to do anything.\n",
      "I leave to do to me, the company time.\n",
      "There, and inoculated.\n",
      "She takes no mentions inside.\n",
      "Delirium and looks of some shit.\n",
      "He doesn’t feel it anew.\n",
      "I want to fuck the trunk and red.\n",
      "He’d grown thighs.\n",
      "There is a tomb.\n",
      "Of courses this up.”\n",
      "He bringing portraits.”\n",
      "Like her body with cold?\n",
      "Oh, Mother of MF Doom.\n",
      "Jerry who is blank canvas.\n",
      "I did like a veil!\n",
      "Yea, art thou generative delight!\n",
      "Art thou not anymore.”\n"
     ]
    }
   ],
   "source": [
    "for i in range(output_n):\n",
    "    spacing = gen_combo_4.make_short_sentence(50)\n",
    "    print(spacing)"
   ]
  },
  {
   "cell_type": "markdown",
   "metadata": {},
   "source": [
    "### FOUR"
   ]
  },
  {
   "cell_type": "code",
   "execution_count": 15,
   "metadata": {
    "scrolled": false
   },
   "outputs": [
    {
     "name": "stdout",
     "output_type": "stream",
     "text": [
      "She takes to their hands.\n",
      "A few, with rain, and inside.\n",
      "Akila does not a monstrous?”\n",
      "And then an art—to be broke.\n",
      "Ye charming short.\n",
      "“This is just happened.\n",
      "But we have been crying.\n",
      "At times so profound.\n",
      "Everything the sacred scent.\n",
      "“No, I don’t speak.\n",
      "There were silver.\n",
      "Thus, cherish thee now?\n",
      "Down yonder to begin.\n",
      "I listen to this to be dead.\n",
      "He tells me to go,” I say.\n",
      "Akila drapes his hair.\n",
      "For a moments secret.\n",
      "When I looked like a dream.\n",
      "We share, so I don’t have a car or go in.\n",
      "6\n",
      "\n",
      "\n",
      "Inside I see Mark.\n",
      "At times that I am desperation.\n",
      "She looks upon the people.\n",
      "I really need work.”\n",
      "It is not a chasm drawn.\n",
      "If I’m hoping to miss.\n",
      "I drink or how I am a creep.\n",
      "Eric says he can go home.\n",
      "When Rebecca texts asking a shoe.\n",
      "She takes it feel angry.\n",
      "“So hard because clown!\n"
     ]
    }
   ],
   "source": [
    "for i in range(output_n):\n",
    "    spacing = gen_combo_4.make_short_sentence(50)\n",
    "    print(spacing)"
   ]
  },
  {
   "cell_type": "code",
   "execution_count": 24,
   "metadata": {
    "scrolled": false
   },
   "outputs": [
    {
     "name": "stdout",
     "output_type": "stream",
     "text": [
      "I try to get over.\n",
      "My father only is she was difficulty.\n",
      "I wish, as the truth abhor?\n",
      "On the recede feet.\n",
      "Beauty\n",
      "\n",
      "\n",
      "   My soul inhale.\n",
      "I watch party hat.\n",
      "By demand from its urn?\n",
      "I put on my family.\n",
      "Thus, cherish thee now?\n",
      "She doesn’t make off my social.\n",
      "I have for the void.\n",
      "Not only in a ball.\n",
      "I turn these thing.\n",
      "Behold how the cyan.\n",
      "When we starts up, shut the watch my report.\n",
      "However, when held it casual.\n",
      "The table, but by the throat!\n",
      "And the AC, the silk.\n",
      "In days with cold?\n",
      "On that I would inspire!\n",
      "Or, could feel that you’re not.\n",
      "They are my idea.\n",
      "One of us just what to do, her boots.\n",
      "I shave ever rife!\n",
      "It was a mutual misery.\n",
      "So I’ve tried harder.\n",
      "I sit naked and brook....\n",
      "Or yet with sweat.\n",
      "She gets me a letter.\n",
      "Of course of that they were.\n"
     ]
    }
   ],
   "source": [
    "for i in range(output_n):\n",
    "    spacing = gen_combo_4.make_short_sentence(50)\n",
    "    print(spacing)"
   ]
  },
  {
   "cell_type": "markdown",
   "metadata": {},
   "source": [
    "### FIVE"
   ]
  },
  {
   "cell_type": "code",
   "execution_count": 18,
   "metadata": {
    "scrolled": false
   },
   "outputs": [
    {
     "name": "stdout",
     "output_type": "stream",
     "text": [
      "This is not pan out.\n",
      "Autumn and my sock.\n",
      "It always beyond hello.\n",
      "Even me to the truth abhor?\n",
      "But from bothers a care.\n",
      "“What are you ever saw.\n",
      "Sisina\n",
      "\n",
      "\n",
      "   It could engage.\n",
      "I watched the father died.\n",
      "“Your wife to me and his legs.\n",
      "There is the sinuses.\n",
      "I send an effort.\n",
      "Beauty\n",
      "\n",
      "\n",
      "   It could call it.\n",
      "I go to my father.\n",
      "He shrugs and sighs!\n",
      "It is over the park.\n",
      "Even if I have nought.\n",
      "At times before she pushed my teeth.\n",
      "When I see her goal.\n",
      "There, a little compute.\n",
      "Delights could be.\n",
      "It is there before him on.\n",
      "Because I still comes.\n",
      "As we enter urgently.\n",
      "“I’m a little choice.\n",
      "It took her right to be.\n",
      "With the town.\n",
      "As I ladle the depths are facedown.\n",
      "I look out on the power drill.\n",
      "Aloof is a clown.\n",
      "I pass a woman who sleep.\n"
     ]
    }
   ],
   "source": [
    "for i in range(output_n):\n",
    "    spacing = gen_combo_5.make_short_sentence(50)\n",
    "    print(spacing)"
   ]
  },
  {
   "cell_type": "code",
   "execution_count": 25,
   "metadata": {
    "scrolled": false
   },
   "outputs": [
    {
     "name": "stdout",
     "output_type": "stream",
     "text": [
      "His tone is coming alone.\n",
      "In vain you take credit is dead.\n",
      "The whole things have night,\n",
      "   To inspire!\n",
      "This is how she comes in.\n",
      "And the hot and a nail polish thee now?\n",
      "My manage his place.\n",
      "Three women are of his hair.\n",
      "We enter than I need him.\n",
      "“What did you seem to be alone.\n",
      "You know that if I am?\n",
      "She pushed my understand wan.\n",
      "She told each the changed.\n",
      "She gets to keep!\n",
      "There I will be the sea.\n",
      "There, all is gone, I can absolutes.\n",
      "He is not make you want, and the windows open.\n",
      "He could be as scarce.\n",
      "II\n",
      "\n",
      "   I love and watch me close and thirds.\n",
      "I can’t helped uphold.\n",
      "All those of an endless pain!\n",
      "Yea, light of an ifrit.\n",
      "Within the burned.\n",
      "I strip down in the soup.\n",
      "She puts his hair.\n",
      "When I don’t quite simple way.\n",
      "I cherished glass.\n",
      "I sit in from behind his head.\n",
      "Some reasonable brain and you doing?\n",
      "I ask about in the dark.\n",
      "“I mean I am obsolete.\n"
     ]
    }
   ],
   "source": [
    "for i in range(output_n):\n",
    "    spacing = gen_combo_5.make_short_sentence(50)\n",
    "    print(spacing)"
   ]
  },
  {
   "cell_type": "markdown",
   "metadata": {},
   "source": [
    "### SIX"
   ]
  },
  {
   "cell_type": "code",
   "execution_count": 19,
   "metadata": {
    "scrolled": false
   },
   "outputs": [
    {
     "name": "stdout",
     "output_type": "stream",
     "text": [
      "“Akila holds my eyes.\n",
      "Behind his page.\n",
      "“You have to know.\n",
      "And no guide my glove.\n",
      "She puts his hair.\n",
      "This is your brown grass.\n",
      "I let her away?\n",
      "I salute her a subway stairwell is gone.\n",
      "A black and down and sunset.\n",
      "“You didn’t know he is awake.\n",
      "We made of virginity?\n",
      "When I behold it is concrete.\n",
      "She takes the green and wife.\n",
      "I tie up my present my fault.”\n",
      "When I come back.\n",
      "I hate everyone where my mouth.\n",
      "Eric tries to mean to cyan.\n",
      "I like the peat moss.\n",
      "I try to maintaining about where she slept.\n",
      "When I want to recognize.\n",
      "Even me the same page.\n",
      "I say, and in our relative ease.\n",
      "“Marriage the drama about an association and ice?\n",
      "Still, you’re not.\n",
      "So I text him back inside.\n",
      "The shores of trash today.”\n",
      "My heart, the glass.\n",
      "And others then released when I made me stop.\n",
      "Yea, does me ill.\n",
      "He is not have passion and ice?\n"
     ]
    }
   ],
   "source": [
    "for i in range(output_n):\n",
    "    spacing = gen_combo_6.make_short_sentence(50)\n",
    "    print(spacing)"
   ]
  },
  {
   "cell_type": "code",
   "execution_count": 26,
   "metadata": {
    "scrolled": false
   },
   "outputs": [
    {
     "name": "stdout",
     "output_type": "stream",
     "text": [
      "The studies felt my power drill.\n",
      "Tyrell from her father.\n",
      "I want to get the park.\n",
      "When she wants, and that poet of cream truck.\n",
      "He rolls up to my room, please stop.\n",
      "I mean we have great skin.”\n",
      "I have receive her and good audience.\n",
      "All day with sun.\n",
      "Oh, Mother ocean of insulting.\n",
      "For as long and of girl.\n",
      "And when Eric would take an owl.\n",
      "In days are slurred.\n",
      "And then he helps to take the nothing.\n",
      "A few, with pride to sleep.\n",
      "I know that destroys.\n",
      "His over her bag.\n",
      "I take the drone and glass.\n",
      "I wish, as the night....\n",
      "I wrap my hand up the room.\n",
      "The Possesses me away.\n",
      "I put on the cabinets and I think is a smell.\n",
      "A loudly echo back.\n",
      "This was one is less so.\n",
      "I close to the window will comes.\n",
      "I feel it, and we watch her down.\n",
      "He sends me to re-bloom?\n",
      "He fishes his watching me.\n",
      "The calm of plastic baying.\n",
      "She adjusting our way out.\n",
      "Art thou generations I breath.\n"
     ]
    }
   ],
   "source": [
    "for i in range(output_n):\n",
    "    spacing = gen_combo_6.make_short_sentence(50)\n",
    "    print(spacing)"
   ]
  },
  {
   "cell_type": "markdown",
   "metadata": {},
   "source": [
    "### SEVEN"
   ]
  },
  {
   "cell_type": "code",
   "execution_count": 21,
   "metadata": {
    "scrolled": false
   },
   "outputs": [
    {
     "name": "stdout",
     "output_type": "stream",
     "text": [
      "What matter if she walks, shining.\n",
      "Elsewhere, whatever shears.\n",
      "There isn’t help.\n",
      "In vain your light.\n",
      "I think I got an autumn nights, without shame.\n",
      "She looked, their place on thy breath.\n",
      "The shade of mind, careful.\n",
      "His tone is dying sun.\n",
      "Compared to go away.\n",
      "The way it again.\n",
      "Then she looks at him noticing.\n",
      "“You’re things.\n",
      "Elsewhere a sport.\n",
      "I though the night one.\n",
      "“It’s like some clown!\n",
      "I try not to ask who knew.\n",
      "She didn’t be alone.\n",
      "I find that repine.\n",
      "Down yonder to begin.\n",
      "“I feel him actually do.”\n",
      "There are seriousness.\n",
      "“Here’s a factoid that.”\n",
      "This isn’t help.\n",
      "Though it was cruel.\n",
      "And then as I come back.\n",
      "Now I have been touch my knee.\n",
      "When I climb the morgue.\n",
      "Eric says, trying in her hands recline!\n",
      "“I can’t it become less?”\n",
      "“It does not ideal.\n"
     ]
    }
   ],
   "source": [
    "for i in range(output_n):\n",
    "    spacing = gen_combo_7.make_short_sentence(50)\n",
    "    print(spacing)"
   ]
  },
  {
   "cell_type": "markdown",
   "metadata": {},
   "source": [
    "### EIGHT"
   ]
  },
  {
   "cell_type": "code",
   "execution_count": 22,
   "metadata": {
    "scrolled": false
   },
   "outputs": [
    {
     "name": "stdout",
     "output_type": "stream",
     "text": [
      "Better than I need you.\n",
      "Oh, Mother on the inside to sleep knowing nothing.\n",
      "She reach in her task.\n",
      "So I’ve tried harder.\n",
      "My husband, and thirds.\n",
      "Look at me, I like it is from.\n",
      "All one to my room a little style.\n",
      "Behind it, I feel casually.\n",
      "Once Akila out of view.\n",
      "Now she is not home.\n",
      "Someone’s damp with me.\n",
      "Not only to figures.\n",
      "Now we have seen of Delights dimming with HR.\n",
      "I stand before I say Please put them to him.\n",
      "I know you do when though sustainable.\n",
      "Four years since the corpse.\n",
      "On that she means I won’t give.\n",
      "At the touches the wishes off.\n",
      "Between the other there.\n",
      "I could leaves in human comes out, his face.\n",
      "He fishes his wife calls.\n",
      "I have sex, which with that.\n",
      "Rooms are coming in.\n",
      "High on some clown!\n",
      "I can smell of fear.\n",
      "I mix my paint the doors are noise.\n",
      "“That painting them mix.\n",
      "She tells me so sweet.\n",
      "I wanted to do all the gist of pub date for gin.\n",
      "I stand out well.\n"
     ]
    }
   ],
   "source": [
    "for i in range(output_n):\n",
    "    spacing = gen_combo_8.make_short_sentence(50)\n",
    "    print(spacing)"
   ]
  },
  {
   "cell_type": "markdown",
   "metadata": {},
   "source": [
    "### NINE"
   ]
  },
  {
   "cell_type": "code",
   "execution_count": 23,
   "metadata": {
    "scrolled": false
   },
   "outputs": [
    {
     "name": "stdout",
     "output_type": "stream",
     "text": [
      "This is so sweet, and thirds.\n",
      "I had the vents.\n",
      "In fact, a lot has chosen word.\n",
      "The sea is this up.”\n",
      "Maybe there are made to do to you.”\n",
      "Their attempted to hear already done to re-bloom?\n",
      "They are excellent, is a man who is clear.\n",
      "“I though her hand, I think?”\n",
      "I sit in the con as an eye.\n",
      "I feel I should still.\n",
      "The sea is there is a cashier.\n",
      "There, and the morning her the void.\n",
      "I find sometimes fly away?\n",
      "Luckily the door.\n",
      "My mother’s side, there is so specifically?”\n",
      "After a few things replete with strong tresses!\n",
      "With the bares her wig.\n",
      "* * *\n",
      "\n",
      "\n",
      "\n",
      "The first.\n",
      "Not out in the Bible studies.\n",
      "The cane was more a personal.\n",
      "“What do you know!\n",
      "During my month, and after a long drink.\n",
      "And when Eric leaves in the most.\n",
      "I look on his back.\n",
      "In vain your flame!\n",
      "“Do you had only things her head.\n",
      "Beyond the curb.\n",
      "At this looking.\n",
      "Like, is he that destroys.\n",
      "And you’ve been built.\n"
     ]
    }
   ],
   "source": [
    "for i in range(output_n):\n",
    "    spacing = gen_combo_9.make_short_sentence(50)\n",
    "    print(spacing)"
   ]
  },
  {
   "cell_type": "code",
   "execution_count": 27,
   "metadata": {
    "scrolled": false
   },
   "outputs": [
    {
     "name": "stdout",
     "output_type": "stream",
     "text": [
      "But from the wishes off.\n",
      "She pins are candidly.\n",
      "I should I seemed to be dead.”\n",
      "Of course, the morning insane,\n",
      "   Her eyes.\n",
      "Mark, head on the truth.\n",
      "I resentment and kinky.\n",
      "But as they invited her sunglasses.\n",
      "On that soon we are undetectable.\n",
      "Eric says the garden, but she feelings?”\n",
      "Have you seem to be Moon.\n",
      "I open my map open.\n",
      "He turns up the room.\n",
      "“And your bitch.\n",
      "Seven hours and expertise.\n",
      "In the green one of there.\n",
      "I rise with a glances and the trees and kinky.\n",
      "He pulls up his slick.\n",
      "It is thing is about my arms.\n",
      "The friends, but then she wants.\n",
      "Guy took him, once.\n",
      "For a moments so much to care.\n",
      "I see my father.\n",
      "I raid the evening airs?\n",
      "“You like the baying.\n",
      "The door, I wake up as a tomb.\n",
      "She rakes her first time, I put my things.”\n",
      "Like, is he that Anakin, the indulges her down.\n",
      "But it is a man.\n",
      "He knows in the door.\n",
      "Women look at me.\n"
     ]
    }
   ],
   "source": [
    "for i in range(output_n):\n",
    "    spacing = gen_combo_9.make_short_sentence(50)\n",
    "    print(spacing)"
   ]
  }
 ],
 "metadata": {
  "kernelspec": {
   "display_name": "Python 3",
   "language": "python",
   "name": "python3"
  },
  "language_info": {
   "codemirror_mode": {
    "name": "ipython",
    "version": 3
   },
   "file_extension": ".py",
   "mimetype": "text/x-python",
   "name": "python",
   "nbconvert_exporter": "python",
   "pygments_lexer": "ipython3",
   "version": "3.8.3"
  }
 },
 "nbformat": 4,
 "nbformat_minor": 4
}
