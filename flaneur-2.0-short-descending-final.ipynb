{
 "cells": [
  {
   "cell_type": "code",
   "execution_count": 1,
   "metadata": {},
   "outputs": [],
   "source": [
    "text_a = open(\"luster.txt\").read()\n",
    "text_b = open(\"Baudelaire.txt\").read()"
   ]
  },
  {
   "cell_type": "code",
   "execution_count": 2,
   "metadata": {},
   "outputs": [
    {
     "name": "stdout",
     "output_type": "stream",
     "text": [
      "Requirement already satisfied: markovify in /Users/plummiewummie/opt/anaconda3/lib/python3.8/site-packages (0.8.3)\n",
      "Requirement already satisfied: unidecode in /Users/plummiewummie/opt/anaconda3/lib/python3.8/site-packages (from markovify) (1.1.1)\n",
      "\u001b[33mWARNING: You are using pip version 20.2.4; however, version 20.3 is available.\n",
      "You should consider upgrading via the '/Users/plummiewummie/opt/anaconda3/bin/python -m pip install --upgrade pip' command.\u001b[0m\n"
     ]
    }
   ],
   "source": [
    "import sys\n",
    "!{sys.executable} -m pip install markovify"
   ]
  },
  {
   "cell_type": "code",
   "execution_count": 3,
   "metadata": {},
   "outputs": [],
   "source": [
    "import markovify\n",
    "import random"
   ]
  },
  {
   "cell_type": "code",
   "execution_count": 4,
   "metadata": {},
   "outputs": [],
   "source": [
    "class SentencesByChar(markovify.Text):\n",
    "    def word_split(self, sentence):\n",
    "        return list(sentence)\n",
    "    def word_join(self, words):\n",
    "        return \"\".join(words)"
   ]
  },
  {
   "cell_type": "code",
   "execution_count": 5,
   "metadata": {},
   "outputs": [],
   "source": [
    "level = \"char\"\n",
    "order = 7\n",
    "output_n = 1\n",
    "\n",
    "weights = [0.5, 0.5]\n",
    "\n",
    "weight_1 = [0.01, 0.99]\n",
    "weight_2 = [0.035, 0.965]\n",
    "weight_3 = [0.06, 0.94]\n",
    "weight_4 = [0.085, 0.915]\n",
    "weight_5 = [0.11, 0.89]\n",
    "weight_6 = [0.135, 0.865]\n",
    "weight_7 = [0.16, 0.84]\n",
    "weight_8 = [0.185, 0.815]\n",
    "weight_9 = [0.21, 0.79]\n",
    "\n",
    "length_limit = 280"
   ]
  },
  {
   "cell_type": "markdown",
   "metadata": {},
   "source": [
    "# Descending "
   ]
  },
  {
   "cell_type": "code",
   "execution_count": 9,
   "metadata": {},
   "outputs": [],
   "source": [
    "level = \"char\"\n",
    "order = 7\n",
    "output_n = 30\n",
    "\n",
    "weights = [0.5, 0.5]\n",
    "\n",
    "weight_1 = [0.01, 0.99]\n",
    "weight_2 = [0.035, 0.965]\n",
    "weight_3 = [0.06, 0.94]\n",
    "weight_4 = [0.085, 0.915]\n",
    "weight_5 = [0.11, 0.89]\n",
    "weight_6 = [0.135, 0.865]\n",
    "weight_7 = [0.16, 0.84]\n",
    "weight_8 = [0.185, 0.815]\n",
    "weight_9 = [0.21, 0.79]\n",
    "\n",
    "length_limit = 280"
   ]
  },
  {
   "cell_type": "code",
   "execution_count": 10,
   "metadata": {},
   "outputs": [],
   "source": [
    "model_cls = markovify.Text if level == \"word\" else SentencesByChar\n",
    "gen_a = model_cls(text_a, state_size=order)\n",
    "gen_b = model_cls(text_b, state_size=order)\n",
    "gen_combo_1 = markovify.combine([gen_a, gen_b], weight_1)\n",
    "gen_combo_2 = markovify.combine([gen_a, gen_b], weight_2)\n",
    "gen_combo_3 = markovify.combine([gen_a, gen_b], weight_3)\n",
    "gen_combo_4 = markovify.combine([gen_a, gen_b], weight_4)\n",
    "gen_combo_5 = markovify.combine([gen_a, gen_b], weight_5)\n",
    "gen_combo_6 = markovify.combine([gen_a, gen_b], weight_6)\n",
    "gen_combo_7 = markovify.combine([gen_a, gen_b], weight_7)\n",
    "gen_combo_8 = markovify.combine([gen_a, gen_b], weight_8)\n",
    "gen_combo_9 = markovify.combine([gen_a, gen_b], weight_9)"
   ]
  },
  {
   "cell_type": "markdown",
   "metadata": {},
   "source": [
    "### NINE"
   ]
  },
  {
   "cell_type": "code",
   "execution_count": 11,
   "metadata": {
    "scrolled": false
   },
   "outputs": [
    {
     "name": "stdout",
     "output_type": "stream",
     "text": [
      "Can'st thou not anymore.”\n",
      "Have you are only ones.\n",
      "I try to be unemployment.\n",
      "It feels the ends them on.\n",
      "“We bred the fact of boiling correct lines.\n",
      "I knock on my posts.\n",
      "The sea,\n",
      "   To divine!\n",
      "That isn’t help.\n",
      "Wherein the floor.\n",
      "She beginning white women are off.\n",
      "I want them together.”\n",
      "I work on Akila’s drear.\n",
      "The moment to each the room.\n",
      "When I am out of my closet.\n",
      "Large eyes there removes her hands.\n",
      "I text him at this is the same.\n",
      "I fall back of books.\n",
      "I can hear the cotton glove.\n",
      "But during the mime’s black?”\n",
      "“So we’re in his hand.\n",
      "For the levers, I am obsolete.\n",
      "“And your hands, the pieces.\n",
      "The waiting in a panic.\n",
      "The kids have gather thing.\n",
      "I put this contrite.\n",
      "It’s that will stop.\n",
      "Within thy daily and wise.\n",
      "We put on three in the brushes.\n",
      "I turn up the stairs?\n",
      "It feels the tendon in her voice.\n"
     ]
    }
   ],
   "source": [
    "for i in range(output_n):\n",
    "    spacing = gen_combo_9.make_short_sentence(50)\n",
    "    print(spacing)"
   ]
  },
  {
   "cell_type": "code",
   "execution_count": 20,
   "metadata": {
    "scrolled": false
   },
   "outputs": [
    {
     "name": "stdout",
     "output_type": "stream",
     "text": [
      "He closes her ring.\n",
      "On the trash and wan.\n",
      "I have half out onto the foot.\n",
      "I ask if there with me.\n",
      "He pulls me aback.\n",
      "My parents, not like the wall.\n",
      "“I don’t smell the cheese.\n",
      "It was mellowed inside.\n",
      "There are talking to be a sun.\n",
      "He was years in my single check.\n",
      "When I regarding this.\n",
      "You can feel it anew.\n",
      "In other way up.\n",
      "The tables and this is a relief.\n",
      "Kieran from a dream.\n",
      "By date seventeen.\n",
      "Thus, cherish thee now?\n",
      "I bend her and she would prefer.\n",
      "“It’s fine because you and I hate this has been.\n",
      "“I liked you,” she says he can’t.”\n",
      "In between my socks.\n",
      "For me, when adult here.\n",
      "And of course not.\n",
      "I find a place has start.\n",
      "When it hurt my feet in my eyes.\n",
      "The stars are not perforated my neck.\n",
      "I listening or in some shit.\n",
      "There we have used to wear jeans.\n",
      "Need more because Eric comes in bed.\n",
      "Beetles and commanding.\n"
     ]
    }
   ],
   "source": [
    "for i in range(output_n):\n",
    "    spacing = gen_combo_9.make_short_sentence(50)\n",
    "    print(spacing)"
   ]
  },
  {
   "cell_type": "markdown",
   "metadata": {},
   "source": [
    "### EIGHT"
   ]
  },
  {
   "cell_type": "code",
   "execution_count": 12,
   "metadata": {
    "scrolled": false
   },
   "outputs": [
    {
     "name": "stdout",
     "output_type": "stream",
     "text": [
      "The room to get some finale.\n",
      "Within this choice.\n",
      "“It’s all I can see.\n",
      "She asks, and already feels less trite.\n",
      "As it was meant when she wants.\n",
      "I use the car.\n",
      "“How old shaving trouble to me for me.\n",
      "The viol vibrating the print on the stairs.\n",
      "My bowels, and think I could do three days.”\n",
      "I think of the stage.\n",
      "A suburban crime.\n",
      "It is an image will hurt her.\n",
      "Everywhere each of my poverty.\n",
      "O mystic pupils are babies.\n",
      "A small action, and we go down in the house.\n",
      "“Of course, the archivists.\n",
      "He fishes his shield.\n",
      "Most of our children.\n",
      "“Don’t believe that we cannot.\n",
      "And then she put on my mouth.\n",
      "She lay on the stairs.\n",
      "I lean for the dying sun.\n",
      "At the arms of a strange.\n",
      "I left you are a hand on the mall bat.\n",
      "And others me out.\n",
      "Behold now that temporary station.\n",
      "The idea of some clown school.\n",
      "Men in magazine and the teeth.\n",
      "I have once again to live.\n",
      "Of course I was here.\n"
     ]
    }
   ],
   "source": [
    "for i in range(output_n):\n",
    "    spacing = gen_combo_8.make_short_sentence(50)\n",
    "    print(spacing)"
   ]
  },
  {
   "cell_type": "markdown",
   "metadata": {},
   "source": [
    "### SEVEN"
   ]
  },
  {
   "cell_type": "code",
   "execution_count": 13,
   "metadata": {
    "scrolled": false
   },
   "outputs": [
    {
     "name": "stdout",
     "output_type": "stream",
     "text": [
      "Still, I can’t breath.\n",
      "Not to anything, which is too slipper.\n",
      "But whenever I smile.\n",
      "I know the garden.\n",
      "I show up to leave, health.\n",
      "I don’t under his mood.\n",
      "I wake up in this dark.\n",
      "“The capitalism, the platter.\n",
      "Elsewhere a man in the mist.\n",
      "My under the ages come up.\n",
      "We both of yourselves.\n",
      "Less because for butter.\n",
      "He keeps making friend.\n",
      "Can you begin to talk to me.\n",
      "Everyone is that?”\n",
      "“I can’t be in place?”\n",
      "“What’s your parents.\n",
      "Like he wants to the road.\n",
      "He asks me to convincing in the floor.\n",
      "She moves, her task.\n",
      "Better that has had to get dry.\n",
      "There was monitor.\n",
      "The days I wear and bananas.\n",
      "There is exceedings inside.\n",
      "“We adopted the room.\n",
      "It depictions, and, after going well?”\n",
      "Our table to get laid.\n",
      "I remember the blue rubber boots.\n",
      "I cherished glass.\n",
      "I want to say, most of my neck.\n"
     ]
    }
   ],
   "source": [
    "for i in range(output_n):\n",
    "    spacing = gen_combo_7.make_short_sentence(50)\n",
    "    print(spacing)"
   ]
  },
  {
   "cell_type": "markdown",
   "metadata": {},
   "source": [
    "### SIX"
   ]
  },
  {
   "cell_type": "code",
   "execution_count": 14,
   "metadata": {
    "scrolled": false
   },
   "outputs": [
    {
     "name": "stdout",
     "output_type": "stream",
     "text": [
      "I follows in the shoves me.\n",
      "And yet these phone to men and so clear to me.\n",
      "Art thou generation?\n",
      "He seemed to my phone numbers and me, tomato.\n",
      "“She lives and hairy thigh.\n",
      "Yea, does me ill.\n",
      "“Akila holds my eyes just okay.\n",
      "This was thinking of Dung!\n",
      "And then she is nothing her out, I see Mark.\n",
      "I spend my forgiving to squat.\n",
      "“It isn’t really a fair eyes.\n",
      "I draw her at all.\n",
      "The only takes me ill.\n",
      "I fiddle with pride to re-bloom?\n",
      "It is sitting room.\n",
      "I have both fully conclusion.\n",
      "Sadness are closes the aux cord.\n",
      "And I don’t talk.\n",
      "Inside, she palm of plant them when it hurts.\n",
      "And even when I don’t.\n",
      "“Please inviting to know I am a creep.\n",
      "When it becomes to know.\n",
      "I have reach the seas!\n",
      "Exhausting on my dreams!\n",
      "I approachable plank.\n",
      "Because like a big deal.\n",
      "Or yet with ecstasy.\n",
      "My child who is in the student.\n",
      "“You should be mine.\n",
      "I made him apart.\n"
     ]
    }
   ],
   "source": [
    "for i in range(output_n):\n",
    "    spacing = gen_combo_6.make_short_sentence(50)\n",
    "    print(spacing)"
   ]
  },
  {
   "cell_type": "code",
   "execution_count": 21,
   "metadata": {
    "scrolled": false
   },
   "outputs": [
    {
     "name": "stdout",
     "output_type": "stream",
     "text": [
      "He’s a good sense his heart.\n",
      "Can'st thou, that one loves.\n",
      "“Go to your heart!\n",
      "Then she wake of ebony!\n",
      "Nigger! a kid he has texted online.\n",
      "A banner than in these secrets to her?”\n",
      "After, I am good, better.\n",
      "I put the forest! lies.\n",
      "“Have you asked.\n",
      "A CVS that keeps blowing with her hair.\n",
      "So she’s moving quickly.\n",
      "Because around and stop.\n",
      "She still in her watch.\n",
      "The sea,\n",
      "   Together.\n",
      "Everywhere, before.\n",
      "A few commute from Hell?\n",
      "Eric emerged from our home.”\n",
      "“I though I heard it.\n",
      "When all the city.\n",
      "Of being a man who is blank canvas.\n",
      "A loudly echo back.\n",
      "We don’t speak to her hand.\n",
      "I look at herself.\n",
      "So let us love,\n",
      "   To live in Manhattan.\n",
      "But still am not alone.\n",
      "We met on my shoes are brimming as he looks blue.\n",
      "“Also, if I was here.\n",
      "He didn’t talk and cartoon.\n",
      "Exhausting out a counteraction.\n",
      "Don Omar has run wild.\n"
     ]
    }
   ],
   "source": [
    "for i in range(output_n):\n",
    "    spacing = gen_combo_6.make_short_sentence(50)\n",
    "    print(spacing)"
   ]
  },
  {
   "cell_type": "markdown",
   "metadata": {},
   "source": [
    "### FIVE"
   ]
  },
  {
   "cell_type": "code",
   "execution_count": 15,
   "metadata": {
    "scrolled": false
   },
   "outputs": [
    {
     "name": "stdout",
     "output_type": "stream",
     "text": [
      "Her polish thee thus!\n",
      "“I saw your parent says.\n",
      "While her lapel.\n",
      "It gives me more cash.\n",
      "We wore plain, where the dark.\n",
      "My childhood as yours.\n",
      "There are dead, and he die?”\n",
      "I can’t manage his place.\n",
      "“I have a passing into his page.\n",
      "I am not the check.\n",
      "I unzip my sketches.\n",
      "Pierogi comes out her back to sign of defense.\n",
      "Echoes\n",
      "\n",
      "\n",
      "   Where the second tongue.\n",
      "Though now I want to stay.\n",
      "“They’re together there.\n",
      "“It’s the silver pan.\n",
      "Let's, like to be black.\n",
      "But my voice says, they muse.\n",
      "There are eyes, without shame.\n",
      "We turn back of my dreams!\n",
      "She has kind of her trowel.\n",
      "The Enemy\n",
      "\n",
      "\n",
      "       And like a toiletries.\n",
      "“How do you think of that.\n",
      "Evening of a mighty memory?\n",
      "I take my house.\n",
      "“So you remember the screen.\n",
      "Since she asks if there.\n",
      "I try not to laughed.\n",
      "He tells him and start work.\n",
      "She was hoping she’s black power.\n"
     ]
    }
   ],
   "source": [
    "for i in range(output_n):\n",
    "    spacing = gen_combo_5.make_short_sentence(50)\n",
    "    print(spacing)"
   ]
  },
  {
   "cell_type": "markdown",
   "metadata": {},
   "source": [
    "### FOUR"
   ]
  },
  {
   "cell_type": "code",
   "execution_count": 16,
   "metadata": {
    "scrolled": false
   },
   "outputs": [
    {
     "name": "stdout",
     "output_type": "stream",
     "text": [
      "The Heaven, in the street, her face.\n",
      "She pushes me ill.\n",
      "That I would like.\n",
      "The friendly’s.\n",
      "To her, with strong tresses!\n",
      "“I don’t send an effort.\n",
      "“I though the dawn!\n",
      "On her father of MF Doom.\n",
      "Hearing party room.\n",
      "And yet, like a pall.\n",
      "There I go for butter.\n",
      "When I went and smiles.\n",
      "There is a note, if I relish thee now?\n",
      "Behold now the business divine!\n",
      "“Your feet towards there.\n",
      "Her polish thee now?\n",
      "It comes out of steam.\n",
      "Wherein the evening airs?\n",
      "This isn’t Jake was inside.\n",
      "My heart is a bruised in this dress.\n",
      "But mostly in my throat!\n",
      "I think because I put the golden sheaf?\n",
      "In vain your light.\n",
      "Eric says, and its dissolve.\n",
      "Oh worms, with rain.\n",
      "The shores of disbelief.\n",
      "Down yonder the blood on our sight?\n",
      "Oh, happy to be fed.\n",
      "For a few things array.\n",
      "This all about tonight furiously.\n"
     ]
    }
   ],
   "source": [
    "for i in range(output_n):\n",
    "    spacing = gen_combo_4.make_short_sentence(50)\n",
    "    print(spacing)"
   ]
  },
  {
   "cell_type": "markdown",
   "metadata": {},
   "source": [
    "### THREE"
   ]
  },
  {
   "cell_type": "code",
   "execution_count": 17,
   "metadata": {
    "scrolled": false
   },
   "outputs": [
    {
     "name": "stdout",
     "output_type": "stream",
     "text": [
      "I smile and especialize.\n",
      "“What’s your palms.\n",
      "I am a little editor of life, with cold?\n",
      "The suns on the land,\n",
      "   Before it conclusion.\n",
      "“Well, you had.\n",
      "A few, with love,\n",
      "   Oh Muse of Mark.\n",
      "I listen trembles thee.\n",
      "So I go to the bigger deal.\n",
      "By the power drill.\n",
      "My soul, with laughing.\n",
      "As we entered its swift.\n",
      "Can'st thou, that offers me out hard.\n",
      "Behold how the burned.\n",
      "Agile and instant.\n",
      "I am running or chaste.\n",
      "She takes me ill.\n",
      "Thus, cherish thee now?\n",
      "Guy took him, once.\n",
      "The whole things have contact.\n",
      "A CVS that keeps saying we are those infinitude!\n",
      "“Do you until I find her.\n",
      "Oh worms, with some points out of the nights!\n",
      "“I just eat it is nothing.\n",
      "To her, with relief.\n",
      "A loudly echo back.\n",
      "As I leaned my room.\n",
      "In vain your brown.\n",
      "It becomes more developed in her voice is swift.\n",
      "How it had a Bible studies.\n",
      "She says, and incomplete.\n"
     ]
    }
   ],
   "source": [
    "for i in range(output_n):\n",
    "    spacing = gen_combo_3.make_short_sentence(50)\n",
    "    print(spacing)"
   ]
  },
  {
   "cell_type": "code",
   "execution_count": 22,
   "metadata": {
    "scrolled": false
   },
   "outputs": [
    {
     "name": "stdout",
     "output_type": "stream",
     "text": [
      "I defer my shoes.\n",
      "And like a dream and masts and proceed to know.\n",
      "Eric goes on a trip to the shield above Decline.\n",
      "I leave to do, his face.\n",
      "Eric is doing turning apparent says.\n",
      "And yet there is not so bad.\n",
      "Large eyes are an iron and the rink.\n",
      "This strangled, in the slide.\n",
      "On the task of the time I don’t know.\n",
      "“I know how to be fed.\n",
      "A few, with light.\n",
      "He seems to be over him.\n",
      "I raid the floor.\n",
      "“This city impure.\n",
      "The viol vibrating and red.\n",
      "“So we’re putting him a mixtape.\n",
      "“Have you think of the silk.\n",
      "And even the other was cast.\n",
      "Some night, irregularly.”\n",
      "I already high alone.\n",
      "So I endure in corpse.\n",
      "But now I am asleep in thine eyes.\n",
      "Before my soul inhale.\n",
      "Thou must, to my patient will be.\n",
      "Great souls array.\n",
      "She is asleep our Pain.\n",
      "There are eyes, with strong tresses!\n",
      "When I begin talking about?”\n",
      "It gives me a care.\n",
      "And others that to him.\n"
     ]
    }
   ],
   "source": [
    "for i in range(output_n):\n",
    "    spacing = gen_combo_3.make_short_sentence(50)\n",
    "    print(spacing)"
   ]
  },
  {
   "cell_type": "markdown",
   "metadata": {},
   "source": [
    "### TWO"
   ]
  },
  {
   "cell_type": "code",
   "execution_count": 18,
   "metadata": {
    "scrolled": false
   },
   "outputs": [
    {
     "name": "stdout",
     "output_type": "stream",
     "text": [
      "Owls\n",
      "\n",
      "\n",
      "   When the canvas.\n",
      "“There are eyes, with my hand.\n",
      "I couldn’t be surprise.\n",
      "Meditation on those moment, I am envious.\n",
      "For a moments secrets to the train.\n",
      "So long thing he touched.\n",
      "When all transplendent one!\n",
      "It is a levee.\n",
      "Sisina\n",
      "\n",
      "\n",
      "   From tumults and sighs!\n",
      "Sweet souls array.\n",
      "Her polished brightens and majesty.\n",
      "However, his open between my face.\n",
      "He has to do my best.\n",
      "Sticking clean it up.\n",
      "I slip on a hot after this violence.\n",
      "The Wine of memory, royal stairs?\n",
      "It is not like the wall.\n",
      "Yet sadness of the nights!\n",
      "It does not so much work.\n",
      "My heart not to feel happy.\n",
      "My soul, more profound.\n",
      "O mouth, with strong tresses!\n",
      "“You’re thing.\n",
      "The sea,\n",
      "   The night....\n",
      "It happening years I’ve been so tired.\n",
      "Within the mirrors of grief?\n",
      "Since the shield and mix paint.\n",
      "We wore plainclothes.\n",
      "--When one is excellent.\n",
      "Within the detail I miss you.”\n"
     ]
    }
   ],
   "source": [
    "for i in range(output_n):\n",
    "    spacing = gen_combo_2.make_short_sentence(50)\n",
    "    print(spacing)"
   ]
  },
  {
   "cell_type": "code",
   "execution_count": 23,
   "metadata": {
    "scrolled": false
   },
   "outputs": [
    {
     "name": "stdout",
     "output_type": "stream",
     "text": [
      "Yea, does thy heart, the mist.\n",
      "We enter urgent, his boredom, something for.\n",
      "What matter wheel.\n",
      "As I am not sleep.\n",
      "Nigger! a kid who didn’t tell he is looking dials.\n",
      "The Wine of memory of eyes.\n",
      "It is meant to tear,\n",
      "   A golden sheaf?\n",
      "Your clothes and wind!\n",
      "Oh, thou regard the soft technology.\n",
      "“I though the night.\n",
      "Within the mirrors of grief?\n",
      "“I’m sorry are you don’t talk.\n",
      "On the shadowed.\n",
      "Beauty\n",
      "\n",
      "\n",
      "   My child!\n",
      "The mental about the dollars into our sight?\n",
      "When Eric pointed yet.\n",
      "Thus, cherish thee now?\n",
      "How vast were too much.\n",
      "She washes her knees.\n",
      "Michelle from its urn?\n",
      "Agile and wan.\n",
      "The Giantess to do what I would be!\n",
      "Thirty pages of undress.\n",
      "Thou delights,\n",
      "   To songs and sighs!\n",
      "I wish, as the streams.\n",
      "In days when I talk.\n",
      "Grandma was a virginity?\n",
      "He glance, not allowed him in a row.\n",
      "Her voice back of books.\n",
      "So let us love,\n",
      "   To inspire!\n"
     ]
    }
   ],
   "source": [
    "for i in range(output_n):\n",
    "    spacing = gen_combo_2.make_short_sentence(50)\n",
    "    print(spacing)"
   ]
  },
  {
   "cell_type": "markdown",
   "metadata": {},
   "source": [
    "### ONE"
   ]
  },
  {
   "cell_type": "code",
   "execution_count": 19,
   "metadata": {
    "scrolled": false
   },
   "outputs": [
    {
     "name": "stdout",
     "output_type": "stream",
     "text": [
      "Within the gulf to our sight?\n",
      "None\n",
      "There is no different.\n",
      "I park the cancer.\n",
      "A few, with cold?\n",
      "Thus, cherish thee now?\n",
      "Her voice would inspire!\n",
      "Or yet with their eyes serene.\n",
      "Within his turn off the sea.\n",
      "He is incident and stern.\n",
      "I hate every availabilities.\n",
      "Thus, cherish thee now?\n",
      "None\n",
      "The Enemy\n",
      "\n",
      "\n",
      "   Oh, friends!\n",
      "We wore plaincloth, and thrives!\n",
      "Sadness rises supreme?\n",
      "None\n",
      "So I sit on his beat.\n",
      "Mists and stern.\n",
      "None\n",
      "My heart like a pall.\n",
      "Sisina\n",
      "\n",
      "\n",
      "   It could engage.\n",
      "Chipotle everybody direction of the wet.\n",
      "None\n",
      "And like a beauty of disbelief.\n",
      "What matter if I want him to paint.\n",
      "How lovely languish so.\n",
      "Because of my child!\n",
      "None\n",
      "And others that blinds.\n"
     ]
    }
   ],
   "source": [
    "for i in range(output_n):\n",
    "    spacing = gen_combo_1.make_short_sentence(50)\n",
    "    print(spacing)"
   ]
  },
  {
   "cell_type": "code",
   "execution_count": 24,
   "metadata": {
    "scrolled": false
   },
   "outputs": [
    {
     "name": "stdout",
     "output_type": "stream",
     "text": [
      "My heart is there.\n",
      "Even me the truck through the dawn!\n",
      "None\n",
      "When all transplendent one!\n",
      "“He got him out of thine eyes and wind!\n",
      "What matter if it was incorrect EDT.\n",
      "Yet sadness of Mistress of the court.\n",
      "None\n",
      "The Wine of memory, royal stairs.\n",
      "The tables and sounds and sighs!\n",
      "Her voice is swift.\n",
      "“I don’t care abounds.\n",
      "None\n",
      "Mists and scent.\n",
      "A few, with cold?\n",
      "None\n",
      "While I dwell and stern.\n",
      "None\n",
      "I wish, as the night....\n",
      "Your clouds that shrine.\n",
      "When I go over again.\n",
      "Yea, light of the court.\n",
      "But the great and masts and anguish so.\n",
      "It is that swarms.\n",
      "“I fell off my shoes.\n",
      "The Death around your brown.\n",
      "She and I told him, too.\n",
      "My heart not a chasm drawn.\n",
      "None\n",
      "Sometime to stay.\n"
     ]
    }
   ],
   "source": [
    "for i in range(output_n):\n",
    "    spacing = gen_combo_1.make_short_sentence(50)\n",
    "    print(spacing)"
   ]
  },
  {
   "cell_type": "code",
   "execution_count": 25,
   "metadata": {
    "scrolled": false
   },
   "outputs": [
    {
     "name": "stdout",
     "output_type": "stream",
     "text": [
      "Owls\n",
      "\n",
      "\n",
      "   It could engage.\n",
      "How distant memorized.\n",
      "None\n",
      "Ye resemble the dawn!\n",
      "Agile and wind!\n",
      "This alliance or if he is disco.\n",
      "The sea is to be words.\n",
      "None\n",
      "O mouth, which exhale!\n",
      "And like the wall.\n",
      "Or yet with strong tresses!\n",
      "None\n",
      "None\n",
      "Yea, does thy heart, the after they muse.\n",
      "I cherished glass.\n",
      "Her voice would cherished glass.\n",
      "The Set of thine eyes there.\n",
      "I open one is less trite.\n",
      "In vain your brown.\n",
      "She asks, and it feels the town.\n",
      "You'd awake and profound.\n",
      "Her voice is such a privately.\n",
      "I leave to get her task.\n",
      "And even thinking sun.\n",
      "Can'st thou, that swarms.\n",
      "None\n",
      "Delights,\n",
      "   Thine eyes.\n",
      "Her voice is swift.\n",
      "Her polished by a car.\n",
      "Within the other respond.\n"
     ]
    }
   ],
   "source": [
    "for i in range(output_n):\n",
    "    spacing = gen_combo_1.make_short_sentence(50)\n",
    "    print(spacing)"
   ]
  },
  {
   "cell_type": "code",
   "execution_count": 27,
   "metadata": {
    "scrolled": false
   },
   "outputs": [
    {
     "name": "stdout",
     "output_type": "stream",
     "text": [
      "All those eyes I divine!\n",
      "The Broken Beloved, and which exhale!\n",
      "Or yet with ecstasy.\n",
      "None\n",
      "Let's, like a pall.\n",
      "Of course you ever there.\n",
      "Oh worms, with cold?\n",
      "Sadness rises supreme?\n",
      "The Set of the azure hive?\n",
      "Sisina\n",
      "\n",
      "\n",
      "   It could engage.\n",
      "I know that destroys.\n",
      "And others me outside her face.\n",
      "None\n",
      "The Set of their eyes.\n",
      "And even thou scourge them.\n",
      "Everyone is home.\n",
      "Sadness rises supreme?\n",
      "Cats\n",
      "\n",
      "\n",
      "   Be wise,\n",
      "   The skies.\n",
      "Evening of my child!\n",
      "How lovely languish so.\n",
      "Of course, the beasts!\n",
      "The tables and with cold?\n",
      "I left skin casing.\n",
      "Or yet with the dawn!\n",
      "All one to my dolls.\n",
      "Mistress,\n",
      "   I would inspire!\n",
      "It happen to be doing better.\n",
      "None\n",
      "And others that repine.\n",
      "I salute her mouth.\n"
     ]
    }
   ],
   "source": [
    "for i in range(output_n):\n",
    "    spacing = gen_combo_1.make_short_sentence(50)\n",
    "    print(spacing)"
   ]
  }
 ],
 "metadata": {
  "kernelspec": {
   "display_name": "Python 3",
   "language": "python",
   "name": "python3"
  },
  "language_info": {
   "codemirror_mode": {
    "name": "ipython",
    "version": 3
   },
   "file_extension": ".py",
   "mimetype": "text/x-python",
   "name": "python",
   "nbconvert_exporter": "python",
   "pygments_lexer": "ipython3",
   "version": "3.8.3"
  }
 },
 "nbformat": 4,
 "nbformat_minor": 4
}
