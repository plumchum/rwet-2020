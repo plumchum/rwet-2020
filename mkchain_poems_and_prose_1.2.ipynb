{
 "cells": [
  {
   "cell_type": "markdown",
   "metadata": {},
   "source": [
    "# my poems + my immortal chapter 1\n",
    "broken down into line breaks"
   ]
  },
  {
   "cell_type": "code",
   "execution_count": 1,
   "metadata": {},
   "outputs": [
    {
     "name": "stdout",
     "output_type": "stream",
     "text": [
      "Requirement already satisfied: markovify in /Users/plummiewummie/opt/anaconda3/lib/python3.8/site-packages (0.8.3)\r\n",
      "Requirement already satisfied: unidecode in /Users/plummiewummie/opt/anaconda3/lib/python3.8/site-packages (from markovify) (1.1.1)\r\n"
     ]
    }
   ],
   "source": [
    "import sys\n",
    "!{sys.executable} -m pip install markovify"
   ]
  },
  {
   "cell_type": "code",
   "execution_count": 2,
   "metadata": {},
   "outputs": [],
   "source": [
    "import markovify"
   ]
  },
  {
   "cell_type": "code",
   "execution_count": 4,
   "metadata": {},
   "outputs": [],
   "source": [
    "poems_txt = open(\"combo-MI-PP-breaks.txt\").read()\n",
    "poems_model = markovify.NewlineText(poems_txt, state_size=1)"
   ]
  },
  {
   "cell_type": "code",
   "execution_count": 5,
   "metadata": {},
   "outputs": [],
   "source": [
    "class LinesByChar(markovify.NewlineText):\n",
    "    def word_split(self, sentence):\n",
    "        return list(sentence)\n",
    "    def word_join(self, words):\n",
    "        return \"\".join(words)"
   ]
  },
  {
   "cell_type": "code",
   "execution_count": 6,
   "metadata": {},
   "outputs": [],
   "source": [
    "poems_char_model = LinesByChar(poems_txt, state_size=4)"
   ]
  },
  {
   "cell_type": "code",
   "execution_count": 9,
   "metadata": {
    "scrolled": false
   },
   "outputs": [
    {
     "name": "stdout",
     "output_type": "stream",
     "text": [
      "between years and rain;\n",
      "entertain spots\n",
      "on thee,\n",
      "by entertain spouse and clogging\n",
      "news! i used to let it grows.\n",
      "i would only and while.\n",
      "anxious. anymore. For them.\n",
      "It is the said shyly.\n",
      "It drives all me anythine people today\n",
      "morning as i countryside at me. I’m also a wife\n"
     ]
    }
   ],
   "source": [
    "for i in range(10):\n",
    "    print(poems_char_model.make_sentence())"
   ]
  },
  {
   "cell_type": "markdown",
   "metadata": {},
   "source": [
    "### hm uh kinda very good?"
   ]
  }
 ],
 "metadata": {
  "kernelspec": {
   "display_name": "Python 3",
   "language": "python",
   "name": "python3"
  },
  "language_info": {
   "codemirror_mode": {
    "name": "ipython",
    "version": 3
   },
   "file_extension": ".py",
   "mimetype": "text/x-python",
   "name": "python",
   "nbconvert_exporter": "python",
   "pygments_lexer": "ipython3",
   "version": "3.8.3"
  }
 },
 "nbformat": 4,
 "nbformat_minor": 4
}
